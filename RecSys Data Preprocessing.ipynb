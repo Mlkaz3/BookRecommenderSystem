{
 "cells": [
  {
   "cell_type": "markdown",
   "metadata": {},
   "source": [
    "# Data Preprocessing"
   ]
  },
  {
   "cell_type": "code",
   "execution_count": 1,
   "metadata": {},
   "outputs": [],
   "source": [
    "# import libraries needed\n",
    "import numpy as np\n",
    "import pandas as pd\n",
    "import matplotlib.pyplot as plt\n",
    "import seaborn as sns\n",
    "%matplotlib inline\n",
    "import warnings\n",
    "warnings.simplefilter(action=\"ignore\", category=FutureWarning)"
   ]
  },
  {
   "cell_type": "code",
   "execution_count": 2,
   "metadata": {},
   "outputs": [],
   "source": [
    "#importing the dataset get from Kaggle \n",
    "books = pd.read_csv (r'C:\\Users\\user\\OneDrive\\Desktop\\Artificial Intelligence\\dataset folder\\books.csv')\n",
    "ratings = pd.read_csv (r'C:\\Users\\user\\OneDrive\\Desktop\\Artificial Intelligence\\dataset folder\\ratings.csv')\n",
    "tags = pd.read_csv (r'C:\\Users\\user\\OneDrive\\Desktop\\Artificial Intelligence\\dataset folder\\tags.csv')\n",
    "bookTags = pd.read_csv (r'C:\\Users\\user\\OneDrive\\Desktop\\Artificial Intelligence\\dataset folder\\book_tags.csv')"
   ]
  },
  {
   "cell_type": "code",
   "execution_count": 3,
   "metadata": {},
   "outputs": [
    {
     "data": {
      "text/html": [
       "<div>\n",
       "<style scoped>\n",
       "    .dataframe tbody tr th:only-of-type {\n",
       "        vertical-align: middle;\n",
       "    }\n",
       "\n",
       "    .dataframe tbody tr th {\n",
       "        vertical-align: top;\n",
       "    }\n",
       "\n",
       "    .dataframe thead th {\n",
       "        text-align: right;\n",
       "    }\n",
       "</style>\n",
       "<table border=\"1\" class=\"dataframe\">\n",
       "  <thead>\n",
       "    <tr style=\"text-align: right;\">\n",
       "      <th></th>\n",
       "      <th>id</th>\n",
       "      <th>book_id</th>\n",
       "      <th>best_book_id</th>\n",
       "      <th>work_id</th>\n",
       "      <th>books_count</th>\n",
       "      <th>isbn</th>\n",
       "      <th>isbn13</th>\n",
       "      <th>authors</th>\n",
       "      <th>original_publication_year</th>\n",
       "      <th>original_title</th>\n",
       "      <th>...</th>\n",
       "      <th>ratings_count</th>\n",
       "      <th>work_ratings_count</th>\n",
       "      <th>work_text_reviews_count</th>\n",
       "      <th>ratings_1</th>\n",
       "      <th>ratings_2</th>\n",
       "      <th>ratings_3</th>\n",
       "      <th>ratings_4</th>\n",
       "      <th>ratings_5</th>\n",
       "      <th>image_url</th>\n",
       "      <th>small_image_url</th>\n",
       "    </tr>\n",
       "  </thead>\n",
       "  <tbody>\n",
       "    <tr>\n",
       "      <th>0</th>\n",
       "      <td>1</td>\n",
       "      <td>2767052</td>\n",
       "      <td>2767052</td>\n",
       "      <td>2792775</td>\n",
       "      <td>272</td>\n",
       "      <td>439023483</td>\n",
       "      <td>9.780439e+12</td>\n",
       "      <td>Suzanne Collins</td>\n",
       "      <td>2008.0</td>\n",
       "      <td>The Hunger Games</td>\n",
       "      <td>...</td>\n",
       "      <td>4780653</td>\n",
       "      <td>4942365</td>\n",
       "      <td>155254</td>\n",
       "      <td>66715</td>\n",
       "      <td>127936</td>\n",
       "      <td>560092</td>\n",
       "      <td>1481305</td>\n",
       "      <td>2706317</td>\n",
       "      <td>https://images.gr-assets.com/books/1447303603m...</td>\n",
       "      <td>https://images.gr-assets.com/books/1447303603s...</td>\n",
       "    </tr>\n",
       "    <tr>\n",
       "      <th>1</th>\n",
       "      <td>2</td>\n",
       "      <td>3</td>\n",
       "      <td>3</td>\n",
       "      <td>4640799</td>\n",
       "      <td>491</td>\n",
       "      <td>439554934</td>\n",
       "      <td>9.780440e+12</td>\n",
       "      <td>J.K. Rowling, Mary GrandPré</td>\n",
       "      <td>1997.0</td>\n",
       "      <td>Harry Potter and the Philosopher's Stone</td>\n",
       "      <td>...</td>\n",
       "      <td>4602479</td>\n",
       "      <td>4800065</td>\n",
       "      <td>75867</td>\n",
       "      <td>75504</td>\n",
       "      <td>101676</td>\n",
       "      <td>455024</td>\n",
       "      <td>1156318</td>\n",
       "      <td>3011543</td>\n",
       "      <td>https://images.gr-assets.com/books/1474154022m...</td>\n",
       "      <td>https://images.gr-assets.com/books/1474154022s...</td>\n",
       "    </tr>\n",
       "    <tr>\n",
       "      <th>2</th>\n",
       "      <td>3</td>\n",
       "      <td>41865</td>\n",
       "      <td>41865</td>\n",
       "      <td>3212258</td>\n",
       "      <td>226</td>\n",
       "      <td>316015849</td>\n",
       "      <td>9.780316e+12</td>\n",
       "      <td>Stephenie Meyer</td>\n",
       "      <td>2005.0</td>\n",
       "      <td>Twilight</td>\n",
       "      <td>...</td>\n",
       "      <td>3866839</td>\n",
       "      <td>3916824</td>\n",
       "      <td>95009</td>\n",
       "      <td>456191</td>\n",
       "      <td>436802</td>\n",
       "      <td>793319</td>\n",
       "      <td>875073</td>\n",
       "      <td>1355439</td>\n",
       "      <td>https://images.gr-assets.com/books/1361039443m...</td>\n",
       "      <td>https://images.gr-assets.com/books/1361039443s...</td>\n",
       "    </tr>\n",
       "    <tr>\n",
       "      <th>3</th>\n",
       "      <td>4</td>\n",
       "      <td>2657</td>\n",
       "      <td>2657</td>\n",
       "      <td>3275794</td>\n",
       "      <td>487</td>\n",
       "      <td>61120081</td>\n",
       "      <td>9.780061e+12</td>\n",
       "      <td>Harper Lee</td>\n",
       "      <td>1960.0</td>\n",
       "      <td>To Kill a Mockingbird</td>\n",
       "      <td>...</td>\n",
       "      <td>3198671</td>\n",
       "      <td>3340896</td>\n",
       "      <td>72586</td>\n",
       "      <td>60427</td>\n",
       "      <td>117415</td>\n",
       "      <td>446835</td>\n",
       "      <td>1001952</td>\n",
       "      <td>1714267</td>\n",
       "      <td>https://images.gr-assets.com/books/1361975680m...</td>\n",
       "      <td>https://images.gr-assets.com/books/1361975680s...</td>\n",
       "    </tr>\n",
       "    <tr>\n",
       "      <th>4</th>\n",
       "      <td>5</td>\n",
       "      <td>4671</td>\n",
       "      <td>4671</td>\n",
       "      <td>245494</td>\n",
       "      <td>1356</td>\n",
       "      <td>743273567</td>\n",
       "      <td>9.780743e+12</td>\n",
       "      <td>F. Scott Fitzgerald</td>\n",
       "      <td>1925.0</td>\n",
       "      <td>The Great Gatsby</td>\n",
       "      <td>...</td>\n",
       "      <td>2683664</td>\n",
       "      <td>2773745</td>\n",
       "      <td>51992</td>\n",
       "      <td>86236</td>\n",
       "      <td>197621</td>\n",
       "      <td>606158</td>\n",
       "      <td>936012</td>\n",
       "      <td>947718</td>\n",
       "      <td>https://images.gr-assets.com/books/1490528560m...</td>\n",
       "      <td>https://images.gr-assets.com/books/1490528560s...</td>\n",
       "    </tr>\n",
       "  </tbody>\n",
       "</table>\n",
       "<p>5 rows × 23 columns</p>\n",
       "</div>"
      ],
      "text/plain": [
       "   id  book_id  best_book_id  work_id  books_count       isbn        isbn13  \\\n",
       "0   1  2767052       2767052  2792775          272  439023483  9.780439e+12   \n",
       "1   2        3             3  4640799          491  439554934  9.780440e+12   \n",
       "2   3    41865         41865  3212258          226  316015849  9.780316e+12   \n",
       "3   4     2657          2657  3275794          487   61120081  9.780061e+12   \n",
       "4   5     4671          4671   245494         1356  743273567  9.780743e+12   \n",
       "\n",
       "                       authors  original_publication_year  \\\n",
       "0              Suzanne Collins                     2008.0   \n",
       "1  J.K. Rowling, Mary GrandPré                     1997.0   \n",
       "2              Stephenie Meyer                     2005.0   \n",
       "3                   Harper Lee                     1960.0   \n",
       "4          F. Scott Fitzgerald                     1925.0   \n",
       "\n",
       "                             original_title  ... ratings_count  \\\n",
       "0                          The Hunger Games  ...       4780653   \n",
       "1  Harry Potter and the Philosopher's Stone  ...       4602479   \n",
       "2                                  Twilight  ...       3866839   \n",
       "3                     To Kill a Mockingbird  ...       3198671   \n",
       "4                          The Great Gatsby  ...       2683664   \n",
       "\n",
       "  work_ratings_count  work_text_reviews_count  ratings_1  ratings_2  \\\n",
       "0            4942365                   155254      66715     127936   \n",
       "1            4800065                    75867      75504     101676   \n",
       "2            3916824                    95009     456191     436802   \n",
       "3            3340896                    72586      60427     117415   \n",
       "4            2773745                    51992      86236     197621   \n",
       "\n",
       "   ratings_3  ratings_4  ratings_5  \\\n",
       "0     560092    1481305    2706317   \n",
       "1     455024    1156318    3011543   \n",
       "2     793319     875073    1355439   \n",
       "3     446835    1001952    1714267   \n",
       "4     606158     936012     947718   \n",
       "\n",
       "                                           image_url  \\\n",
       "0  https://images.gr-assets.com/books/1447303603m...   \n",
       "1  https://images.gr-assets.com/books/1474154022m...   \n",
       "2  https://images.gr-assets.com/books/1361039443m...   \n",
       "3  https://images.gr-assets.com/books/1361975680m...   \n",
       "4  https://images.gr-assets.com/books/1490528560m...   \n",
       "\n",
       "                                     small_image_url  \n",
       "0  https://images.gr-assets.com/books/1447303603s...  \n",
       "1  https://images.gr-assets.com/books/1474154022s...  \n",
       "2  https://images.gr-assets.com/books/1361039443s...  \n",
       "3  https://images.gr-assets.com/books/1361975680s...  \n",
       "4  https://images.gr-assets.com/books/1490528560s...  \n",
       "\n",
       "[5 rows x 23 columns]"
      ]
     },
     "execution_count": 3,
     "metadata": {},
     "output_type": "execute_result"
    }
   ],
   "source": [
    "# display the head of book dataset \n",
    "books.head()"
   ]
  },
  {
   "cell_type": "code",
   "execution_count": 4,
   "metadata": {},
   "outputs": [
    {
     "name": "stdout",
     "output_type": "stream",
     "text": [
      "<class 'pandas.core.frame.DataFrame'>\n",
      "RangeIndex: 10000 entries, 0 to 9999\n",
      "Data columns (total 23 columns):\n",
      " #   Column                     Non-Null Count  Dtype  \n",
      "---  ------                     --------------  -----  \n",
      " 0   id                         10000 non-null  int64  \n",
      " 1   book_id                    10000 non-null  int64  \n",
      " 2   best_book_id               10000 non-null  int64  \n",
      " 3   work_id                    10000 non-null  int64  \n",
      " 4   books_count                10000 non-null  int64  \n",
      " 5   isbn                       9300 non-null   object \n",
      " 6   isbn13                     9415 non-null   float64\n",
      " 7   authors                    10000 non-null  object \n",
      " 8   original_publication_year  9979 non-null   float64\n",
      " 9   original_title             9415 non-null   object \n",
      " 10  title                      10000 non-null  object \n",
      " 11  language_code              8916 non-null   object \n",
      " 12  average_rating             10000 non-null  float64\n",
      " 13  ratings_count              10000 non-null  int64  \n",
      " 14  work_ratings_count         10000 non-null  int64  \n",
      " 15  work_text_reviews_count    10000 non-null  int64  \n",
      " 16  ratings_1                  10000 non-null  int64  \n",
      " 17  ratings_2                  10000 non-null  int64  \n",
      " 18  ratings_3                  10000 non-null  int64  \n",
      " 19  ratings_4                  10000 non-null  int64  \n",
      " 20  ratings_5                  10000 non-null  int64  \n",
      " 21  image_url                  10000 non-null  object \n",
      " 22  small_image_url            10000 non-null  object \n",
      "dtypes: float64(3), int64(13), object(7)\n",
      "memory usage: 1.8+ MB\n"
     ]
    }
   ],
   "source": [
    "# book info\n",
    "books.info()"
   ]
  },
  {
   "cell_type": "code",
   "execution_count": 5,
   "metadata": {},
   "outputs": [],
   "source": [
    "# drop columns that is not using\n",
    "books.drop(['isbn13', 'isbn','original_title','language_code'], axis='columns', inplace=True)"
   ]
  },
  {
   "cell_type": "code",
   "execution_count": 6,
   "metadata": {},
   "outputs": [
    {
     "data": {
      "text/plain": [
       "id                            0\n",
       "book_id                       0\n",
       "best_book_id                  0\n",
       "work_id                       0\n",
       "books_count                   0\n",
       "authors                       0\n",
       "original_publication_year    21\n",
       "title                         0\n",
       "average_rating                0\n",
       "ratings_count                 0\n",
       "work_ratings_count            0\n",
       "work_text_reviews_count       0\n",
       "ratings_1                     0\n",
       "ratings_2                     0\n",
       "ratings_3                     0\n",
       "ratings_4                     0\n",
       "ratings_5                     0\n",
       "image_url                     0\n",
       "small_image_url               0\n",
       "dtype: int64"
      ]
     },
     "execution_count": 6,
     "metadata": {},
     "output_type": "execute_result"
    }
   ],
   "source": [
    "# see if book dataset have any null \n",
    "books.isnull().sum()"
   ]
  },
  {
   "cell_type": "code",
   "execution_count": 7,
   "metadata": {},
   "outputs": [],
   "source": [
    "# replacing the null value in year published with the median\n",
    "books['original_publication_year'] = books['original_publication_year'].replace(np.NaN, books['original_publication_year'].median())"
   ]
  },
  {
   "cell_type": "code",
   "execution_count": 8,
   "metadata": {},
   "outputs": [
    {
     "data": {
      "text/plain": [
       "array([ 2008.,  1997.,  2005.,  1960.,  1925.,  2012.,  1937.,  1951.,\n",
       "        2000.,  1813.,  2003.,  2011.,  1949.,  1945.,  1947.,  2009.,\n",
       "        1999.,  1954.,  2010.,  2002.,  1998.,  2007.,  1595.,  1988.,\n",
       "        1993.,  1950.,  1996.,  2006.,  1868.,  1847.,  2001.,  1953.,\n",
       "        1974.,  1979.,  1932.,  1884.,  1952.,  2015.,  1995.,  2004.,\n",
       "        1969.,  1936.,  1985.,  1818.,  1977.,  1811.,  -720.,  1946.,\n",
       "        1859.,  1990.,  1964.,  1989.,  1958.,  1973.,  1967.,  1911.,\n",
       "        1891.,  1897.,  1963.,  1844.,  2013.,  1862.,  1961.,  1876.,\n",
       "        1962.,  1955.,  1991.,  1600.,  1965.,  1939.,  1908.,  1850.,\n",
       "        2014.,  1606.,  1860.,  1942.,  1978.,  1815.,  1877.,  1986.,\n",
       "        1866.,  1922.,  1987.,  1851.,  1982.,  1843.,  1976.,  1994.,\n",
       "        1915.,  1956.,  1980.,  1865.,  1817.,  1957.,  1926.,  1943.,\n",
       "        1938.,  1966.,  1981.,  2016.,  1992.,  1984.,  1972.,  1882.,\n",
       "        1895.,  1899.,  1983.,  -750.,  1900.,  1975.,  1971.,  1603.,\n",
       "        1929.,  1968.,  1838.,  1903.,  1886.,  1940.,  -500.,  1887.,\n",
       "        1931.,  1611.,  1814.,  1719.,  1513.,  1880.,  1923.,  1869.,\n",
       "        1849.,  1892.,  1904.,  1726.,  1598.,   975.,  1905.,  1935.,\n",
       "        1948.,  1856.,  1759.,  1959.,  1605.,  1901.,  1970.,  1902.,\n",
       "        1390.,  1852.,  1909.,  1920.,  1934.,  1872.,  1894.,  1599.,\n",
       "        -380.,  1593.,  1831.,  1812.,  1623.,  1854.,  -430.,  1596.,\n",
       "        1601.,  1941.,  1906.,  1930.,  1916.,  1871.,  1864.,  1320.,\n",
       "        1667.,  1927.,  1874.,  1918.,  -300.,  1835.,  1883.,  -560.,\n",
       "        1914.,  1308.,  1881.,  1933.,   -17.,  1830.,  1678.,  1848.,\n",
       "        1826.,  1912.,  1853.,  1890.,  -441.,  1928.,  1896.,  1879.,\n",
       "        1819.,  1889.,  1592.,  1855.,  1845.,  1924.,  1944.,  1898.,\n",
       "         800.,  1910.,   180.,  -401., -1750.,   609.,  1919.,  -762.,\n",
       "        1842.,  1774.,  1808.,  -400.,  1861.,  1846.,     8.,  1604.,\n",
       "        1791.,  1516.,  -431.,  1917.,  1833.,  1913.,  1519.,  1798.,\n",
       "        1885.,  1840.,  1273.,   397.,  1834.,  -440.,  1857.,  1782.,\n",
       "        1729.,  1651.,  1722.,  1691.,  1893.,  1591.,  1839.,  1762.,\n",
       "        1787.,  1820.,  -385.,  1645.,  -350.,  1789.,  -458.,  1485.,\n",
       "        -411.,  1353.,  1749.,  1878.,  1776.,  1637.,  1921.,  1781.,\n",
       "        1550.,  -390.,  1664.,  1832.,  2017.,  1641.,  1837.,  1888.,\n",
       "        1418.,  1589.,  1594.,  1120.,  1689.,  1563.,  1597.,  1796.,\n",
       "        1841.,  1767.,  1807.,  1863.,  1907.,  -476.,  1748.,  1666.,\n",
       "        1764.,  1836.,  -330.,   119.,  1867.,  1590.,  1380.,  1554.,\n",
       "        -335.,  1785.,  1532.,  1677.,  1825.])"
      ]
     },
     "execution_count": 8,
     "metadata": {},
     "output_type": "execute_result"
    }
   ],
   "source": [
    "# see the unqiue value of year\n",
    "books.original_publication_year.unique()"
   ]
  },
  {
   "cell_type": "code",
   "execution_count": 9,
   "metadata": {},
   "outputs": [
    {
     "data": {
      "text/plain": [
       "array([2008., 1997., 2005., 1960., 1925., 2012., 1937., 1951., 2000.,\n",
       "       1813., 2003., 2011., 1949., 1945., 1947., 2009., 1999., 1954.,\n",
       "       2010., 2002., 1998., 2007., 1595., 1988., 1993., 1950., 1996.,\n",
       "       2006., 1868., 1847., 2001., 1953., 1974., 1979., 1932., 1884.,\n",
       "       1952., 2015., 1995., 2004., 1969., 1936., 1985., 1818., 1977.,\n",
       "       1811., 1991., 1946., 1859., 1990., 1964., 1989., 1958., 1973.,\n",
       "       1967., 1911., 1891., 1897., 1963., 1844., 2013., 1862., 1961.,\n",
       "       1876., 1962., 1955., 1600., 1965., 1939., 1908., 1850., 2014.,\n",
       "       1606., 1860., 1942., 1978., 1815., 1877., 1986., 1866., 1922.,\n",
       "       1987., 1851., 1982., 1843., 1976., 1994., 1915., 1956., 1980.,\n",
       "       1865., 1817., 1957., 1926., 1943., 1938., 1966., 1981., 2016.,\n",
       "       1992., 1984., 1972., 1882., 1895., 1899., 1983., 1900., 1975.,\n",
       "       1971., 1603., 1929., 1968., 1838., 1903., 1886., 1940., 1887.,\n",
       "       1931., 1611., 1814., 1719., 1513., 1880., 1923., 1869., 1849.,\n",
       "       1892., 1904., 1726., 1598., 1905., 1935., 1948., 1856., 1759.,\n",
       "       1959., 1605., 1901., 1970., 1902., 1390., 1852., 1909., 1920.,\n",
       "       1934., 1872., 1894., 1599., 1593., 1831., 1812., 1623., 1854.,\n",
       "       1596., 1601., 1941., 1906., 1930., 1916., 1871., 1864., 1320.,\n",
       "       1667., 1927., 1874., 1918., 1835., 1883., 1914., 1308., 1881.,\n",
       "       1933., 1830., 1678., 1848., 1826., 1912., 1853., 1890., 1928.,\n",
       "       1896., 1879., 1819., 1889., 1592., 1855., 1845., 1924., 1944.,\n",
       "       1898., 1910., 1919., 1842., 1774., 1808., 1861., 1846., 1604.,\n",
       "       1791., 1516., 1917., 1833., 1913., 1519., 1798., 1885., 1840.,\n",
       "       1834., 1857., 1782., 1729., 1651., 1722., 1691., 1893., 1591.,\n",
       "       1839., 1762., 1787., 1820., 1645., 1789., 1485., 1353., 1749.,\n",
       "       1878., 1776., 1637., 1921., 1781., 1550., 1664., 1832., 2017.,\n",
       "       1641., 1837., 1888., 1418., 1589., 1594., 1689., 1563., 1597.,\n",
       "       1796., 1841., 1767., 1807., 1863., 1907., 1748., 1666., 1764.,\n",
       "       1836., 1867., 1590., 1380., 1554., 1785., 1532., 1677., 1825.])"
      ]
     },
     "execution_count": 9,
     "metadata": {},
     "output_type": "execute_result"
    }
   ],
   "source": [
    "# modify those non-logic year\n",
    "books.loc[(books.original_publication_year > 2021) | (books.original_publication_year < 1300), 'original_publication_year'] = np.NAN\n",
    "books.original_publication_year.fillna(round(books.original_publication_year.mean()), inplace = True)\n",
    "books.original_publication_year.unique()"
   ]
  },
  {
   "cell_type": "code",
   "execution_count": 10,
   "metadata": {},
   "outputs": [
    {
     "data": {
      "text/plain": [
       "False"
      ]
     },
     "execution_count": 10,
     "metadata": {},
     "output_type": "execute_result"
    }
   ],
   "source": [
    "# check if any duplicated \n",
    "books.duplicated().any()"
   ]
  },
  {
   "cell_type": "code",
   "execution_count": 11,
   "metadata": {},
   "outputs": [
    {
     "name": "stdout",
     "output_type": "stream",
     "text": [
      "<class 'pandas.core.frame.DataFrame'>\n",
      "RangeIndex: 10000 entries, 0 to 9999\n",
      "Data columns (total 19 columns):\n",
      " #   Column                     Non-Null Count  Dtype  \n",
      "---  ------                     --------------  -----  \n",
      " 0   id                         10000 non-null  int64  \n",
      " 1   book_id                    10000 non-null  int64  \n",
      " 2   best_book_id               10000 non-null  int64  \n",
      " 3   work_id                    10000 non-null  int64  \n",
      " 4   books_count                10000 non-null  int64  \n",
      " 5   authors                    10000 non-null  object \n",
      " 6   original_publication_year  10000 non-null  float64\n",
      " 7   title                      10000 non-null  object \n",
      " 8   average_rating             10000 non-null  float64\n",
      " 9   ratings_count              10000 non-null  int64  \n",
      " 10  work_ratings_count         10000 non-null  int64  \n",
      " 11  work_text_reviews_count    10000 non-null  int64  \n",
      " 12  ratings_1                  10000 non-null  int64  \n",
      " 13  ratings_2                  10000 non-null  int64  \n",
      " 14  ratings_3                  10000 non-null  int64  \n",
      " 15  ratings_4                  10000 non-null  int64  \n",
      " 16  ratings_5                  10000 non-null  int64  \n",
      " 17  image_url                  10000 non-null  object \n",
      " 18  small_image_url            10000 non-null  object \n",
      "dtypes: float64(2), int64(13), object(4)\n",
      "memory usage: 1.4+ MB\n"
     ]
    }
   ],
   "source": [
    "# book info \n",
    "books.info()"
   ]
  },
  {
   "cell_type": "code",
   "execution_count": 12,
   "metadata": {},
   "outputs": [
    {
     "data": {
      "text/html": [
       "<div>\n",
       "<style scoped>\n",
       "    .dataframe tbody tr th:only-of-type {\n",
       "        vertical-align: middle;\n",
       "    }\n",
       "\n",
       "    .dataframe tbody tr th {\n",
       "        vertical-align: top;\n",
       "    }\n",
       "\n",
       "    .dataframe thead th {\n",
       "        text-align: right;\n",
       "    }\n",
       "</style>\n",
       "<table border=\"1\" class=\"dataframe\">\n",
       "  <thead>\n",
       "    <tr style=\"text-align: right;\">\n",
       "      <th></th>\n",
       "      <th>book_id</th>\n",
       "      <th>user_id</th>\n",
       "      <th>rating</th>\n",
       "    </tr>\n",
       "  </thead>\n",
       "  <tbody>\n",
       "    <tr>\n",
       "      <th>0</th>\n",
       "      <td>1</td>\n",
       "      <td>314</td>\n",
       "      <td>5</td>\n",
       "    </tr>\n",
       "    <tr>\n",
       "      <th>1</th>\n",
       "      <td>1</td>\n",
       "      <td>439</td>\n",
       "      <td>3</td>\n",
       "    </tr>\n",
       "    <tr>\n",
       "      <th>2</th>\n",
       "      <td>1</td>\n",
       "      <td>588</td>\n",
       "      <td>5</td>\n",
       "    </tr>\n",
       "    <tr>\n",
       "      <th>3</th>\n",
       "      <td>1</td>\n",
       "      <td>1169</td>\n",
       "      <td>4</td>\n",
       "    </tr>\n",
       "    <tr>\n",
       "      <th>4</th>\n",
       "      <td>1</td>\n",
       "      <td>1185</td>\n",
       "      <td>4</td>\n",
       "    </tr>\n",
       "  </tbody>\n",
       "</table>\n",
       "</div>"
      ],
      "text/plain": [
       "   book_id  user_id  rating\n",
       "0        1      314       5\n",
       "1        1      439       3\n",
       "2        1      588       5\n",
       "3        1     1169       4\n",
       "4        1     1185       4"
      ]
     },
     "execution_count": 12,
     "metadata": {},
     "output_type": "execute_result"
    }
   ],
   "source": [
    "# ratings dataset \n",
    "ratings.head()"
   ]
  },
  {
   "cell_type": "code",
   "execution_count": 13,
   "metadata": {},
   "outputs": [
    {
     "name": "stdout",
     "output_type": "stream",
     "text": [
      "<class 'pandas.core.frame.DataFrame'>\n",
      "RangeIndex: 981756 entries, 0 to 981755\n",
      "Data columns (total 3 columns):\n",
      " #   Column   Non-Null Count   Dtype\n",
      "---  ------   --------------   -----\n",
      " 0   book_id  981756 non-null  int64\n",
      " 1   user_id  981756 non-null  int64\n",
      " 2   rating   981756 non-null  int64\n",
      "dtypes: int64(3)\n",
      "memory usage: 22.5 MB\n"
     ]
    }
   ],
   "source": [
    "# ratings dataset info\n",
    "ratings.info()"
   ]
  },
  {
   "cell_type": "code",
   "execution_count": 14,
   "metadata": {},
   "outputs": [
    {
     "data": {
      "text/plain": [
       "True"
      ]
     },
     "execution_count": 14,
     "metadata": {},
     "output_type": "execute_result"
    }
   ],
   "source": [
    "# check any duplicated in ratings dataset \n",
    "ratings.duplicated().any()"
   ]
  },
  {
   "cell_type": "code",
   "execution_count": 15,
   "metadata": {},
   "outputs": [],
   "source": [
    "# drop duplicated in ratings\n",
    "ratings = ratings.drop_duplicates()"
   ]
  },
  {
   "cell_type": "code",
   "execution_count": 16,
   "metadata": {},
   "outputs": [
    {
     "name": "stdout",
     "output_type": "stream",
     "text": [
      "<class 'pandas.core.frame.DataFrame'>\n",
      "Int64Index: 980112 entries, 0 to 981755\n",
      "Data columns (total 3 columns):\n",
      " #   Column   Non-Null Count   Dtype\n",
      "---  ------   --------------   -----\n",
      " 0   book_id  980112 non-null  int64\n",
      " 1   user_id  980112 non-null  int64\n",
      " 2   rating   980112 non-null  int64\n",
      "dtypes: int64(3)\n",
      "memory usage: 29.9 MB\n"
     ]
    }
   ],
   "source": [
    "# the updated ratings info\n",
    "ratings.info()"
   ]
  },
  {
   "cell_type": "code",
   "execution_count": 17,
   "metadata": {},
   "outputs": [
    {
     "data": {
      "text/html": [
       "<div>\n",
       "<style scoped>\n",
       "    .dataframe tbody tr th:only-of-type {\n",
       "        vertical-align: middle;\n",
       "    }\n",
       "\n",
       "    .dataframe tbody tr th {\n",
       "        vertical-align: top;\n",
       "    }\n",
       "\n",
       "    .dataframe thead th {\n",
       "        text-align: right;\n",
       "    }\n",
       "</style>\n",
       "<table border=\"1\" class=\"dataframe\">\n",
       "  <thead>\n",
       "    <tr style=\"text-align: right;\">\n",
       "      <th></th>\n",
       "      <th>tag_id</th>\n",
       "      <th>tag_name</th>\n",
       "    </tr>\n",
       "  </thead>\n",
       "  <tbody>\n",
       "    <tr>\n",
       "      <th>0</th>\n",
       "      <td>0</td>\n",
       "      <td>-</td>\n",
       "    </tr>\n",
       "    <tr>\n",
       "      <th>1</th>\n",
       "      <td>1</td>\n",
       "      <td>--1-</td>\n",
       "    </tr>\n",
       "    <tr>\n",
       "      <th>2</th>\n",
       "      <td>2</td>\n",
       "      <td>--10-</td>\n",
       "    </tr>\n",
       "    <tr>\n",
       "      <th>3</th>\n",
       "      <td>3</td>\n",
       "      <td>--12-</td>\n",
       "    </tr>\n",
       "    <tr>\n",
       "      <th>4</th>\n",
       "      <td>4</td>\n",
       "      <td>--122-</td>\n",
       "    </tr>\n",
       "  </tbody>\n",
       "</table>\n",
       "</div>"
      ],
      "text/plain": [
       "   tag_id tag_name\n",
       "0       0        -\n",
       "1       1     --1-\n",
       "2       2    --10-\n",
       "3       3    --12-\n",
       "4       4   --122-"
      ]
     },
     "execution_count": 17,
     "metadata": {},
     "output_type": "execute_result"
    }
   ],
   "source": [
    "# tags dataset\n",
    "tags.head()"
   ]
  },
  {
   "cell_type": "code",
   "execution_count": 18,
   "metadata": {},
   "outputs": [
    {
     "name": "stdout",
     "output_type": "stream",
     "text": [
      "<class 'pandas.core.frame.DataFrame'>\n",
      "RangeIndex: 34252 entries, 0 to 34251\n",
      "Data columns (total 2 columns):\n",
      " #   Column    Non-Null Count  Dtype \n",
      "---  ------    --------------  ----- \n",
      " 0   tag_id    34252 non-null  int64 \n",
      " 1   tag_name  34252 non-null  object\n",
      "dtypes: int64(1), object(1)\n",
      "memory usage: 535.3+ KB\n"
     ]
    }
   ],
   "source": [
    "# tags dataset info\n",
    "tags.info()"
   ]
  },
  {
   "cell_type": "code",
   "execution_count": 19,
   "metadata": {},
   "outputs": [
    {
     "data": {
      "text/plain": [
       "False"
      ]
     },
     "execution_count": 19,
     "metadata": {},
     "output_type": "execute_result"
    }
   ],
   "source": [
    "# check any duplicated in tags dataset\n",
    "tags.duplicated().any()"
   ]
  },
  {
   "cell_type": "code",
   "execution_count": 20,
   "metadata": {},
   "outputs": [
    {
     "data": {
      "text/html": [
       "<div>\n",
       "<style scoped>\n",
       "    .dataframe tbody tr th:only-of-type {\n",
       "        vertical-align: middle;\n",
       "    }\n",
       "\n",
       "    .dataframe tbody tr th {\n",
       "        vertical-align: top;\n",
       "    }\n",
       "\n",
       "    .dataframe thead th {\n",
       "        text-align: right;\n",
       "    }\n",
       "</style>\n",
       "<table border=\"1\" class=\"dataframe\">\n",
       "  <thead>\n",
       "    <tr style=\"text-align: right;\">\n",
       "      <th></th>\n",
       "      <th>goodreads_book_id</th>\n",
       "      <th>tag_id</th>\n",
       "      <th>count</th>\n",
       "    </tr>\n",
       "  </thead>\n",
       "  <tbody>\n",
       "    <tr>\n",
       "      <th>0</th>\n",
       "      <td>1</td>\n",
       "      <td>30574</td>\n",
       "      <td>167697</td>\n",
       "    </tr>\n",
       "    <tr>\n",
       "      <th>1</th>\n",
       "      <td>1</td>\n",
       "      <td>11305</td>\n",
       "      <td>37174</td>\n",
       "    </tr>\n",
       "    <tr>\n",
       "      <th>2</th>\n",
       "      <td>1</td>\n",
       "      <td>11557</td>\n",
       "      <td>34173</td>\n",
       "    </tr>\n",
       "    <tr>\n",
       "      <th>3</th>\n",
       "      <td>1</td>\n",
       "      <td>8717</td>\n",
       "      <td>12986</td>\n",
       "    </tr>\n",
       "    <tr>\n",
       "      <th>4</th>\n",
       "      <td>1</td>\n",
       "      <td>33114</td>\n",
       "      <td>12716</td>\n",
       "    </tr>\n",
       "  </tbody>\n",
       "</table>\n",
       "</div>"
      ],
      "text/plain": [
       "   goodreads_book_id  tag_id   count\n",
       "0                  1   30574  167697\n",
       "1                  1   11305   37174\n",
       "2                  1   11557   34173\n",
       "3                  1    8717   12986\n",
       "4                  1   33114   12716"
      ]
     },
     "execution_count": 20,
     "metadata": {},
     "output_type": "execute_result"
    }
   ],
   "source": [
    "# bookTags dataset \n",
    "bookTags.head()"
   ]
  },
  {
   "cell_type": "code",
   "execution_count": 21,
   "metadata": {},
   "outputs": [
    {
     "name": "stdout",
     "output_type": "stream",
     "text": [
      "<class 'pandas.core.frame.DataFrame'>\n",
      "RangeIndex: 999912 entries, 0 to 999911\n",
      "Data columns (total 3 columns):\n",
      " #   Column             Non-Null Count   Dtype\n",
      "---  ------             --------------   -----\n",
      " 0   goodreads_book_id  999912 non-null  int64\n",
      " 1   tag_id             999912 non-null  int64\n",
      " 2   count              999912 non-null  int64\n",
      "dtypes: int64(3)\n",
      "memory usage: 22.9 MB\n"
     ]
    }
   ],
   "source": [
    "# bookTags dataset info \n",
    "bookTags.info()"
   ]
  },
  {
   "cell_type": "code",
   "execution_count": 22,
   "metadata": {},
   "outputs": [
    {
     "data": {
      "text/plain": [
       "True"
      ]
     },
     "execution_count": 22,
     "metadata": {},
     "output_type": "execute_result"
    }
   ],
   "source": [
    "# check any duplicated in bookTags\n",
    "bookTags.duplicated().any()"
   ]
  },
  {
   "cell_type": "code",
   "execution_count": 23,
   "metadata": {},
   "outputs": [],
   "source": [
    "# drop the duplicates in bookTags\n",
    "bookTags = bookTags.drop_duplicates()"
   ]
  },
  {
   "cell_type": "markdown",
   "metadata": {},
   "source": [
    "## Data Understanding and Data Visualization"
   ]
  },
  {
   "cell_type": "code",
   "execution_count": 24,
   "metadata": {},
   "outputs": [
    {
     "name": "stdout",
     "output_type": "stream",
     "text": [
      "Total records :  10000\n",
      "Number of books : 10000\n",
      "Number of titles : 9964\n",
      "Number of authors : 4664\n",
      "Number of average rating : 184\n",
      "Number of publication years : 261\n"
     ]
    }
   ],
   "source": [
    "print(\"Total records : \",len(books))\n",
    "print(\"Number of books : {0}\".format(len(books.book_id.unique())))\n",
    "print(\"Number of titles : {0}\".format(len(books.title.unique())))\n",
    "print(\"Number of authors : {0}\".format(len(books.authors.unique())))\n",
    "print(\"Number of average rating : {0}\".format(len(books.average_rating.unique())))\n",
    "print(\"Number of publication years : {0}\".format(len(books.original_publication_year.unique())))"
   ]
  },
  {
   "cell_type": "code",
   "execution_count": 25,
   "metadata": {},
   "outputs": [
    {
     "data": {
      "text/html": [
       "<div>\n",
       "<style scoped>\n",
       "    .dataframe tbody tr th:only-of-type {\n",
       "        vertical-align: middle;\n",
       "    }\n",
       "\n",
       "    .dataframe tbody tr th {\n",
       "        vertical-align: top;\n",
       "    }\n",
       "\n",
       "    .dataframe thead th {\n",
       "        text-align: right;\n",
       "    }\n",
       "</style>\n",
       "<table border=\"1\" class=\"dataframe\">\n",
       "  <thead>\n",
       "    <tr style=\"text-align: right;\">\n",
       "      <th></th>\n",
       "      <th>id</th>\n",
       "      <th>book_id</th>\n",
       "      <th>best_book_id</th>\n",
       "      <th>work_id</th>\n",
       "      <th>books_count</th>\n",
       "      <th>authors</th>\n",
       "      <th>original_publication_year</th>\n",
       "      <th>title</th>\n",
       "      <th>average_rating</th>\n",
       "      <th>ratings_count</th>\n",
       "      <th>...</th>\n",
       "      <th>work_text_reviews_count</th>\n",
       "      <th>ratings_1</th>\n",
       "      <th>ratings_2</th>\n",
       "      <th>ratings_3</th>\n",
       "      <th>ratings_4</th>\n",
       "      <th>ratings_5</th>\n",
       "      <th>image_url</th>\n",
       "      <th>small_image_url</th>\n",
       "      <th>user_id</th>\n",
       "      <th>rating</th>\n",
       "    </tr>\n",
       "  </thead>\n",
       "  <tbody>\n",
       "    <tr>\n",
       "      <th>0</th>\n",
       "      <td>2</td>\n",
       "      <td>3</td>\n",
       "      <td>3</td>\n",
       "      <td>4640799</td>\n",
       "      <td>491</td>\n",
       "      <td>J.K. Rowling, Mary GrandPré</td>\n",
       "      <td>1997.0</td>\n",
       "      <td>Harry Potter and the Sorcerer's Stone (Harry P...</td>\n",
       "      <td>4.44</td>\n",
       "      <td>4602479</td>\n",
       "      <td>...</td>\n",
       "      <td>75867</td>\n",
       "      <td>75504</td>\n",
       "      <td>101676</td>\n",
       "      <td>455024</td>\n",
       "      <td>1156318</td>\n",
       "      <td>3011543</td>\n",
       "      <td>https://images.gr-assets.com/books/1474154022m...</td>\n",
       "      <td>https://images.gr-assets.com/books/1474154022s...</td>\n",
       "      <td>314</td>\n",
       "      <td>3</td>\n",
       "    </tr>\n",
       "    <tr>\n",
       "      <th>1</th>\n",
       "      <td>2</td>\n",
       "      <td>3</td>\n",
       "      <td>3</td>\n",
       "      <td>4640799</td>\n",
       "      <td>491</td>\n",
       "      <td>J.K. Rowling, Mary GrandPré</td>\n",
       "      <td>1997.0</td>\n",
       "      <td>Harry Potter and the Sorcerer's Stone (Harry P...</td>\n",
       "      <td>4.44</td>\n",
       "      <td>4602479</td>\n",
       "      <td>...</td>\n",
       "      <td>75867</td>\n",
       "      <td>75504</td>\n",
       "      <td>101676</td>\n",
       "      <td>455024</td>\n",
       "      <td>1156318</td>\n",
       "      <td>3011543</td>\n",
       "      <td>https://images.gr-assets.com/books/1474154022m...</td>\n",
       "      <td>https://images.gr-assets.com/books/1474154022s...</td>\n",
       "      <td>588</td>\n",
       "      <td>1</td>\n",
       "    </tr>\n",
       "    <tr>\n",
       "      <th>2</th>\n",
       "      <td>2</td>\n",
       "      <td>3</td>\n",
       "      <td>3</td>\n",
       "      <td>4640799</td>\n",
       "      <td>491</td>\n",
       "      <td>J.K. Rowling, Mary GrandPré</td>\n",
       "      <td>1997.0</td>\n",
       "      <td>Harry Potter and the Sorcerer's Stone (Harry P...</td>\n",
       "      <td>4.44</td>\n",
       "      <td>4602479</td>\n",
       "      <td>...</td>\n",
       "      <td>75867</td>\n",
       "      <td>75504</td>\n",
       "      <td>101676</td>\n",
       "      <td>455024</td>\n",
       "      <td>1156318</td>\n",
       "      <td>3011543</td>\n",
       "      <td>https://images.gr-assets.com/books/1474154022m...</td>\n",
       "      <td>https://images.gr-assets.com/books/1474154022s...</td>\n",
       "      <td>2077</td>\n",
       "      <td>2</td>\n",
       "    </tr>\n",
       "    <tr>\n",
       "      <th>3</th>\n",
       "      <td>2</td>\n",
       "      <td>3</td>\n",
       "      <td>3</td>\n",
       "      <td>4640799</td>\n",
       "      <td>491</td>\n",
       "      <td>J.K. Rowling, Mary GrandPré</td>\n",
       "      <td>1997.0</td>\n",
       "      <td>Harry Potter and the Sorcerer's Stone (Harry P...</td>\n",
       "      <td>4.44</td>\n",
       "      <td>4602479</td>\n",
       "      <td>...</td>\n",
       "      <td>75867</td>\n",
       "      <td>75504</td>\n",
       "      <td>101676</td>\n",
       "      <td>455024</td>\n",
       "      <td>1156318</td>\n",
       "      <td>3011543</td>\n",
       "      <td>https://images.gr-assets.com/books/1474154022m...</td>\n",
       "      <td>https://images.gr-assets.com/books/1474154022s...</td>\n",
       "      <td>2487</td>\n",
       "      <td>3</td>\n",
       "    </tr>\n",
       "    <tr>\n",
       "      <th>4</th>\n",
       "      <td>2</td>\n",
       "      <td>3</td>\n",
       "      <td>3</td>\n",
       "      <td>4640799</td>\n",
       "      <td>491</td>\n",
       "      <td>J.K. Rowling, Mary GrandPré</td>\n",
       "      <td>1997.0</td>\n",
       "      <td>Harry Potter and the Sorcerer's Stone (Harry P...</td>\n",
       "      <td>4.44</td>\n",
       "      <td>4602479</td>\n",
       "      <td>...</td>\n",
       "      <td>75867</td>\n",
       "      <td>75504</td>\n",
       "      <td>101676</td>\n",
       "      <td>455024</td>\n",
       "      <td>1156318</td>\n",
       "      <td>3011543</td>\n",
       "      <td>https://images.gr-assets.com/books/1474154022m...</td>\n",
       "      <td>https://images.gr-assets.com/books/1474154022s...</td>\n",
       "      <td>2900</td>\n",
       "      <td>3</td>\n",
       "    </tr>\n",
       "  </tbody>\n",
       "</table>\n",
       "<p>5 rows × 21 columns</p>\n",
       "</div>"
      ],
      "text/plain": [
       "   id  book_id  best_book_id  work_id  books_count  \\\n",
       "0   2        3             3  4640799          491   \n",
       "1   2        3             3  4640799          491   \n",
       "2   2        3             3  4640799          491   \n",
       "3   2        3             3  4640799          491   \n",
       "4   2        3             3  4640799          491   \n",
       "\n",
       "                       authors  original_publication_year  \\\n",
       "0  J.K. Rowling, Mary GrandPré                     1997.0   \n",
       "1  J.K. Rowling, Mary GrandPré                     1997.0   \n",
       "2  J.K. Rowling, Mary GrandPré                     1997.0   \n",
       "3  J.K. Rowling, Mary GrandPré                     1997.0   \n",
       "4  J.K. Rowling, Mary GrandPré                     1997.0   \n",
       "\n",
       "                                               title  average_rating  \\\n",
       "0  Harry Potter and the Sorcerer's Stone (Harry P...            4.44   \n",
       "1  Harry Potter and the Sorcerer's Stone (Harry P...            4.44   \n",
       "2  Harry Potter and the Sorcerer's Stone (Harry P...            4.44   \n",
       "3  Harry Potter and the Sorcerer's Stone (Harry P...            4.44   \n",
       "4  Harry Potter and the Sorcerer's Stone (Harry P...            4.44   \n",
       "\n",
       "   ratings_count  ...  work_text_reviews_count  ratings_1  ratings_2  \\\n",
       "0        4602479  ...                    75867      75504     101676   \n",
       "1        4602479  ...                    75867      75504     101676   \n",
       "2        4602479  ...                    75867      75504     101676   \n",
       "3        4602479  ...                    75867      75504     101676   \n",
       "4        4602479  ...                    75867      75504     101676   \n",
       "\n",
       "   ratings_3  ratings_4  ratings_5  \\\n",
       "0     455024    1156318    3011543   \n",
       "1     455024    1156318    3011543   \n",
       "2     455024    1156318    3011543   \n",
       "3     455024    1156318    3011543   \n",
       "4     455024    1156318    3011543   \n",
       "\n",
       "                                           image_url  \\\n",
       "0  https://images.gr-assets.com/books/1474154022m...   \n",
       "1  https://images.gr-assets.com/books/1474154022m...   \n",
       "2  https://images.gr-assets.com/books/1474154022m...   \n",
       "3  https://images.gr-assets.com/books/1474154022m...   \n",
       "4  https://images.gr-assets.com/books/1474154022m...   \n",
       "\n",
       "                                     small_image_url user_id  rating  \n",
       "0  https://images.gr-assets.com/books/1474154022s...     314       3  \n",
       "1  https://images.gr-assets.com/books/1474154022s...     588       1  \n",
       "2  https://images.gr-assets.com/books/1474154022s...    2077       2  \n",
       "3  https://images.gr-assets.com/books/1474154022s...    2487       3  \n",
       "4  https://images.gr-assets.com/books/1474154022s...    2900       3  \n",
       "\n",
       "[5 rows x 21 columns]"
      ]
     },
     "execution_count": 25,
     "metadata": {},
     "output_type": "execute_result"
    }
   ],
   "source": [
    "data = pd.merge(books,ratings,on='book_id', how='inner')\n",
    "data.head()"
   ]
  },
  {
   "cell_type": "code",
   "execution_count": 26,
   "metadata": {},
   "outputs": [
    {
     "data": {
      "image/png": "[encoded data removed]",
      "text/plain": [
       "<Figure size 720x360 with 1 Axes>"
      ]
     },
     "metadata": {
      "needs_background": "light"
     },
     "output_type": "display_data"
    }
   ],
   "source": [
    "# rating 1 to 5 with it's frequency\n",
    "# Plotting a bar graph of the rating frequency for each ratings\n",
    "# in the column 'rating'\n",
    "rating_count  = data['rating'].value_counts()\n",
    "rating_count = rating_count[:,]\n",
    "plt.figure(figsize=(10,5))\n",
    "sns.barplot(rating_count.index, rating_count.values, alpha=0.8, palette=\"icefire\")\n",
    "plt.title('Books Rating Frequency')\n",
    "plt.ylabel('Frequency', fontsize=12)\n",
    "plt.xlabel('Ratings', fontsize=12)\n",
    "plt.show()"
   ]
  },
  {
   "cell_type": "code",
   "execution_count": 27,
   "metadata": {},
   "outputs": [
    {
     "data": {
      "image/png": "[encoded data removed]",
      "text/plain": [
       "<Figure size 1440x360 with 1 Axes>"
      ]
     },
     "metadata": {
      "needs_background": "light"
     },
     "output_type": "display_data"
    }
   ],
   "source": [
    "# rating 1 to 5 with it's frequency\n",
    "# Plotting a bar graph of the rating frequency for each ratings\n",
    "# in the column 'rating'\n",
    "rating_count  = data['user_id'].value_counts()\n",
    "rating_count = rating_count.sort_values(ascending=False)[:10,]\n",
    "plt.figure(figsize=(20,5))\n",
    "sns.barplot(rating_count.index, rating_count.values, alpha=0.8, palette=\"gnuplot_r\")\n",
    "plt.title('User and Ratings')\n",
    "plt.ylabel('Frequency', fontsize=12)\n",
    "plt.xlabel('User Id', fontsize=12)\n",
    "plt.show()"
   ]
  },
  {
   "cell_type": "code",
   "execution_count": 28,
   "metadata": {},
   "outputs": [
    {
     "name": "stdout",
     "output_type": "stream",
     "text": [
      "The books being rated \"5\" in the records count\n"
     ]
    },
    {
     "data": {
      "text/html": [
       "<div>\n",
       "<style scoped>\n",
       "    .dataframe tbody tr th:only-of-type {\n",
       "        vertical-align: middle;\n",
       "    }\n",
       "\n",
       "    .dataframe tbody tr th {\n",
       "        vertical-align: top;\n",
       "    }\n",
       "\n",
       "    .dataframe thead th {\n",
       "        text-align: right;\n",
       "    }\n",
       "</style>\n",
       "<table border=\"1\" class=\"dataframe\">\n",
       "  <thead>\n",
       "    <tr style=\"text-align: right;\">\n",
       "      <th></th>\n",
       "      <th>title</th>\n",
       "      <th>number of rating 5</th>\n",
       "    </tr>\n",
       "  </thead>\n",
       "  <tbody>\n",
       "    <tr>\n",
       "      <th>0</th>\n",
       "      <td>Still Life with Woodpecker</td>\n",
       "      <td>79</td>\n",
       "    </tr>\n",
       "    <tr>\n",
       "      <th>1</th>\n",
       "      <td>The Beautiful and Damned</td>\n",
       "      <td>75</td>\n",
       "    </tr>\n",
       "    <tr>\n",
       "      <th>2</th>\n",
       "      <td>The Adventures of Huckleberry Finn</td>\n",
       "      <td>69</td>\n",
       "    </tr>\n",
       "    <tr>\n",
       "      <th>3</th>\n",
       "      <td>Hard Times</td>\n",
       "      <td>65</td>\n",
       "    </tr>\n",
       "    <tr>\n",
       "      <th>4</th>\n",
       "      <td>Villa Incognito</td>\n",
       "      <td>65</td>\n",
       "    </tr>\n",
       "  </tbody>\n",
       "</table>\n",
       "</div>"
      ],
      "text/plain": [
       "                                title  number of rating 5\n",
       "0          Still Life with Woodpecker                  79\n",
       "1            The Beautiful and Damned                  75\n",
       "2  The Adventures of Huckleberry Finn                  69\n",
       "3                          Hard Times                  65\n",
       "4                     Villa Incognito                  65"
      ]
     },
     "execution_count": 28,
     "metadata": {},
     "output_type": "execute_result"
    }
   ],
   "source": [
    "#Top 5 highest rated books out of all\n",
    "print(\"The books being rated \\\"5\\\" in the records count\")\n",
    "books = data.groupby('title')['rating'].apply(lambda x: x[x == 5].count()).sort_values(ascending=False)\n",
    "books = pd.DataFrame({'title': books.index, 'number of rating 5': books.values})[0:5]\n",
    "books"
   ]
  },
  {
   "cell_type": "code",
   "execution_count": 29,
   "metadata": {},
   "outputs": [
    {
     "data": {
      "image/png": "[encoded data removed]",
      "text/plain": [
       "<Figure size 1440x360 with 1 Axes>"
      ]
     },
     "metadata": {
      "needs_background": "light"
     },
     "output_type": "display_data"
    }
   ],
   "source": [
    "#plotting\n",
    "books_plot = data.groupby('title')['rating'].apply(lambda x: x[x == 5].count()).sort_values(ascending=False)[0:5]\n",
    "plt.figure(figsize=(20,5))\n",
    "sns.barplot(books_plot.index, books_plot.values, alpha=0.8, palette=(\"ocean_r\"))\n",
    "plt.title('Top Books')\n",
    "plt.ylabel('5 Star Rating Frequency', fontsize=12)\n",
    "plt.xlabel('Book Title', fontsize=12)\n",
    "plt.show()"
   ]
  },
  {
   "cell_type": "code",
   "execution_count": 30,
   "metadata": {},
   "outputs": [
    {
     "name": "stdout",
     "output_type": "stream",
     "text": [
      "The authors being rated \"5\" in the records count\n"
     ]
    },
    {
     "data": {
      "text/html": [
       "<div>\n",
       "<style scoped>\n",
       "    .dataframe tbody tr th:only-of-type {\n",
       "        vertical-align: middle;\n",
       "    }\n",
       "\n",
       "    .dataframe tbody tr th {\n",
       "        vertical-align: top;\n",
       "    }\n",
       "\n",
       "    .dataframe thead th {\n",
       "        text-align: right;\n",
       "    }\n",
       "</style>\n",
       "<table border=\"1\" class=\"dataframe\">\n",
       "  <thead>\n",
       "    <tr style=\"text-align: right;\">\n",
       "      <th></th>\n",
       "      <th>authors</th>\n",
       "      <th>number of rating 5</th>\n",
       "    </tr>\n",
       "  </thead>\n",
       "  <tbody>\n",
       "    <tr>\n",
       "      <th>0</th>\n",
       "      <td>Kurt Vonnegut Jr.</td>\n",
       "      <td>525</td>\n",
       "    </tr>\n",
       "    <tr>\n",
       "      <th>1</th>\n",
       "      <td>John Grisham</td>\n",
       "      <td>486</td>\n",
       "    </tr>\n",
       "    <tr>\n",
       "      <th>2</th>\n",
       "      <td>Michael Crichton</td>\n",
       "      <td>353</td>\n",
       "    </tr>\n",
       "    <tr>\n",
       "      <th>3</th>\n",
       "      <td>Darren Shan</td>\n",
       "      <td>352</td>\n",
       "    </tr>\n",
       "    <tr>\n",
       "      <th>4</th>\n",
       "      <td>Janet Evanovich</td>\n",
       "      <td>350</td>\n",
       "    </tr>\n",
       "  </tbody>\n",
       "</table>\n",
       "</div>"
      ],
      "text/plain": [
       "             authors  number of rating 5\n",
       "0  Kurt Vonnegut Jr.                 525\n",
       "1       John Grisham                 486\n",
       "2   Michael Crichton                 353\n",
       "3        Darren Shan                 352\n",
       "4    Janet Evanovich                 350"
      ]
     },
     "execution_count": 30,
     "metadata": {},
     "output_type": "execute_result"
    }
   ],
   "source": [
    "#Top 5 high rated authors \n",
    "print(\"The authors being rated \\\"5\\\" in the records count\")\n",
    "authors = data.groupby('authors')['rating'].apply(lambda x: x[x == 5].count()).sort_values(ascending=False)\n",
    "authors = pd.DataFrame({'authors': authors.index, 'number of rating 5': authors.values})[0:5]\n",
    "authors"
   ]
  },
  {
   "cell_type": "code",
   "execution_count": 31,
   "metadata": {},
   "outputs": [
    {
     "data": {
      "image/png": "[encoded data removed]",
      "text/plain": [
       "<Figure size 1440x360 with 1 Axes>"
      ]
     },
     "metadata": {
      "needs_background": "light"
     },
     "output_type": "display_data"
    }
   ],
   "source": [
    "#plotting\n",
    "authors_plot = data.groupby('authors')['rating'].apply(lambda x: x[x == 5].count()).sort_values(ascending=False)[0:5]\n",
    "plt.figure(figsize=(20,5))\n",
    "sns.barplot(authors_plot.index, authors_plot.values, alpha=0.8, palette=(\"autumn\"))\n",
    "plt.title('Top Authors')\n",
    "plt.ylabel('5 Star Rating Frequency', fontsize=12)\n",
    "plt.xlabel('Authors', fontsize=12)\n",
    "plt.show()"
   ]
  },
  {
   "cell_type": "code",
   "execution_count": 32,
   "metadata": {},
   "outputs": [
    {
     "name": "stdout",
     "output_type": "stream",
     "text": [
      "The years published being rated \"5\" in the records count\n"
     ]
    },
    {
     "data": {
      "text/html": [
       "<div>\n",
       "<style scoped>\n",
       "    .dataframe tbody tr th:only-of-type {\n",
       "        vertical-align: middle;\n",
       "    }\n",
       "\n",
       "    .dataframe tbody tr th {\n",
       "        vertical-align: top;\n",
       "    }\n",
       "\n",
       "    .dataframe thead th {\n",
       "        text-align: right;\n",
       "    }\n",
       "</style>\n",
       "<table border=\"1\" class=\"dataframe\">\n",
       "  <thead>\n",
       "    <tr style=\"text-align: right;\">\n",
       "      <th></th>\n",
       "      <th>original_publication_year</th>\n",
       "      <th>number of rating 5</th>\n",
       "    </tr>\n",
       "  </thead>\n",
       "  <tbody>\n",
       "    <tr>\n",
       "      <th>0</th>\n",
       "      <td>2005.0</td>\n",
       "      <td>1409</td>\n",
       "    </tr>\n",
       "    <tr>\n",
       "      <th>1</th>\n",
       "      <td>2003.0</td>\n",
       "      <td>1179</td>\n",
       "    </tr>\n",
       "    <tr>\n",
       "      <th>2</th>\n",
       "      <td>2001.0</td>\n",
       "      <td>1162</td>\n",
       "    </tr>\n",
       "    <tr>\n",
       "      <th>3</th>\n",
       "      <td>2002.0</td>\n",
       "      <td>1044</td>\n",
       "    </tr>\n",
       "    <tr>\n",
       "      <th>4</th>\n",
       "      <td>2000.0</td>\n",
       "      <td>1037</td>\n",
       "    </tr>\n",
       "  </tbody>\n",
       "</table>\n",
       "</div>"
      ],
      "text/plain": [
       "   original_publication_year  number of rating 5\n",
       "0                     2005.0                1409\n",
       "1                     2003.0                1179\n",
       "2                     2001.0                1162\n",
       "3                     2002.0                1044\n",
       "4                     2000.0                1037"
      ]
     },
     "execution_count": 32,
     "metadata": {},
     "output_type": "execute_result"
    }
   ],
   "source": [
    "#Top 5 high rated years book\n",
    "print(\"The years published being rated \\\"5\\\" in the records count\")\n",
    "years = data.groupby('original_publication_year')['rating'].apply(lambda x: x[x == 5].count()).sort_values(ascending=False)\n",
    "years = pd.DataFrame({'original_publication_year': years.index, 'number of rating 5': years.values})[0:5]\n",
    "years"
   ]
  },
  {
   "cell_type": "code",
   "execution_count": 33,
   "metadata": {},
   "outputs": [
    {
     "name": "stdout",
     "output_type": "stream",
     "text": [
      "<class 'pandas.core.frame.DataFrame'>\n",
      "Int64Index: 79583 entries, 0 to 79582\n",
      "Data columns (total 2 columns):\n",
      " #   Column  Non-Null Count  Dtype \n",
      "---  ------  --------------  ----- \n",
      " 0   title   79583 non-null  object\n",
      " 1   rating  79583 non-null  int64 \n",
      "dtypes: int64(1), object(1)\n",
      "memory usage: 1.8+ MB\n"
     ]
    }
   ],
   "source": [
    "#calculate the mean of book\n",
    "columns = ['title','rating']\n",
    "mean_ratings = pd.DataFrame(data, columns=columns)\n",
    "mean_ratings.info()"
   ]
  },
  {
   "cell_type": "code",
   "execution_count": 34,
   "metadata": {},
   "outputs": [
    {
     "data": {
      "text/html": [
       "<div>\n",
       "<style scoped>\n",
       "    .dataframe tbody tr th:only-of-type {\n",
       "        vertical-align: middle;\n",
       "    }\n",
       "\n",
       "    .dataframe tbody tr th {\n",
       "        vertical-align: top;\n",
       "    }\n",
       "\n",
       "    .dataframe thead th {\n",
       "        text-align: right;\n",
       "    }\n",
       "</style>\n",
       "<table border=\"1\" class=\"dataframe\">\n",
       "  <thead>\n",
       "    <tr style=\"text-align: right;\">\n",
       "      <th></th>\n",
       "      <th>rating</th>\n",
       "    </tr>\n",
       "    <tr>\n",
       "      <th>title</th>\n",
       "      <th></th>\n",
       "    </tr>\n",
       "  </thead>\n",
       "  <tbody>\n",
       "    <tr>\n",
       "      <th>'Salem's Lot</th>\n",
       "      <td>3.932432</td>\n",
       "    </tr>\n",
       "    <tr>\n",
       "      <th>'Tis (Frank McCourt, #2)</th>\n",
       "      <td>3.959596</td>\n",
       "    </tr>\n",
       "    <tr>\n",
       "      <th>1421: The Year China Discovered America</th>\n",
       "      <td>3.734694</td>\n",
       "    </tr>\n",
       "    <tr>\n",
       "      <th>1776</th>\n",
       "      <td>3.930000</td>\n",
       "    </tr>\n",
       "    <tr>\n",
       "      <th>1984</th>\n",
       "      <td>3.170000</td>\n",
       "    </tr>\n",
       "    <tr>\n",
       "      <th>...</th>\n",
       "      <td>...</td>\n",
       "    </tr>\n",
       "    <tr>\n",
       "      <th>Year of Wonders</th>\n",
       "      <td>3.760000</td>\n",
       "    </tr>\n",
       "    <tr>\n",
       "      <th>You Shall Know Our Velocity!</th>\n",
       "      <td>3.490000</td>\n",
       "    </tr>\n",
       "    <tr>\n",
       "      <th>Zen and the Art of Motorcycle Maintenance: An Inquiry Into Values</th>\n",
       "      <td>3.550000</td>\n",
       "    </tr>\n",
       "    <tr>\n",
       "      <th>Zodiac</th>\n",
       "      <td>3.660000</td>\n",
       "    </tr>\n",
       "    <tr>\n",
       "      <th>number9dream</th>\n",
       "      <td>4.020408</td>\n",
       "    </tr>\n",
       "  </tbody>\n",
       "</table>\n",
       "<p>812 rows × 1 columns</p>\n",
       "</div>"
      ],
      "text/plain": [
       "                                                      rating\n",
       "title                                                       \n",
       "'Salem's Lot                                        3.932432\n",
       "'Tis (Frank McCourt, #2)                            3.959596\n",
       "1421: The Year China Discovered America             3.734694\n",
       "1776                                                3.930000\n",
       "1984                                                3.170000\n",
       "...                                                      ...\n",
       "Year of Wonders                                     3.760000\n",
       "You Shall Know Our Velocity!                        3.490000\n",
       "Zen and the Art of Motorcycle Maintenance: An I...  3.550000\n",
       "Zodiac                                              3.660000\n",
       "number9dream                                        4.020408\n",
       "\n",
       "[812 rows x 1 columns]"
      ]
     },
     "execution_count": 34,
     "metadata": {},
     "output_type": "execute_result"
    }
   ],
   "source": [
    "mean_ratings = mean_ratings.groupby(['title']).mean()\n",
    "mean_ratings"
   ]
  },
  {
   "cell_type": "code",
   "execution_count": 35,
   "metadata": {},
   "outputs": [
    {
     "data": {
      "text/html": [
       "<div>\n",
       "<style scoped>\n",
       "    .dataframe tbody tr th:only-of-type {\n",
       "        vertical-align: middle;\n",
       "    }\n",
       "\n",
       "    .dataframe tbody tr th {\n",
       "        vertical-align: top;\n",
       "    }\n",
       "\n",
       "    .dataframe thead th {\n",
       "        text-align: right;\n",
       "    }\n",
       "</style>\n",
       "<table border=\"1\" class=\"dataframe\">\n",
       "  <thead>\n",
       "    <tr style=\"text-align: right;\">\n",
       "      <th></th>\n",
       "      <th>rating</th>\n",
       "    </tr>\n",
       "    <tr>\n",
       "      <th>title</th>\n",
       "      <th></th>\n",
       "    </tr>\n",
       "  </thead>\n",
       "  <tbody>\n",
       "    <tr>\n",
       "      <th>Still Life with Woodpecker</th>\n",
       "      <td>4.777778</td>\n",
       "    </tr>\n",
       "    <tr>\n",
       "      <th>The Beautiful and Damned</th>\n",
       "      <td>4.660000</td>\n",
       "    </tr>\n",
       "    <tr>\n",
       "      <th>Villa Incognito</th>\n",
       "      <td>4.625000</td>\n",
       "    </tr>\n",
       "    <tr>\n",
       "      <th>Peter and the Shadow Thieves (Peter and the Starcatchers, #2)</th>\n",
       "      <td>4.557143</td>\n",
       "    </tr>\n",
       "    <tr>\n",
       "      <th>The Taste of Home Cookbook</th>\n",
       "      <td>4.550000</td>\n",
       "    </tr>\n",
       "    <tr>\n",
       "      <th>...</th>\n",
       "      <td>...</td>\n",
       "    </tr>\n",
       "    <tr>\n",
       "      <th>The Woman in White</th>\n",
       "      <td>2.880000</td>\n",
       "    </tr>\n",
       "    <tr>\n",
       "      <th>The Chamber</th>\n",
       "      <td>2.880000</td>\n",
       "    </tr>\n",
       "    <tr>\n",
       "      <th>Pearls of Lutra (Redwall, #9)</th>\n",
       "      <td>2.800000</td>\n",
       "    </tr>\n",
       "    <tr>\n",
       "      <th>The Fellowship of the Ring (The Lord of the Rings, #1)</th>\n",
       "      <td>2.787879</td>\n",
       "    </tr>\n",
       "    <tr>\n",
       "      <th>Nine Stories</th>\n",
       "      <td>2.535354</td>\n",
       "    </tr>\n",
       "  </tbody>\n",
       "</table>\n",
       "<p>812 rows × 1 columns</p>\n",
       "</div>"
      ],
      "text/plain": [
       "                                                      rating\n",
       "title                                                       \n",
       "Still Life with Woodpecker                          4.777778\n",
       "The Beautiful and Damned                            4.660000\n",
       "Villa Incognito                                     4.625000\n",
       "Peter and the Shadow Thieves (Peter and the Sta...  4.557143\n",
       "The Taste of Home Cookbook                          4.550000\n",
       "...                                                      ...\n",
       "The Woman in White                                  2.880000\n",
       "The Chamber                                         2.880000\n",
       "Pearls of Lutra (Redwall, #9)                       2.800000\n",
       "The Fellowship of the Ring (The Lord of the Rin...  2.787879\n",
       "Nine Stories                                        2.535354\n",
       "\n",
       "[812 rows x 1 columns]"
      ]
     },
     "execution_count": 35,
     "metadata": {},
     "output_type": "execute_result"
    }
   ],
   "source": [
    "mean_ratings = mean_ratings.sort_values('rating',ascending=False)\n",
    "mean_ratings"
   ]
  },
  {
   "cell_type": "code",
   "execution_count": 36,
   "metadata": {},
   "outputs": [
    {
     "data": {
      "image/png": "[encoded data removed]",
      "text/plain": [
       "<Figure size 1440x360 with 1 Axes>"
      ]
     },
     "metadata": {
      "needs_background": "light"
     },
     "output_type": "display_data"
    }
   ],
   "source": [
    "#plotting\n",
    "authors_plot = mean_ratings['rating'].sort_values(ascending=True)[0:6]\n",
    "plt.figure(figsize=(20,5))\n",
    "sns.barplot(authors_plot.index, authors_plot.values, alpha=0.8, palette=(\"twilight_shifted\"))\n",
    "plt.title('Top 6 Lowest Rating',fontsize=30)\n",
    "plt.ylabel('Mean Ratings', fontsize=20)\n",
    "plt.xlabel('Book Title', fontsize=20)\n",
    "plt.show()"
   ]
  },
  {
   "cell_type": "code",
   "execution_count": 37,
   "metadata": {},
   "outputs": [
    {
     "data": {
      "image/png": "[encoded data removed]",
      "text/plain": [
       "<Figure size 1440x360 with 1 Axes>"
      ]
     },
     "metadata": {
      "needs_background": "light"
     },
     "output_type": "display_data"
    }
   ],
   "source": [
    "#plotting\n",
    "authors_plot = mean_ratings['rating'].sort_values(ascending=False)[0:6]\n",
    "plt.figure(figsize=(20,5))\n",
    "sns.barplot(authors_plot.index, authors_plot.values, alpha=0.8, palette=(\"twilight\"))\n",
    "plt.title('Top 6 Highest Rating',fontsize=30)\n",
    "plt.ylabel('Mean Ratings', fontsize=20)\n",
    "plt.xlabel('Book Title', fontsize=20)\n",
    "plt.show()"
   ]
  }
 ],
 "metadata": {
  "kernelspec": {
   "display_name": "Python 3",
   "language": "python",
   "name": "python3"
  },
  "language_info": {
   "codemirror_mode": {
    "name": "ipython",
    "version": 3
   },
   "file_extension": ".py",
   "mimetype": "text/x-python",
   "name": "python",
   "nbconvert_exporter": "python",
   "pygments_lexer": "ipython3",
   "version": "3.8.5"
  }
 },
 "nbformat": 4,
 "nbformat_minor": 4
}
