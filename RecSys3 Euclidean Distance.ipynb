{
 "cells": [
  {
   "cell_type": "markdown",
   "metadata": {
    "slideshow": {
     "slide_type": "slide"
    }
   },
   "source": [
    "# RecSys3 - Euclidean Distance Content Based\n"
   ]
  },
  {
   "cell_type": "markdown",
   "metadata": {
    "slideshow": {
     "slide_type": "slide"
    }
   },
   "source": [
    "##### Import Libraries and Dataset "
   ]
  },
  {
   "cell_type": "code",
   "execution_count": 1,
   "metadata": {
    "slideshow": {
     "slide_type": "slide"
    }
   },
   "outputs": [],
   "source": [
    "import numpy as np\n",
    "import pandas as pd\n",
    "from sklearn.feature_extraction.text import CountVectorizer\n",
    "from sklearn.feature_extraction.text import TfidfVectorizer, CountVectorizer, TfidfTransformer\n",
    "from sklearn.metrics.pairwise import linear_kernel\n",
    "from scipy.spatial.distance import squareform\n",
    "from scipy.spatial.distance import pdist"
   ]
  },
  {
   "cell_type": "code",
   "execution_count": 2,
   "metadata": {
    "slideshow": {
     "slide_type": "slide"
    }
   },
   "outputs": [],
   "source": [
    "books = pd.read_csv (r'C:\\Users\\user\\OneDrive\\Desktop\\Artificial Intelligence\\clean dataset\\books.csv',usecols = ['book_id','authors','original_publication_year','title','average_rating','image_url'])\n",
    "ratings = pd.read_csv (r'C:\\Users\\user\\OneDrive\\Desktop\\Artificial Intelligence\\clean dataset\\ratings.csv')\n",
    "tags = pd.read_csv (r'C:\\Users\\user\\OneDrive\\Desktop\\Artificial Intelligence\\dataset folder\\tags.csv')\n",
    "bookTags = pd.read_csv (r'C:\\Users\\user\\OneDrive\\Desktop\\Artificial Intelligence\\dataset folder\\book_tags.csv')\n",
    "toRead = pd.read_csv (r'C:\\Users\\user\\OneDrive\\Desktop\\Artificial Intelligence\\dataset folder\\to_read.csv')"
   ]
  },
  {
   "cell_type": "markdown",
   "metadata": {
    "slideshow": {
     "slide_type": "slide"
    }
   },
   "source": [
    "## Recommend books using the book authors"
   ]
  },
  {
   "cell_type": "code",
   "execution_count": 3,
   "metadata": {
    "slideshow": {
     "slide_type": "slide"
    }
   },
   "outputs": [
    {
     "name": "stdout",
     "output_type": "stream",
     "text": [
      "Author Matrix: [[0 0 0 ... 0 0 0]\n",
      " [0 0 0 ... 0 0 0]\n",
      " [0 0 0 ... 0 0 0]\n",
      " ...\n",
      " [0 0 0 ... 0 0 0]\n",
      " [0 0 0 ... 0 0 0]\n",
      " [0 0 0 ... 0 0 0]]\n"
     ]
    }
   ],
   "source": [
    "#Convert a collection of text documents to a matrix of token counts\n",
    "cv = CountVectorizer(analyzer='word',ngram_range=(1, 2),min_df=0, stop_words='english')\n",
    "\n",
    "#generating matrix for authors and it's euclidean distance\n",
    "author_matrix = cv.fit_transform(books[\"authors\"])\n",
    "print(\"Author Matrix:\", author_matrix.toarray())"
   ]
  },
  {
   "cell_type": "code",
   "execution_count": 4,
   "metadata": {
    "slideshow": {
     "slide_type": "slide"
    }
   },
   "outputs": [
    {
     "name": "stdout",
     "output_type": "stream",
     "text": [
      "          0         1         2         3         4         5        6     \\\n",
      "0     0.000000  2.828427  2.449490  2.449490  2.449490  2.449490  2.00000   \n",
      "1     2.828427  0.000000  2.828427  2.828427  2.828427  2.828427  2.44949   \n",
      "2     2.449490  2.828427  0.000000  2.449490  2.449490  2.449490  2.00000   \n",
      "3     2.449490  2.828427  2.449490  0.000000  2.449490  2.449490  2.00000   \n",
      "4     2.449490  2.828427  2.449490  2.449490  0.000000  2.449490  2.00000   \n",
      "...        ...       ...       ...       ...       ...       ...      ...   \n",
      "9295  2.449490  2.828427  2.449490  2.449490  2.449490  2.449490  2.00000   \n",
      "9296  2.449490  2.828427  2.449490  2.449490  2.449490  2.449490  2.00000   \n",
      "9297  2.449490  2.828427  2.449490  2.449490  2.449490  2.449490  2.00000   \n",
      "9298  2.449490  2.828427  2.449490  2.449490  2.449490  2.449490  2.00000   \n",
      "9299  2.449490  2.828427  2.449490  2.449490  2.449490  2.000000  2.00000   \n",
      "\n",
      "         7         8         9     ...      9290      9291      9292  \\\n",
      "0     2.00000  2.449490  2.449490  ...  2.449490  2.449490  2.449490   \n",
      "1     2.44949  2.828427  2.828427  ...  2.828427  2.828427  2.828427   \n",
      "2     2.00000  2.449490  2.449490  ...  2.449490  2.449490  2.449490   \n",
      "3     2.00000  2.449490  2.449490  ...  2.449490  2.449490  2.449490   \n",
      "4     2.00000  2.449490  2.449490  ...  2.449490  2.449490  2.449490   \n",
      "...       ...       ...       ...  ...       ...       ...       ...   \n",
      "9295  2.00000  2.449490  2.449490  ...  2.449490  2.449490  2.449490   \n",
      "9296  2.00000  2.449490  2.449490  ...  2.449490  2.449490  2.449490   \n",
      "9297  2.00000  2.449490  2.449490  ...  2.449490  2.449490  2.449490   \n",
      "9298  2.00000  2.449490  2.449490  ...  2.449490  2.449490  2.449490   \n",
      "9299  2.00000  2.449490  2.449490  ...  2.449490  2.449490  2.449490   \n",
      "\n",
      "          9293      9294      9295      9296      9297      9298      9299  \n",
      "0     3.162278  2.449490  2.449490  2.449490  2.449490  2.449490  2.449490  \n",
      "1     3.464102  2.828427  2.828427  2.828427  2.828427  2.828427  2.828427  \n",
      "2     3.162278  2.449490  2.449490  2.449490  2.449490  2.449490  2.449490  \n",
      "3     3.162278  2.449490  2.449490  2.449490  2.449490  2.449490  2.449490  \n",
      "4     3.162278  2.449490  2.449490  2.449490  2.449490  2.449490  2.449490  \n",
      "...        ...       ...       ...       ...       ...       ...       ...  \n",
      "9295  3.162278  2.449490  0.000000  2.449490  2.449490  2.449490  2.449490  \n",
      "9296  3.162278  2.449490  2.449490  0.000000  2.449490  2.449490  2.449490  \n",
      "9297  3.162278  2.449490  2.449490  2.449490  0.000000  2.449490  2.449490  \n",
      "9298  3.162278  2.449490  2.449490  2.449490  2.449490  0.000000  2.449490  \n",
      "9299  3.162278  2.449490  2.449490  2.449490  2.449490  2.449490  0.000000  \n",
      "\n",
      "[9300 rows x 9300 columns]\n"
     ]
    }
   ],
   "source": [
    "#generating euclidean distances based on author matrix \n",
    "#using pdist and squareform \n",
    "#pdist = computes the Euclidean distance between pairs of objects in m-by-n matrix X , which is treated as m vectors of size n\n",
    "#squareform = returns a symmetric matrix where Z(i,j) corresponds to the pairwise distance between observations i and j \n",
    "author_euclidean_distances = pd.DataFrame(squareform(pdist(author_matrix.toarray())))\n",
    "print(author_euclidean_distances)"
   ]
  },
  {
   "cell_type": "code",
   "execution_count": 5,
   "metadata": {
    "slideshow": {
     "slide_type": "slide"
    }
   },
   "outputs": [],
   "source": [
    "# Build a 1-dimensional array with book titles\n",
    "titles = books['title']\n",
    "\n",
    "# series of book's index with the books title \n",
    "indices = pd.Series(books.index, index=books['title'])\n",
    "\n",
    "# Function that get book recommendations based on the euclidean distance score of book authors\n",
    "def authors_recommendations_euclidean(title):\n",
    "    idx = indices[title]\n",
    "    euclidean_dis = list(enumerate(author_euclidean_distances[idx]))\n",
    "    euclidean_dis = sorted(euclidean_dis, key=lambda x: x[1], reverse=False)\n",
    "    euclidean_dis = euclidean_dis[1:7]\n",
    "    book_indices = [i[0] for i in euclidean_dis]\n",
    "    return titles.iloc[book_indices].to_frame()"
   ]
  },
  {
   "cell_type": "code",
   "execution_count": 6,
   "metadata": {
    "slideshow": {
     "slide_type": "slide"
    }
   },
   "outputs": [
    {
     "data": {
      "text/html": [
       "<div>\n",
       "<style scoped>\n",
       "    .dataframe tbody tr th:only-of-type {\n",
       "        vertical-align: middle;\n",
       "    }\n",
       "\n",
       "    .dataframe tbody tr th {\n",
       "        vertical-align: top;\n",
       "    }\n",
       "\n",
       "    .dataframe thead th {\n",
       "        text-align: right;\n",
       "    }\n",
       "</style>\n",
       "<table border=\"1\" class=\"dataframe\">\n",
       "  <thead>\n",
       "    <tr style=\"text-align: right;\">\n",
       "      <th></th>\n",
       "      <th>title</th>\n",
       "    </tr>\n",
       "  </thead>\n",
       "  <tbody>\n",
       "    <tr>\n",
       "      <th>18</th>\n",
       "      <td>The Fellowship of the Ring (The Lord of the Ri...</td>\n",
       "    </tr>\n",
       "    <tr>\n",
       "      <th>152</th>\n",
       "      <td>The Two Towers (The Lord of the Rings, #2)</td>\n",
       "    </tr>\n",
       "    <tr>\n",
       "      <th>158</th>\n",
       "      <td>The Return of the King (The Lord of the Rings,...</td>\n",
       "    </tr>\n",
       "    <tr>\n",
       "      <th>184</th>\n",
       "      <td>The Lord of the Rings (The Lord of the Rings, ...</td>\n",
       "    </tr>\n",
       "    <tr>\n",
       "      <th>941</th>\n",
       "      <td>J.R.R. Tolkien 4-Book Boxed Set: The Hobbit an...</td>\n",
       "    </tr>\n",
       "    <tr>\n",
       "      <th>8834</th>\n",
       "      <td>Succulent Wild Woman</td>\n",
       "    </tr>\n",
       "  </tbody>\n",
       "</table>\n",
       "</div>"
      ],
      "text/plain": [
       "                                                  title\n",
       "18    The Fellowship of the Ring (The Lord of the Ri...\n",
       "152          The Two Towers (The Lord of the Rings, #2)\n",
       "158   The Return of the King (The Lord of the Rings,...\n",
       "184   The Lord of the Rings (The Lord of the Rings, ...\n",
       "941   J.R.R. Tolkien 4-Book Boxed Set: The Hobbit an...\n",
       "8834                               Succulent Wild Woman"
      ]
     },
     "execution_count": 6,
     "metadata": {},
     "output_type": "execute_result"
    }
   ],
   "source": [
    "authors_recommendations_euclidean(\"The Hobbit\")"
   ]
  },
  {
   "cell_type": "code",
   "execution_count": 7,
   "metadata": {
    "slideshow": {
     "slide_type": "slide"
    }
   },
   "outputs": [
    {
     "data": {
      "text/html": [
       "<div>\n",
       "<style scoped>\n",
       "    .dataframe tbody tr th:only-of-type {\n",
       "        vertical-align: middle;\n",
       "    }\n",
       "\n",
       "    .dataframe tbody tr th {\n",
       "        vertical-align: top;\n",
       "    }\n",
       "\n",
       "    .dataframe thead th {\n",
       "        text-align: right;\n",
       "    }\n",
       "</style>\n",
       "<table border=\"1\" class=\"dataframe\">\n",
       "  <thead>\n",
       "    <tr style=\"text-align: right;\">\n",
       "      <th></th>\n",
       "      <th>title</th>\n",
       "    </tr>\n",
       "  </thead>\n",
       "  <tbody>\n",
       "    <tr>\n",
       "      <th>18</th>\n",
       "      <td>The Fellowship of the Ring (The Lord of the Ri...</td>\n",
       "    </tr>\n",
       "    <tr>\n",
       "      <th>152</th>\n",
       "      <td>The Two Towers (The Lord of the Rings, #2)</td>\n",
       "    </tr>\n",
       "    <tr>\n",
       "      <th>158</th>\n",
       "      <td>The Return of the King (The Lord of the Rings,...</td>\n",
       "    </tr>\n",
       "    <tr>\n",
       "      <th>184</th>\n",
       "      <td>The Lord of the Rings (The Lord of the Rings, ...</td>\n",
       "    </tr>\n",
       "    <tr>\n",
       "      <th>941</th>\n",
       "      <td>J.R.R. Tolkien 4-Book Boxed Set: The Hobbit an...</td>\n",
       "    </tr>\n",
       "    <tr>\n",
       "      <th>8834</th>\n",
       "      <td>Succulent Wild Woman</td>\n",
       "    </tr>\n",
       "  </tbody>\n",
       "</table>\n",
       "</div>"
      ],
      "text/plain": [
       "                                                  title\n",
       "18    The Fellowship of the Ring (The Lord of the Ri...\n",
       "152          The Two Towers (The Lord of the Rings, #2)\n",
       "158   The Return of the King (The Lord of the Rings,...\n",
       "184   The Lord of the Rings (The Lord of the Rings, ...\n",
       "941   J.R.R. Tolkien 4-Book Boxed Set: The Hobbit an...\n",
       "8834                               Succulent Wild Woman"
      ]
     },
     "execution_count": 7,
     "metadata": {},
     "output_type": "execute_result"
    }
   ],
   "source": [
    "authors_recommendations_euclidean(\"The Hobbit\")"
   ]
  },
  {
   "cell_type": "code",
   "execution_count": 8,
   "metadata": {
    "slideshow": {
     "slide_type": "slide"
    }
   },
   "outputs": [
    {
     "data": {
      "text/html": [
       "<div>\n",
       "<style scoped>\n",
       "    .dataframe tbody tr th:only-of-type {\n",
       "        vertical-align: middle;\n",
       "    }\n",
       "\n",
       "    .dataframe tbody tr th {\n",
       "        vertical-align: top;\n",
       "    }\n",
       "\n",
       "    .dataframe thead th {\n",
       "        text-align: right;\n",
       "    }\n",
       "</style>\n",
       "<table border=\"1\" class=\"dataframe\">\n",
       "  <thead>\n",
       "    <tr style=\"text-align: right;\">\n",
       "      <th></th>\n",
       "      <th>title</th>\n",
       "    </tr>\n",
       "  </thead>\n",
       "  <tbody>\n",
       "    <tr>\n",
       "      <th>18</th>\n",
       "      <td>The Fellowship of the Ring (The Lord of the Ri...</td>\n",
       "    </tr>\n",
       "    <tr>\n",
       "      <th>152</th>\n",
       "      <td>The Two Towers (The Lord of the Rings, #2)</td>\n",
       "    </tr>\n",
       "    <tr>\n",
       "      <th>158</th>\n",
       "      <td>The Return of the King (The Lord of the Rings,...</td>\n",
       "    </tr>\n",
       "    <tr>\n",
       "      <th>184</th>\n",
       "      <td>The Lord of the Rings (The Lord of the Rings, ...</td>\n",
       "    </tr>\n",
       "    <tr>\n",
       "      <th>941</th>\n",
       "      <td>J.R.R. Tolkien 4-Book Boxed Set: The Hobbit an...</td>\n",
       "    </tr>\n",
       "    <tr>\n",
       "      <th>8834</th>\n",
       "      <td>Succulent Wild Woman</td>\n",
       "    </tr>\n",
       "  </tbody>\n",
       "</table>\n",
       "</div>"
      ],
      "text/plain": [
       "                                                  title\n",
       "18    The Fellowship of the Ring (The Lord of the Ri...\n",
       "152          The Two Towers (The Lord of the Rings, #2)\n",
       "158   The Return of the King (The Lord of the Rings,...\n",
       "184   The Lord of the Rings (The Lord of the Rings, ...\n",
       "941   J.R.R. Tolkien 4-Book Boxed Set: The Hobbit an...\n",
       "8834                               Succulent Wild Woman"
      ]
     },
     "execution_count": 8,
     "metadata": {},
     "output_type": "execute_result"
    }
   ],
   "source": [
    "authors_recommendations_euclidean(\"The Hobbit\")"
   ]
  },
  {
   "cell_type": "code",
   "execution_count": 9,
   "metadata": {
    "slideshow": {
     "slide_type": "slide"
    }
   },
   "outputs": [
    {
     "data": {
      "text/html": [
       "<div>\n",
       "<style scoped>\n",
       "    .dataframe tbody tr th:only-of-type {\n",
       "        vertical-align: middle;\n",
       "    }\n",
       "\n",
       "    .dataframe tbody tr th {\n",
       "        vertical-align: top;\n",
       "    }\n",
       "\n",
       "    .dataframe thead th {\n",
       "        text-align: right;\n",
       "    }\n",
       "</style>\n",
       "<table border=\"1\" class=\"dataframe\">\n",
       "  <thead>\n",
       "    <tr style=\"text-align: right;\">\n",
       "      <th></th>\n",
       "      <th>title</th>\n",
       "    </tr>\n",
       "  </thead>\n",
       "  <tbody>\n",
       "    <tr>\n",
       "      <th>18</th>\n",
       "      <td>The Fellowship of the Ring (The Lord of the Ri...</td>\n",
       "    </tr>\n",
       "    <tr>\n",
       "      <th>152</th>\n",
       "      <td>The Two Towers (The Lord of the Rings, #2)</td>\n",
       "    </tr>\n",
       "    <tr>\n",
       "      <th>158</th>\n",
       "      <td>The Return of the King (The Lord of the Rings,...</td>\n",
       "    </tr>\n",
       "    <tr>\n",
       "      <th>184</th>\n",
       "      <td>The Lord of the Rings (The Lord of the Rings, ...</td>\n",
       "    </tr>\n",
       "    <tr>\n",
       "      <th>941</th>\n",
       "      <td>J.R.R. Tolkien 4-Book Boxed Set: The Hobbit an...</td>\n",
       "    </tr>\n",
       "    <tr>\n",
       "      <th>8834</th>\n",
       "      <td>Succulent Wild Woman</td>\n",
       "    </tr>\n",
       "  </tbody>\n",
       "</table>\n",
       "</div>"
      ],
      "text/plain": [
       "                                                  title\n",
       "18    The Fellowship of the Ring (The Lord of the Ri...\n",
       "152          The Two Towers (The Lord of the Rings, #2)\n",
       "158   The Return of the King (The Lord of the Rings,...\n",
       "184   The Lord of the Rings (The Lord of the Rings, ...\n",
       "941   J.R.R. Tolkien 4-Book Boxed Set: The Hobbit an...\n",
       "8834                               Succulent Wild Woman"
      ]
     },
     "execution_count": 9,
     "metadata": {},
     "output_type": "execute_result"
    }
   ],
   "source": [
    "authors_recommendations_euclidean(\"The Hobbit\")"
   ]
  },
  {
   "cell_type": "code",
   "execution_count": 10,
   "metadata": {
    "slideshow": {
     "slide_type": "slide"
    }
   },
   "outputs": [
    {
     "data": {
      "text/html": [
       "<div>\n",
       "<style scoped>\n",
       "    .dataframe tbody tr th:only-of-type {\n",
       "        vertical-align: middle;\n",
       "    }\n",
       "\n",
       "    .dataframe tbody tr th {\n",
       "        vertical-align: top;\n",
       "    }\n",
       "\n",
       "    .dataframe thead th {\n",
       "        text-align: right;\n",
       "    }\n",
       "</style>\n",
       "<table border=\"1\" class=\"dataframe\">\n",
       "  <thead>\n",
       "    <tr style=\"text-align: right;\">\n",
       "      <th></th>\n",
       "      <th>title</th>\n",
       "    </tr>\n",
       "  </thead>\n",
       "  <tbody>\n",
       "    <tr>\n",
       "      <th>18</th>\n",
       "      <td>The Fellowship of the Ring (The Lord of the Ri...</td>\n",
       "    </tr>\n",
       "    <tr>\n",
       "      <th>152</th>\n",
       "      <td>The Two Towers (The Lord of the Rings, #2)</td>\n",
       "    </tr>\n",
       "    <tr>\n",
       "      <th>158</th>\n",
       "      <td>The Return of the King (The Lord of the Rings,...</td>\n",
       "    </tr>\n",
       "    <tr>\n",
       "      <th>184</th>\n",
       "      <td>The Lord of the Rings (The Lord of the Rings, ...</td>\n",
       "    </tr>\n",
       "    <tr>\n",
       "      <th>941</th>\n",
       "      <td>J.R.R. Tolkien 4-Book Boxed Set: The Hobbit an...</td>\n",
       "    </tr>\n",
       "    <tr>\n",
       "      <th>8834</th>\n",
       "      <td>Succulent Wild Woman</td>\n",
       "    </tr>\n",
       "  </tbody>\n",
       "</table>\n",
       "</div>"
      ],
      "text/plain": [
       "                                                  title\n",
       "18    The Fellowship of the Ring (The Lord of the Ri...\n",
       "152          The Two Towers (The Lord of the Rings, #2)\n",
       "158   The Return of the King (The Lord of the Rings,...\n",
       "184   The Lord of the Rings (The Lord of the Rings, ...\n",
       "941   J.R.R. Tolkien 4-Book Boxed Set: The Hobbit an...\n",
       "8834                               Succulent Wild Woman"
      ]
     },
     "execution_count": 10,
     "metadata": {},
     "output_type": "execute_result"
    }
   ],
   "source": [
    "authors_recommendations_euclidean(\"The Hobbit\")"
   ]
  },
  {
   "cell_type": "code",
   "execution_count": 11,
   "metadata": {
    "slideshow": {
     "slide_type": "slide"
    }
   },
   "outputs": [
    {
     "data": {
      "text/html": [
       "<div>\n",
       "<style scoped>\n",
       "    .dataframe tbody tr th:only-of-type {\n",
       "        vertical-align: middle;\n",
       "    }\n",
       "\n",
       "    .dataframe tbody tr th {\n",
       "        vertical-align: top;\n",
       "    }\n",
       "\n",
       "    .dataframe thead th {\n",
       "        text-align: right;\n",
       "    }\n",
       "</style>\n",
       "<table border=\"1\" class=\"dataframe\">\n",
       "  <thead>\n",
       "    <tr style=\"text-align: right;\">\n",
       "      <th></th>\n",
       "      <th>title</th>\n",
       "    </tr>\n",
       "  </thead>\n",
       "  <tbody>\n",
       "    <tr>\n",
       "      <th>18</th>\n",
       "      <td>The Fellowship of the Ring (The Lord of the Ri...</td>\n",
       "    </tr>\n",
       "    <tr>\n",
       "      <th>152</th>\n",
       "      <td>The Two Towers (The Lord of the Rings, #2)</td>\n",
       "    </tr>\n",
       "    <tr>\n",
       "      <th>158</th>\n",
       "      <td>The Return of the King (The Lord of the Rings,...</td>\n",
       "    </tr>\n",
       "    <tr>\n",
       "      <th>184</th>\n",
       "      <td>The Lord of the Rings (The Lord of the Rings, ...</td>\n",
       "    </tr>\n",
       "    <tr>\n",
       "      <th>941</th>\n",
       "      <td>J.R.R. Tolkien 4-Book Boxed Set: The Hobbit an...</td>\n",
       "    </tr>\n",
       "    <tr>\n",
       "      <th>8834</th>\n",
       "      <td>Succulent Wild Woman</td>\n",
       "    </tr>\n",
       "  </tbody>\n",
       "</table>\n",
       "</div>"
      ],
      "text/plain": [
       "                                                  title\n",
       "18    The Fellowship of the Ring (The Lord of the Ri...\n",
       "152          The Two Towers (The Lord of the Rings, #2)\n",
       "158   The Return of the King (The Lord of the Rings,...\n",
       "184   The Lord of the Rings (The Lord of the Rings, ...\n",
       "941   J.R.R. Tolkien 4-Book Boxed Set: The Hobbit an...\n",
       "8834                               Succulent Wild Woman"
      ]
     },
     "execution_count": 11,
     "metadata": {},
     "output_type": "execute_result"
    }
   ],
   "source": [
    "authors_recommendations_euclidean(\"The Hobbit\")"
   ]
  },
  {
   "cell_type": "code",
   "execution_count": 12,
   "metadata": {
    "slideshow": {
     "slide_type": "slide"
    }
   },
   "outputs": [
    {
     "data": {
      "text/html": [
       "<div>\n",
       "<style scoped>\n",
       "    .dataframe tbody tr th:only-of-type {\n",
       "        vertical-align: middle;\n",
       "    }\n",
       "\n",
       "    .dataframe tbody tr th {\n",
       "        vertical-align: top;\n",
       "    }\n",
       "\n",
       "    .dataframe thead th {\n",
       "        text-align: right;\n",
       "    }\n",
       "</style>\n",
       "<table border=\"1\" class=\"dataframe\">\n",
       "  <thead>\n",
       "    <tr style=\"text-align: right;\">\n",
       "      <th></th>\n",
       "      <th>title</th>\n",
       "    </tr>\n",
       "  </thead>\n",
       "  <tbody>\n",
       "    <tr>\n",
       "      <th>151</th>\n",
       "      <td>Macbeth</td>\n",
       "    </tr>\n",
       "    <tr>\n",
       "      <th>344</th>\n",
       "      <td>Othello</td>\n",
       "    </tr>\n",
       "    <tr>\n",
       "      <th>701</th>\n",
       "      <td>King Lear</td>\n",
       "    </tr>\n",
       "    <tr>\n",
       "      <th>758</th>\n",
       "      <td>The Taming of the Shrew</td>\n",
       "    </tr>\n",
       "    <tr>\n",
       "      <th>787</th>\n",
       "      <td>The Tempest</td>\n",
       "    </tr>\n",
       "    <tr>\n",
       "      <th>834</th>\n",
       "      <td>Twelfth Night</td>\n",
       "    </tr>\n",
       "  </tbody>\n",
       "</table>\n",
       "</div>"
      ],
      "text/plain": [
       "                       title\n",
       "151                  Macbeth\n",
       "344                  Othello\n",
       "701                King Lear\n",
       "758  The Taming of the Shrew\n",
       "787              The Tempest\n",
       "834            Twelfth Night"
      ]
     },
     "execution_count": 12,
     "metadata": {},
     "output_type": "execute_result"
    }
   ],
   "source": [
    "authors_recommendations_euclidean(\"Romeo and Juliet\")"
   ]
  },
  {
   "cell_type": "markdown",
   "metadata": {
    "slideshow": {
     "slide_type": "slide"
    }
   },
   "source": [
    "## Recommend books using the tags provided to the books."
   ]
  },
  {
   "cell_type": "code",
   "execution_count": 13,
   "metadata": {
    "slideshow": {
     "slide_type": "slide"
    }
   },
   "outputs": [
    {
     "data": {
      "text/html": [
       "<div>\n",
       "<style scoped>\n",
       "    .dataframe tbody tr th:only-of-type {\n",
       "        vertical-align: middle;\n",
       "    }\n",
       "\n",
       "    .dataframe tbody tr th {\n",
       "        vertical-align: top;\n",
       "    }\n",
       "\n",
       "    .dataframe thead th {\n",
       "        text-align: right;\n",
       "    }\n",
       "</style>\n",
       "<table border=\"1\" class=\"dataframe\">\n",
       "  <thead>\n",
       "    <tr style=\"text-align: right;\">\n",
       "      <th></th>\n",
       "      <th>goodreads_book_id</th>\n",
       "      <th>tag_id</th>\n",
       "      <th>count</th>\n",
       "      <th>tag_name</th>\n",
       "    </tr>\n",
       "  </thead>\n",
       "  <tbody>\n",
       "    <tr>\n",
       "      <th>0</th>\n",
       "      <td>1</td>\n",
       "      <td>30574</td>\n",
       "      <td>167697</td>\n",
       "      <td>to-read</td>\n",
       "    </tr>\n",
       "    <tr>\n",
       "      <th>1</th>\n",
       "      <td>2</td>\n",
       "      <td>30574</td>\n",
       "      <td>24549</td>\n",
       "      <td>to-read</td>\n",
       "    </tr>\n",
       "    <tr>\n",
       "      <th>2</th>\n",
       "      <td>3</td>\n",
       "      <td>30574</td>\n",
       "      <td>496107</td>\n",
       "      <td>to-read</td>\n",
       "    </tr>\n",
       "    <tr>\n",
       "      <th>3</th>\n",
       "      <td>5</td>\n",
       "      <td>30574</td>\n",
       "      <td>11909</td>\n",
       "      <td>to-read</td>\n",
       "    </tr>\n",
       "    <tr>\n",
       "      <th>4</th>\n",
       "      <td>6</td>\n",
       "      <td>30574</td>\n",
       "      <td>298</td>\n",
       "      <td>to-read</td>\n",
       "    </tr>\n",
       "  </tbody>\n",
       "</table>\n",
       "</div>"
      ],
      "text/plain": [
       "   goodreads_book_id  tag_id   count tag_name\n",
       "0                  1   30574  167697  to-read\n",
       "1                  2   30574   24549  to-read\n",
       "2                  3   30574  496107  to-read\n",
       "3                  5   30574   11909  to-read\n",
       "4                  6   30574     298  to-read"
      ]
     },
     "execution_count": 13,
     "metadata": {},
     "output_type": "execute_result"
    }
   ],
   "source": [
    "#dataset that joung book tag with tag name and book id \n",
    "tags_join_DF = pd.merge(bookTags, tags, left_on='tag_id', right_on='tag_id', how='inner')\n",
    "tags_join_DF.head()"
   ]
  },
  {
   "cell_type": "code",
   "execution_count": 14,
   "metadata": {
    "scrolled": false,
    "slideshow": {
     "slide_type": "slide"
    }
   },
   "outputs": [
    {
     "data": {
      "text/html": [
       "<div>\n",
       "<style scoped>\n",
       "    .dataframe tbody tr th:only-of-type {\n",
       "        vertical-align: middle;\n",
       "    }\n",
       "\n",
       "    .dataframe tbody tr th {\n",
       "        vertical-align: top;\n",
       "    }\n",
       "\n",
       "    .dataframe thead th {\n",
       "        text-align: right;\n",
       "    }\n",
       "</style>\n",
       "<table border=\"1\" class=\"dataframe\">\n",
       "  <thead>\n",
       "    <tr style=\"text-align: right;\">\n",
       "      <th></th>\n",
       "      <th>book_id</th>\n",
       "      <th>authors</th>\n",
       "      <th>original_publication_year</th>\n",
       "      <th>title</th>\n",
       "      <th>average_rating</th>\n",
       "      <th>image_url</th>\n",
       "      <th>goodreads_book_id</th>\n",
       "      <th>tag_id</th>\n",
       "      <th>count</th>\n",
       "      <th>tag_name</th>\n",
       "    </tr>\n",
       "  </thead>\n",
       "  <tbody>\n",
       "    <tr>\n",
       "      <th>0</th>\n",
       "      <td>2767052</td>\n",
       "      <td>Suzanne Collins</td>\n",
       "      <td>2008.0</td>\n",
       "      <td>The Hunger Games (The Hunger Games, #1)</td>\n",
       "      <td>4.34</td>\n",
       "      <td>https://images.gr-assets.com/books/1447303603m...</td>\n",
       "      <td>2767052</td>\n",
       "      <td>30574</td>\n",
       "      <td>11314</td>\n",
       "      <td>to-read</td>\n",
       "    </tr>\n",
       "    <tr>\n",
       "      <th>1</th>\n",
       "      <td>2767052</td>\n",
       "      <td>Suzanne Collins</td>\n",
       "      <td>2008.0</td>\n",
       "      <td>The Hunger Games (The Hunger Games, #1)</td>\n",
       "      <td>4.34</td>\n",
       "      <td>https://images.gr-assets.com/books/1447303603m...</td>\n",
       "      <td>2767052</td>\n",
       "      <td>11305</td>\n",
       "      <td>10836</td>\n",
       "      <td>fantasy</td>\n",
       "    </tr>\n",
       "    <tr>\n",
       "      <th>2</th>\n",
       "      <td>2767052</td>\n",
       "      <td>Suzanne Collins</td>\n",
       "      <td>2008.0</td>\n",
       "      <td>The Hunger Games (The Hunger Games, #1)</td>\n",
       "      <td>4.34</td>\n",
       "      <td>https://images.gr-assets.com/books/1447303603m...</td>\n",
       "      <td>2767052</td>\n",
       "      <td>11557</td>\n",
       "      <td>50755</td>\n",
       "      <td>favorites</td>\n",
       "    </tr>\n",
       "    <tr>\n",
       "      <th>3</th>\n",
       "      <td>2767052</td>\n",
       "      <td>Suzanne Collins</td>\n",
       "      <td>2008.0</td>\n",
       "      <td>The Hunger Games (The Hunger Games, #1)</td>\n",
       "      <td>4.34</td>\n",
       "      <td>https://images.gr-assets.com/books/1447303603m...</td>\n",
       "      <td>2767052</td>\n",
       "      <td>8717</td>\n",
       "      <td>35418</td>\n",
       "      <td>currently-reading</td>\n",
       "    </tr>\n",
       "    <tr>\n",
       "      <th>4</th>\n",
       "      <td>2767052</td>\n",
       "      <td>Suzanne Collins</td>\n",
       "      <td>2008.0</td>\n",
       "      <td>The Hunger Games (The Hunger Games, #1)</td>\n",
       "      <td>4.34</td>\n",
       "      <td>https://images.gr-assets.com/books/1447303603m...</td>\n",
       "      <td>2767052</td>\n",
       "      <td>33114</td>\n",
       "      <td>25968</td>\n",
       "      <td>young-adult</td>\n",
       "    </tr>\n",
       "  </tbody>\n",
       "</table>\n",
       "</div>"
      ],
      "text/plain": [
       "   book_id          authors  original_publication_year  \\\n",
       "0  2767052  Suzanne Collins                     2008.0   \n",
       "1  2767052  Suzanne Collins                     2008.0   \n",
       "2  2767052  Suzanne Collins                     2008.0   \n",
       "3  2767052  Suzanne Collins                     2008.0   \n",
       "4  2767052  Suzanne Collins                     2008.0   \n",
       "\n",
       "                                     title  average_rating  \\\n",
       "0  The Hunger Games (The Hunger Games, #1)            4.34   \n",
       "1  The Hunger Games (The Hunger Games, #1)            4.34   \n",
       "2  The Hunger Games (The Hunger Games, #1)            4.34   \n",
       "3  The Hunger Games (The Hunger Games, #1)            4.34   \n",
       "4  The Hunger Games (The Hunger Games, #1)            4.34   \n",
       "\n",
       "                                           image_url  goodreads_book_id  \\\n",
       "0  https://images.gr-assets.com/books/1447303603m...            2767052   \n",
       "1  https://images.gr-assets.com/books/1447303603m...            2767052   \n",
       "2  https://images.gr-assets.com/books/1447303603m...            2767052   \n",
       "3  https://images.gr-assets.com/books/1447303603m...            2767052   \n",
       "4  https://images.gr-assets.com/books/1447303603m...            2767052   \n",
       "\n",
       "   tag_id  count           tag_name  \n",
       "0   30574  11314            to-read  \n",
       "1   11305  10836            fantasy  \n",
       "2   11557  50755          favorites  \n",
       "3    8717  35418  currently-reading  \n",
       "4   33114  25968        young-adult  "
      ]
     },
     "execution_count": 14,
     "metadata": {},
     "output_type": "execute_result"
    }
   ],
   "source": [
    "#books dataset that include booktag \n",
    "booksWithTags = pd.merge(books, tags_join_DF, left_on='book_id', right_on='goodreads_book_id', how='inner')\n",
    "booksWithTags.head()"
   ]
  },
  {
   "cell_type": "code",
   "execution_count": 15,
   "metadata": {
    "slideshow": {
     "slide_type": "slide"
    }
   },
   "outputs": [
    {
     "name": "stdout",
     "output_type": "stream",
     "text": [
      "Book Tag Matrix: [[0 0 0 ... 0 0 0]\n",
      " [0 0 0 ... 0 0 0]\n",
      " [0 0 0 ... 0 0 0]\n",
      " ...\n",
      " [0 0 0 ... 0 0 0]\n",
      " [0 0 0 ... 0 0 0]\n",
      " [0 0 0 ... 0 0 0]]\n"
     ]
    }
   ],
   "source": [
    "#generating matrix for booktag and it's euclidean distance\n",
    "booktag_matrix = cv.fit_transform(booksWithTags[\"tag_name\"].head(10000))\n",
    "print(\"Book Tag Matrix:\", booktag_matrix.toarray())"
   ]
  },
  {
   "cell_type": "code",
   "execution_count": 16,
   "metadata": {
    "slideshow": {
     "slide_type": "slide"
    }
   },
   "outputs": [
    {
     "name": "stdout",
     "output_type": "stream",
     "text": [
      "          0         1         2         3         4         5         6     \\\n",
      "0     0.000000  1.414214  1.414214  2.000000  2.000000  1.414214  1.414214   \n",
      "1     1.414214  0.000000  1.414214  2.000000  2.000000  1.414214  1.414214   \n",
      "2     1.414214  1.414214  0.000000  2.000000  2.000000  1.414214  1.414214   \n",
      "3     2.000000  2.000000  2.000000  0.000000  2.449490  2.000000  2.000000   \n",
      "4     2.000000  2.000000  2.000000  2.449490  0.000000  2.000000  2.000000   \n",
      "...        ...       ...       ...       ...       ...       ...       ...   \n",
      "9995  2.449490  2.449490  2.449490  2.828427  2.828427  2.449490  2.449490   \n",
      "9996  2.449490  2.449490  2.449490  2.828427  2.828427  2.449490  2.449490   \n",
      "9997  1.414214  1.414214  1.414214  2.000000  2.000000  1.414214  1.414214   \n",
      "9998  2.000000  2.000000  2.000000  2.449490  2.449490  2.000000  2.000000   \n",
      "9999  1.414214  1.414214  1.414214  2.000000  2.000000  1.414214  1.414214   \n",
      "\n",
      "          7         8         9     ...      9990      9991      9992  \\\n",
      "0     1.414214  1.414214  1.414214  ...  1.414214  2.449490  1.414214   \n",
      "1     1.414214  1.414214  1.414214  ...  1.414214  2.449490  1.414214   \n",
      "2     1.414214  1.414214  1.414214  ...  1.414214  2.449490  1.414214   \n",
      "3     2.000000  2.000000  2.000000  ...  2.000000  2.828427  2.000000   \n",
      "4     2.000000  2.000000  2.000000  ...  2.000000  2.828427  2.000000   \n",
      "...        ...       ...       ...  ...       ...       ...       ...   \n",
      "9995  2.449490  2.449490  2.449490  ...  2.449490  0.000000  2.000000   \n",
      "9996  2.449490  2.449490  2.449490  ...  2.449490  2.000000  2.449490   \n",
      "9997  1.414214  1.414214  1.414214  ...  1.414214  2.449490  1.414214   \n",
      "9998  2.000000  2.000000  2.000000  ...  2.000000  2.828427  2.000000   \n",
      "9999  1.414214  1.414214  1.414214  ...  1.414214  2.449490  1.414214   \n",
      "\n",
      "          9993      9994      9995      9996      9997      9998      9999  \n",
      "0     2.449490  1.414214  2.449490  2.449490  1.414214  2.000000  1.414214  \n",
      "1     2.828427  1.414214  2.449490  2.449490  1.414214  2.000000  1.414214  \n",
      "2     2.828427  1.414214  2.449490  2.449490  1.414214  2.000000  1.414214  \n",
      "3     3.162278  2.000000  2.828427  2.828427  2.000000  2.449490  2.000000  \n",
      "4     3.162278  2.000000  2.828427  2.828427  2.000000  2.449490  2.000000  \n",
      "...        ...       ...       ...       ...       ...       ...       ...  \n",
      "9995  3.464102  2.449490  0.000000  2.000000  2.449490  2.828427  2.449490  \n",
      "9996  3.464102  2.449490  2.000000  0.000000  2.449490  2.828427  2.449490  \n",
      "9997  2.828427  1.414214  2.449490  2.449490  0.000000  2.000000  1.414214  \n",
      "9998  3.162278  2.000000  2.828427  2.828427  2.000000  0.000000  2.000000  \n",
      "9999  2.828427  1.414214  2.449490  2.449490  1.414214  2.000000  0.000000  \n",
      "\n",
      "[10000 rows x 10000 columns]\n"
     ]
    }
   ],
   "source": [
    "booktag_euclidean_distances = pd.DataFrame(squareform(pdist(booktag_matrix.toarray())))\n",
    "print(booktag_euclidean_distances)"
   ]
  },
  {
   "cell_type": "code",
   "execution_count": 17,
   "metadata": {
    "slideshow": {
     "slide_type": "slide"
    }
   },
   "outputs": [],
   "source": [
    "# Function that get book recommendations based on the eucldiean distance score of book authors\n",
    "def booktags_recommendations_euclidean(title):\n",
    "    #the index of title \n",
    "    idx = indices[title]\n",
    "    euclidean_dis = list(enumerate(booktag_euclidean_distances[idx]))\n",
    "    euclidean_dis = sorted(euclidean_dis, key=lambda x: x[1], reverse=False)\n",
    "    euclidean_dis = euclidean_dis[1:7]\n",
    "    book_indices = [i[0] for i in euclidean_dis]\n",
    "    return titles.iloc[book_indices].to_frame()"
   ]
  },
  {
   "cell_type": "code",
   "execution_count": 18,
   "metadata": {
    "slideshow": {
     "slide_type": "slide"
    }
   },
   "outputs": [
    {
     "data": {
      "text/html": [
       "<div>\n",
       "<style scoped>\n",
       "    .dataframe tbody tr th:only-of-type {\n",
       "        vertical-align: middle;\n",
       "    }\n",
       "\n",
       "    .dataframe tbody tr th {\n",
       "        vertical-align: top;\n",
       "    }\n",
       "\n",
       "    .dataframe thead th {\n",
       "        text-align: right;\n",
       "    }\n",
       "</style>\n",
       "<table border=\"1\" class=\"dataframe\">\n",
       "  <thead>\n",
       "    <tr style=\"text-align: right;\">\n",
       "      <th></th>\n",
       "      <th>title</th>\n",
       "    </tr>\n",
       "  </thead>\n",
       "  <tbody>\n",
       "    <tr>\n",
       "      <th>16</th>\n",
       "      <td>Catching Fire (The Hunger Games, #2)</td>\n",
       "    </tr>\n",
       "    <tr>\n",
       "      <th>31</th>\n",
       "      <td>Of Mice and Men</td>\n",
       "    </tr>\n",
       "    <tr>\n",
       "      <th>107</th>\n",
       "      <td>Les Misérables</td>\n",
       "    </tr>\n",
       "    <tr>\n",
       "      <th>125</th>\n",
       "      <td>Steve Jobs</td>\n",
       "    </tr>\n",
       "    <tr>\n",
       "      <th>149</th>\n",
       "      <td>Dear John</td>\n",
       "    </tr>\n",
       "    <tr>\n",
       "      <th>206</th>\n",
       "      <td>Atonement</td>\n",
       "    </tr>\n",
       "  </tbody>\n",
       "</table>\n",
       "</div>"
      ],
      "text/plain": [
       "                                    title\n",
       "16   Catching Fire (The Hunger Games, #2)\n",
       "31                        Of Mice and Men\n",
       "107                        Les Misérables\n",
       "125                            Steve Jobs\n",
       "149                             Dear John\n",
       "206                             Atonement"
      ]
     },
     "execution_count": 18,
     "metadata": {},
     "output_type": "execute_result"
    }
   ],
   "source": [
    "booktags_recommendations_euclidean(\"The Hobbit\")"
   ]
  },
  {
   "cell_type": "code",
   "execution_count": 19,
   "metadata": {
    "slideshow": {
     "slide_type": "slide"
    }
   },
   "outputs": [
    {
     "data": {
      "text/html": [
       "<div>\n",
       "<style scoped>\n",
       "    .dataframe tbody tr th:only-of-type {\n",
       "        vertical-align: middle;\n",
       "    }\n",
       "\n",
       "    .dataframe tbody tr th {\n",
       "        vertical-align: top;\n",
       "    }\n",
       "\n",
       "    .dataframe thead th {\n",
       "        text-align: right;\n",
       "    }\n",
       "</style>\n",
       "<table border=\"1\" class=\"dataframe\">\n",
       "  <thead>\n",
       "    <tr style=\"text-align: right;\">\n",
       "      <th></th>\n",
       "      <th>title</th>\n",
       "    </tr>\n",
       "  </thead>\n",
       "  <tbody>\n",
       "    <tr>\n",
       "      <th>142</th>\n",
       "      <td>Deception Point</td>\n",
       "    </tr>\n",
       "    <tr>\n",
       "      <th>227</th>\n",
       "      <td>Love in the Time of Cholera</td>\n",
       "    </tr>\n",
       "    <tr>\n",
       "      <th>1128</th>\n",
       "      <td>The One Minute Manager</td>\n",
       "    </tr>\n",
       "    <tr>\n",
       "      <th>1626</th>\n",
       "      <td>Galápagos</td>\n",
       "    </tr>\n",
       "    <tr>\n",
       "      <th>1741</th>\n",
       "      <td>Edge of Eternity (The Century Trilogy, #3)</td>\n",
       "    </tr>\n",
       "    <tr>\n",
       "      <th>1928</th>\n",
       "      <td>A Storm of Swords: Steel and Snow (A Song of I...</td>\n",
       "    </tr>\n",
       "  </tbody>\n",
       "</table>\n",
       "</div>"
      ],
      "text/plain": [
       "                                                  title\n",
       "142                                     Deception Point\n",
       "227                         Love in the Time of Cholera\n",
       "1128                             The One Minute Manager\n",
       "1626                                          Galápagos\n",
       "1741         Edge of Eternity (The Century Trilogy, #3)\n",
       "1928  A Storm of Swords: Steel and Snow (A Song of I..."
      ]
     },
     "execution_count": 19,
     "metadata": {},
     "output_type": "execute_result"
    }
   ],
   "source": [
    "booktags_recommendations_euclidean(\"Romeo and Juliet\")"
   ]
  },
  {
   "cell_type": "markdown",
   "metadata": {
    "slideshow": {
     "slide_type": "slide"
    }
   },
   "source": [
    "## Recommend books using the book title"
   ]
  },
  {
   "cell_type": "code",
   "execution_count": 20,
   "metadata": {
    "slideshow": {
     "slide_type": "slide"
    }
   },
   "outputs": [
    {
     "name": "stdout",
     "output_type": "stream",
     "text": [
      "Title Matrix: [[0 0 0 ... 0 0 0]\n",
      " [0 0 0 ... 0 0 0]\n",
      " [0 0 0 ... 0 0 0]\n",
      " ...\n",
      " [0 0 0 ... 0 0 0]\n",
      " [0 0 0 ... 0 0 0]\n",
      " [0 0 0 ... 0 0 0]]\n"
     ]
    }
   ],
   "source": [
    "#generating matrix for title and it's euclidean distance\n",
    "title_matrix = cv.fit_transform(books[\"title\"])\n",
    "print(\"Title Matrix:\", title_matrix.toarray())"
   ]
  },
  {
   "cell_type": "code",
   "execution_count": 49,
   "metadata": {
    "slideshow": {
     "slide_type": "slide"
    }
   },
   "outputs": [
    {
     "name": "stdout",
     "output_type": "stream",
     "text": [
      "          0         1         2         3         4         5         6     \\\n",
      "0     0.000000  5.477226  4.242641  4.000000  4.000000  4.000000  3.741657   \n",
      "1     5.477226  0.000000  4.690416  4.472136  4.472136  4.472136  4.242641   \n",
      "2     4.242641  4.690416  0.000000  2.828427  2.828427  2.828427  2.449490   \n",
      "3     4.000000  4.472136  2.828427  0.000000  2.449490  2.449490  2.000000   \n",
      "4     4.000000  4.472136  2.828427  2.449490  0.000000  2.449490  2.000000   \n",
      "...        ...       ...       ...       ...       ...       ...       ...   \n",
      "9295  4.242641  4.690416  3.162278  2.828427  2.828427  2.828427  2.449490   \n",
      "9296  4.690416  5.099020  3.741657  3.464102  3.464102  3.464102  3.162278   \n",
      "9297  4.000000  4.472136  2.828427  2.449490  2.449490  2.449490  2.000000   \n",
      "9298  5.477226  5.830952  4.690416  4.472136  4.472136  4.472136  4.242641   \n",
      "9299  4.000000  4.472136  2.828427  2.449490  2.449490  2.449490  2.000000   \n",
      "\n",
      "          7         8         9     ...      9290      9291      9292  \\\n",
      "0     4.000000  4.472136  4.000000  ...  4.000000  4.690416  5.477226   \n",
      "1     4.472136  4.898979  4.472136  ...  4.472136  5.099020  5.830952   \n",
      "2     2.828427  3.464102  2.828427  ...  2.828427  3.741657  4.690416   \n",
      "3     2.449490  3.162278  2.449490  ...  2.449490  3.464102  4.472136   \n",
      "4     2.449490  3.162278  2.449490  ...  2.449490  3.464102  4.472136   \n",
      "...        ...       ...       ...  ...       ...       ...       ...   \n",
      "9295  2.828427  3.464102  2.828427  ...  2.828427  3.741657  4.690416   \n",
      "9296  3.464102  4.000000  3.464102  ...  3.464102  4.242641  5.099020   \n",
      "9297  2.449490  3.162278  2.449490  ...  2.449490  3.464102  4.472136   \n",
      "9298  4.472136  4.898979  4.472136  ...  4.472136  5.099020  5.830952   \n",
      "9299  2.449490  3.162278  2.449490  ...  2.449490  3.464102  4.472136   \n",
      "\n",
      "          9293      9294      9295      9296      9297      9298      9299  \n",
      "0     4.472136  4.242641  4.242641  4.690416  4.000000  5.477226  4.000000  \n",
      "1     4.898979  4.690416  4.690416  5.099020  4.472136  5.830952  4.472136  \n",
      "2     3.464102  3.162278  3.162278  3.741657  2.828427  4.690416  2.828427  \n",
      "3     3.162278  2.828427  2.828427  3.464102  2.449490  4.472136  2.449490  \n",
      "4     3.162278  2.828427  2.828427  3.464102  2.449490  4.472136  2.449490  \n",
      "...        ...       ...       ...       ...       ...       ...       ...  \n",
      "9295  3.464102  3.162278  0.000000  3.741657  2.828427  4.690416  2.828427  \n",
      "9296  4.000000  3.741657  3.741657  0.000000  3.464102  5.099020  3.464102  \n",
      "9297  3.162278  2.828427  2.828427  3.464102  0.000000  4.472136  2.449490  \n",
      "9298  4.898979  4.690416  4.690416  5.099020  4.472136  0.000000  4.472136  \n",
      "9299  2.828427  2.828427  2.828427  3.464102  2.449490  4.472136  0.000000  \n",
      "\n",
      "[9300 rows x 9300 columns]\n"
     ]
    }
   ],
   "source": [
    "title_euclidean_distances = pd.DataFrame(squareform(pdist(title_matrix.toarray(),'euclidean')))\n",
    "print(title_euclidean_distances)"
   ]
  },
  {
   "cell_type": "code",
   "execution_count": 50,
   "metadata": {
    "slideshow": {
     "slide_type": "slide"
    }
   },
   "outputs": [],
   "source": [
    "# Function that get book recommendations based on the euclidean distance score of book title\n",
    "def title_recommendations_euclidean(title):\n",
    "    idx = indices[title]\n",
    "    euclidean_dis = list(enumerate(title_euclidean_distances[idx]))\n",
    "    euclidean_dis = sorted(euclidean_dis, key=lambda x: x[1], reverse=False)\n",
    "    euclidean_dis = euclidean_dis[1:7]\n",
    "    book_indices = [i[0] for i in euclidean_dis]\n",
    "    titles.iloc[book_indices].to_frame().head(10)\n",
    "    return titles.iloc[book_indices].to_frame()"
   ]
  },
  {
   "cell_type": "code",
   "execution_count": 51,
   "metadata": {
    "slideshow": {
     "slide_type": "slide"
    }
   },
   "outputs": [
    {
     "data": {
      "text/html": [
       "<div>\n",
       "<style scoped>\n",
       "    .dataframe tbody tr th:only-of-type {\n",
       "        vertical-align: middle;\n",
       "    }\n",
       "\n",
       "    .dataframe tbody tr th {\n",
       "        vertical-align: top;\n",
       "    }\n",
       "\n",
       "    .dataframe thead th {\n",
       "        text-align: right;\n",
       "    }\n",
       "</style>\n",
       "<table border=\"1\" class=\"dataframe\">\n",
       "  <thead>\n",
       "    <tr style=\"text-align: right;\">\n",
       "      <th></th>\n",
       "      <th>title</th>\n",
       "    </tr>\n",
       "  </thead>\n",
       "  <tbody>\n",
       "    <tr>\n",
       "      <th>110</th>\n",
       "      <td>Me Before You (Me Before You, #1)</td>\n",
       "    </tr>\n",
       "    <tr>\n",
       "      <th>172</th>\n",
       "      <td>It</td>\n",
       "    </tr>\n",
       "    <tr>\n",
       "      <th>195</th>\n",
       "      <td>And Then There Were None</td>\n",
       "    </tr>\n",
       "    <tr>\n",
       "      <th>1020</th>\n",
       "      <td>Why Not Me?</td>\n",
       "    </tr>\n",
       "    <tr>\n",
       "      <th>1203</th>\n",
       "      <td>What Is the What</td>\n",
       "    </tr>\n",
       "    <tr>\n",
       "      <th>1414</th>\n",
       "      <td>Everything, Everything</td>\n",
       "    </tr>\n",
       "  </tbody>\n",
       "</table>\n",
       "</div>"
      ],
      "text/plain": [
       "                                  title\n",
       "110   Me Before You (Me Before You, #1)\n",
       "172                                  It\n",
       "195            And Then There Were None\n",
       "1020                        Why Not Me?\n",
       "1203                   What Is the What\n",
       "1414             Everything, Everything"
      ]
     },
     "execution_count": 51,
     "metadata": {},
     "output_type": "execute_result"
    }
   ],
   "source": [
    "title_recommendations_euclidean(\"The Hobbit\")"
   ]
  },
  {
   "cell_type": "code",
   "execution_count": 52,
   "metadata": {
    "slideshow": {
     "slide_type": "slide"
    }
   },
   "outputs": [
    {
     "data": {
      "text/html": [
       "<div>\n",
       "<style scoped>\n",
       "    .dataframe tbody tr th:only-of-type {\n",
       "        vertical-align: middle;\n",
       "    }\n",
       "\n",
       "    .dataframe tbody tr th {\n",
       "        vertical-align: top;\n",
       "    }\n",
       "\n",
       "    .dataframe thead th {\n",
       "        text-align: right;\n",
       "    }\n",
       "</style>\n",
       "<table border=\"1\" class=\"dataframe\">\n",
       "  <thead>\n",
       "    <tr style=\"text-align: right;\">\n",
       "      <th></th>\n",
       "      <th>title</th>\n",
       "    </tr>\n",
       "  </thead>\n",
       "  <tbody>\n",
       "    <tr>\n",
       "      <th>6097</th>\n",
       "      <td>Juliet</td>\n",
       "    </tr>\n",
       "    <tr>\n",
       "      <th>7190</th>\n",
       "      <td>Shakespeare's Romeo and Juliet</td>\n",
       "    </tr>\n",
       "    <tr>\n",
       "      <th>110</th>\n",
       "      <td>Me Before You (Me Before You, #1)</td>\n",
       "    </tr>\n",
       "    <tr>\n",
       "      <th>172</th>\n",
       "      <td>It</td>\n",
       "    </tr>\n",
       "    <tr>\n",
       "      <th>195</th>\n",
       "      <td>And Then There Were None</td>\n",
       "    </tr>\n",
       "    <tr>\n",
       "      <th>1020</th>\n",
       "      <td>Why Not Me?</td>\n",
       "    </tr>\n",
       "  </tbody>\n",
       "</table>\n",
       "</div>"
      ],
      "text/plain": [
       "                                  title\n",
       "6097                             Juliet\n",
       "7190     Shakespeare's Romeo and Juliet\n",
       "110   Me Before You (Me Before You, #1)\n",
       "172                                  It\n",
       "195            And Then There Were None\n",
       "1020                        Why Not Me?"
      ]
     },
     "execution_count": 52,
     "metadata": {},
     "output_type": "execute_result"
    }
   ],
   "source": [
    "title_recommendations_euclidean(\"Romeo and Juliet\")"
   ]
  },
  {
   "cell_type": "markdown",
   "metadata": {
    "slideshow": {
     "slide_type": "slide"
    }
   },
   "source": [
    "## Recommend books using the publication year"
   ]
  },
  {
   "cell_type": "code",
   "execution_count": 53,
   "metadata": {
    "slideshow": {
     "slide_type": "slide"
    }
   },
   "outputs": [],
   "source": [
    "#need to convert the year in books to string \n",
    "books['original_publication_year'] = books['original_publication_year'].astype(str)"
   ]
  },
  {
   "cell_type": "code",
   "execution_count": 54,
   "metadata": {
    "slideshow": {
     "slide_type": "slide"
    }
   },
   "outputs": [
    {
     "name": "stdout",
     "output_type": "stream",
     "text": [
      "Year Matrix: [[0 0 0 ... 0 0 0]\n",
      " [0 0 0 ... 0 0 0]\n",
      " [0 0 0 ... 0 0 0]\n",
      " ...\n",
      " [0 0 0 ... 0 0 0]\n",
      " [0 0 0 ... 0 0 0]\n",
      " [0 0 0 ... 0 0 0]]\n"
     ]
    }
   ],
   "source": [
    "#generating matrix for title and it's euclidean distance\n",
    "year_matrix = cv.fit_transform(books[\"original_publication_year\"])\n",
    "print(\"Year Matrix:\", year_matrix.toarray())"
   ]
  },
  {
   "cell_type": "code",
   "execution_count": 55,
   "metadata": {
    "slideshow": {
     "slide_type": "slide"
    }
   },
   "outputs": [
    {
     "name": "stdout",
     "output_type": "stream",
     "text": [
      "          0         1         2         3         4         5         6     \\\n",
      "0     0.000000  1.414214  1.414214  1.414214  1.414214  1.414214  1.414214   \n",
      "1     1.414214  0.000000  1.414214  1.414214  1.414214  1.414214  1.414214   \n",
      "2     1.414214  1.414214  0.000000  1.414214  1.414214  1.414214  1.414214   \n",
      "3     1.414214  1.414214  1.414214  0.000000  1.414214  1.414214  1.414214   \n",
      "4     1.414214  1.414214  1.414214  1.414214  0.000000  1.414214  1.414214   \n",
      "...        ...       ...       ...       ...       ...       ...       ...   \n",
      "9295  1.414214  1.414214  1.414214  1.414214  1.414214  1.414214  1.414214   \n",
      "9296  1.414214  1.414214  1.414214  1.414214  1.414214  1.414214  1.414214   \n",
      "9297  1.414214  1.414214  1.414214  1.414214  1.414214  1.414214  1.414214   \n",
      "9298  1.414214  1.414214  1.414214  1.414214  1.414214  1.414214  1.414214   \n",
      "9299  1.414214  1.414214  1.414214  1.414214  1.414214  1.414214  1.414214   \n",
      "\n",
      "          7         8         9     ...      9290      9291      9292  \\\n",
      "0     1.414214  1.414214  1.414214  ...  1.414214  1.414214  0.000000   \n",
      "1     1.414214  1.414214  1.414214  ...  1.414214  1.414214  1.414214   \n",
      "2     1.414214  1.414214  1.414214  ...  1.414214  1.414214  1.414214   \n",
      "3     1.414214  1.414214  1.414214  ...  1.414214  1.414214  1.414214   \n",
      "4     1.414214  1.414214  1.414214  ...  1.414214  1.414214  1.414214   \n",
      "...        ...       ...       ...  ...       ...       ...       ...   \n",
      "9295  1.414214  1.414214  1.414214  ...  1.414214  1.414214  1.414214   \n",
      "9296  1.414214  1.414214  1.414214  ...  1.414214  1.414214  1.414214   \n",
      "9297  1.414214  1.414214  1.414214  ...  1.414214  1.414214  1.414214   \n",
      "9298  1.414214  1.414214  1.414214  ...  1.414214  1.414214  1.414214   \n",
      "9299  1.414214  1.414214  1.414214  ...  1.414214  1.414214  1.414214   \n",
      "\n",
      "          9293      9294      9295      9296      9297      9298      9299  \n",
      "0     1.414214  1.414214  1.414214  1.414214  1.414214  1.414214  1.414214  \n",
      "1     1.414214  1.414214  1.414214  1.414214  1.414214  1.414214  1.414214  \n",
      "2     1.414214  1.414214  1.414214  1.414214  1.414214  1.414214  1.414214  \n",
      "3     1.414214  1.414214  1.414214  1.414214  1.414214  1.414214  1.414214  \n",
      "4     1.414214  1.414214  1.414214  1.414214  1.414214  1.414214  1.414214  \n",
      "...        ...       ...       ...       ...       ...       ...       ...  \n",
      "9295  1.414214  1.414214  0.000000  1.414214  1.414214  1.414214  1.414214  \n",
      "9296  1.414214  1.414214  1.414214  0.000000  1.414214  1.414214  1.414214  \n",
      "9297  1.414214  1.414214  1.414214  1.414214  0.000000  1.414214  1.414214  \n",
      "9298  1.414214  1.414214  1.414214  1.414214  1.414214  0.000000  1.414214  \n",
      "9299  1.414214  1.414214  1.414214  1.414214  1.414214  1.414214  0.000000  \n",
      "\n",
      "[9300 rows x 9300 columns]\n"
     ]
    }
   ],
   "source": [
    "year_euclidean_distances = pd.DataFrame(squareform(pdist(year_matrix.toarray(),'euclidean')))\n",
    "print(year_euclidean_distances)"
   ]
  },
  {
   "cell_type": "code",
   "execution_count": 56,
   "metadata": {
    "slideshow": {
     "slide_type": "slide"
    }
   },
   "outputs": [],
   "source": [
    "# Function that get book recommendations based on the euclidean distance score of book published year\n",
    "def year_recommendations_euclidean(title):\n",
    "    idx = indices[title]\n",
    "    euclidean_dis = list(enumerate(year_euclidean_distances[idx]))\n",
    "    euclidean_dis = sorted(euclidean_dis, key=lambda x: x[1], reverse=False)\n",
    "    euclidean_dis = euclidean_dis[1:7]\n",
    "    book_indices = [i[0] for i in euclidean_dis]\n",
    "    return titles.iloc[book_indices].to_frame()"
   ]
  },
  {
   "cell_type": "code",
   "execution_count": 57,
   "metadata": {
    "slideshow": {
     "slide_type": "slide"
    }
   },
   "outputs": [
    {
     "data": {
      "text/html": [
       "<div>\n",
       "<style scoped>\n",
       "    .dataframe tbody tr th:only-of-type {\n",
       "        vertical-align: middle;\n",
       "    }\n",
       "\n",
       "    .dataframe tbody tr th {\n",
       "        vertical-align: top;\n",
       "    }\n",
       "\n",
       "    .dataframe thead th {\n",
       "        text-align: right;\n",
       "    }\n",
       "</style>\n",
       "<table border=\"1\" class=\"dataframe\">\n",
       "  <thead>\n",
       "    <tr style=\"text-align: right;\">\n",
       "      <th></th>\n",
       "      <th>title</th>\n",
       "    </tr>\n",
       "  </thead>\n",
       "  <tbody>\n",
       "    <tr>\n",
       "      <th>31</th>\n",
       "      <td>Of Mice and Men</td>\n",
       "    </tr>\n",
       "    <tr>\n",
       "      <th>457</th>\n",
       "      <td>Their Eyes Were Watching God</td>\n",
       "    </tr>\n",
       "    <tr>\n",
       "      <th>667</th>\n",
       "      <td>Think and Grow Rich: The Landmark Bestseller -...</td>\n",
       "    </tr>\n",
       "    <tr>\n",
       "      <th>1448</th>\n",
       "      <td>On the Banks of Plum Creek  (Little House, #4)</td>\n",
       "    </tr>\n",
       "    <tr>\n",
       "      <th>1687</th>\n",
       "      <td>Death on the Nile (Hercule Poirot, #17)</td>\n",
       "    </tr>\n",
       "    <tr>\n",
       "      <th>3776</th>\n",
       "      <td>The Cost of Discipleship</td>\n",
       "    </tr>\n",
       "  </tbody>\n",
       "</table>\n",
       "</div>"
      ],
      "text/plain": [
       "                                                  title\n",
       "31                                      Of Mice and Men\n",
       "457                        Their Eyes Were Watching God\n",
       "667   Think and Grow Rich: The Landmark Bestseller -...\n",
       "1448     On the Banks of Plum Creek  (Little House, #4)\n",
       "1687            Death on the Nile (Hercule Poirot, #17)\n",
       "3776                           The Cost of Discipleship"
      ]
     },
     "execution_count": 57,
     "metadata": {},
     "output_type": "execute_result"
    }
   ],
   "source": [
    "year_recommendations_euclidean(\"The Hobbit\")"
   ]
  },
  {
   "cell_type": "code",
   "execution_count": 58,
   "metadata": {
    "slideshow": {
     "slide_type": "slide"
    }
   },
   "outputs": [
    {
     "data": {
      "text/html": [
       "<div>\n",
       "<style scoped>\n",
       "    .dataframe tbody tr th:only-of-type {\n",
       "        vertical-align: middle;\n",
       "    }\n",
       "\n",
       "    .dataframe tbody tr th {\n",
       "        vertical-align: top;\n",
       "    }\n",
       "\n",
       "    .dataframe thead th {\n",
       "        text-align: right;\n",
       "    }\n",
       "</style>\n",
       "<table border=\"1\" class=\"dataframe\">\n",
       "  <thead>\n",
       "    <tr style=\"text-align: right;\">\n",
       "      <th></th>\n",
       "      <th>title</th>\n",
       "    </tr>\n",
       "  </thead>\n",
       "  <tbody>\n",
       "    <tr>\n",
       "      <th>242</th>\n",
       "      <td>A Midsummer Night's Dream</td>\n",
       "    </tr>\n",
       "    <tr>\n",
       "      <th>8306</th>\n",
       "      <td>Richard II</td>\n",
       "    </tr>\n",
       "    <tr>\n",
       "      <th>0</th>\n",
       "      <td>The Hunger Games (The Hunger Games, #1)</td>\n",
       "    </tr>\n",
       "    <tr>\n",
       "      <th>1</th>\n",
       "      <td>Harry Potter and the Sorcerer's Stone (Harry P...</td>\n",
       "    </tr>\n",
       "    <tr>\n",
       "      <th>2</th>\n",
       "      <td>Twilight (Twilight, #1)</td>\n",
       "    </tr>\n",
       "    <tr>\n",
       "      <th>3</th>\n",
       "      <td>To Kill a Mockingbird</td>\n",
       "    </tr>\n",
       "  </tbody>\n",
       "</table>\n",
       "</div>"
      ],
      "text/plain": [
       "                                                  title\n",
       "242                           A Midsummer Night's Dream\n",
       "8306                                         Richard II\n",
       "0               The Hunger Games (The Hunger Games, #1)\n",
       "1     Harry Potter and the Sorcerer's Stone (Harry P...\n",
       "2                               Twilight (Twilight, #1)\n",
       "3                                 To Kill a Mockingbird"
      ]
     },
     "execution_count": 58,
     "metadata": {},
     "output_type": "execute_result"
    }
   ],
   "source": [
    "year_recommendations_euclidean(\"Romeo and Juliet\")"
   ]
  },
  {
   "cell_type": "code",
   "execution_count": 59,
   "metadata": {
    "slideshow": {
     "slide_type": "slide"
    }
   },
   "outputs": [
    {
     "data": {
      "text/html": [
       "<div>\n",
       "<style scoped>\n",
       "    .dataframe tbody tr th:only-of-type {\n",
       "        vertical-align: middle;\n",
       "    }\n",
       "\n",
       "    .dataframe tbody tr th {\n",
       "        vertical-align: top;\n",
       "    }\n",
       "\n",
       "    .dataframe thead th {\n",
       "        text-align: right;\n",
       "    }\n",
       "</style>\n",
       "<table border=\"1\" class=\"dataframe\">\n",
       "  <thead>\n",
       "    <tr style=\"text-align: right;\">\n",
       "      <th></th>\n",
       "      <th>title</th>\n",
       "    </tr>\n",
       "  </thead>\n",
       "  <tbody>\n",
       "    <tr>\n",
       "      <th>15</th>\n",
       "      <td>The Girl with the Dragon Tattoo (Millennium, #1)</td>\n",
       "    </tr>\n",
       "    <tr>\n",
       "      <th>26</th>\n",
       "      <td>Harry Potter and the Half-Blood Prince (Harry ...</td>\n",
       "    </tr>\n",
       "    <tr>\n",
       "      <th>40</th>\n",
       "      <td>The Lightning Thief (Percy Jackson and the Oly...</td>\n",
       "    </tr>\n",
       "    <tr>\n",
       "      <th>46</th>\n",
       "      <td>The Book Thief</td>\n",
       "    </tr>\n",
       "    <tr>\n",
       "      <th>73</th>\n",
       "      <td>Looking for Alaska</td>\n",
       "    </tr>\n",
       "    <tr>\n",
       "      <th>80</th>\n",
       "      <td>The Glass Castle</td>\n",
       "    </tr>\n",
       "  </tbody>\n",
       "</table>\n",
       "</div>"
      ],
      "text/plain": [
       "                                                title\n",
       "15   The Girl with the Dragon Tattoo (Millennium, #1)\n",
       "26  Harry Potter and the Half-Blood Prince (Harry ...\n",
       "40  The Lightning Thief (Percy Jackson and the Oly...\n",
       "46                                     The Book Thief\n",
       "73                                 Looking for Alaska\n",
       "80                                   The Glass Castle"
      ]
     },
     "execution_count": 59,
     "metadata": {},
     "output_type": "execute_result"
    }
   ],
   "source": [
    "year_recommendations_euclidean(\"Twilight (Twilight, #1)\")"
   ]
  },
  {
   "cell_type": "markdown",
   "metadata": {
    "slideshow": {
     "slide_type": "slide"
    }
   },
   "source": [
    "## Recommendation of books using the authors and tags attributes \n",
    "\n",
    "\n"
   ]
  },
  {
   "cell_type": "code",
   "execution_count": 60,
   "metadata": {
    "slideshow": {
     "slide_type": "slide"
    }
   },
   "outputs": [
    {
     "data": {
      "text/html": [
       "<div>\n",
       "<style scoped>\n",
       "    .dataframe tbody tr th:only-of-type {\n",
       "        vertical-align: middle;\n",
       "    }\n",
       "\n",
       "    .dataframe tbody tr th {\n",
       "        vertical-align: top;\n",
       "    }\n",
       "\n",
       "    .dataframe thead th {\n",
       "        text-align: right;\n",
       "    }\n",
       "</style>\n",
       "<table border=\"1\" class=\"dataframe\">\n",
       "  <thead>\n",
       "    <tr style=\"text-align: right;\">\n",
       "      <th></th>\n",
       "      <th>book_id</th>\n",
       "      <th>tag_name</th>\n",
       "    </tr>\n",
       "  </thead>\n",
       "  <tbody>\n",
       "    <tr>\n",
       "      <th>0</th>\n",
       "      <td>1</td>\n",
       "      <td>to-read fantasy favorites currently-reading yo...</td>\n",
       "    </tr>\n",
       "    <tr>\n",
       "      <th>1</th>\n",
       "      <td>2</td>\n",
       "      <td>to-read fantasy favorites currently-reading yo...</td>\n",
       "    </tr>\n",
       "    <tr>\n",
       "      <th>2</th>\n",
       "      <td>3</td>\n",
       "      <td>to-read fantasy favorites currently-reading yo...</td>\n",
       "    </tr>\n",
       "    <tr>\n",
       "      <th>3</th>\n",
       "      <td>5</td>\n",
       "      <td>to-read fantasy favorites currently-reading yo...</td>\n",
       "    </tr>\n",
       "    <tr>\n",
       "      <th>4</th>\n",
       "      <td>6</td>\n",
       "      <td>to-read fantasy young-adult fiction harry-pott...</td>\n",
       "    </tr>\n",
       "  </tbody>\n",
       "</table>\n",
       "</div>"
      ],
      "text/plain": [
       "   book_id                                           tag_name\n",
       "0        1  to-read fantasy favorites currently-reading yo...\n",
       "1        2  to-read fantasy favorites currently-reading yo...\n",
       "2        3  to-read fantasy favorites currently-reading yo...\n",
       "3        5  to-read fantasy favorites currently-reading yo...\n",
       "4        6  to-read fantasy young-adult fiction harry-pott..."
      ]
     },
     "execution_count": 60,
     "metadata": {},
     "output_type": "execute_result"
    }
   ],
   "source": [
    "temp_df = booksWithTags.groupby('book_id')['tag_name'].apply(' '.join).reset_index()\n",
    "temp_df.head()"
   ]
  },
  {
   "cell_type": "code",
   "execution_count": 61,
   "metadata": {
    "slideshow": {
     "slide_type": "slide"
    }
   },
   "outputs": [],
   "source": [
    "books = pd.merge(books, temp_df, left_on='book_id', right_on='book_id', how='inner')"
   ]
  },
  {
   "cell_type": "code",
   "execution_count": 62,
   "metadata": {
    "slideshow": {
     "slide_type": "slide"
    }
   },
   "outputs": [],
   "source": [
    "#corpus = collection of text\n",
    "#corpus in this case belongs to text with mixture of authors and a\n",
    "books['corpus'] = (pd.Series(booksWithTags[['authors', 'tag_name']]\n",
    "                .fillna('')\n",
    "                .values.tolist()\n",
    "                ).str.join(' '))"
   ]
  },
  {
   "cell_type": "code",
   "execution_count": 63,
   "metadata": {
    "slideshow": {
     "slide_type": "slide"
    }
   },
   "outputs": [
    {
     "name": "stdout",
     "output_type": "stream",
     "text": [
      "Corpus Matrix: [[0 0 0 ... 0 0 0]\n",
      " [0 0 0 ... 0 0 0]\n",
      " [0 0 0 ... 0 0 0]\n",
      " ...\n",
      " [0 0 0 ... 0 0 0]\n",
      " [0 0 0 ... 0 0 0]\n",
      " [0 0 0 ... 0 0 0]]\n"
     ]
    }
   ],
   "source": [
    "#generating matrix for publication year and it's euclidean distance\n",
    "corpus_matrix = cv.fit_transform(books[\"corpus\"])\n",
    "print(\"Corpus Matrix:\", title_matrix.toarray())"
   ]
  },
  {
   "cell_type": "code",
   "execution_count": 64,
   "metadata": {
    "slideshow": {
     "slide_type": "slide"
    }
   },
   "outputs": [],
   "source": [
    "corpus_euclidean_distances = pd.DataFrame(squareform(pdist(corpus_matrix.toarray())))"
   ]
  },
  {
   "cell_type": "code",
   "execution_count": 65,
   "metadata": {
    "slideshow": {
     "slide_type": "slide"
    }
   },
   "outputs": [
    {
     "name": "stdout",
     "output_type": "stream",
     "text": [
      "          0         1         2         3         4         5         6     \\\n",
      "0     0.000000  2.000000  2.000000  2.449490  2.449490  2.000000  2.000000   \n",
      "1     2.000000  0.000000  2.000000  2.449490  2.449490  2.000000  2.000000   \n",
      "2     2.000000  2.000000  0.000000  2.449490  2.449490  2.000000  2.000000   \n",
      "3     2.449490  2.449490  2.449490  0.000000  2.828427  2.449490  2.449490   \n",
      "4     2.449490  2.449490  2.449490  2.828427  0.000000  2.449490  2.449490   \n",
      "...        ...       ...       ...       ...       ...       ...       ...   \n",
      "9295  3.741657  3.741657  3.741657  4.000000  4.000000  3.741657  3.741657   \n",
      "9296  3.464102  3.464102  3.464102  3.741657  3.741657  3.464102  3.464102   \n",
      "9297  3.741657  3.741657  3.741657  4.000000  4.000000  3.741657  3.741657   \n",
      "9298  3.464102  3.464102  3.464102  3.741657  3.741657  3.464102  3.464102   \n",
      "9299  5.099020  5.099020  5.099020  5.291503  5.291503  5.099020  5.099020   \n",
      "\n",
      "          7         8         9     ...      9290      9291      9292  \\\n",
      "0     2.000000  2.000000  2.000000  ...  3.741657  3.464102  3.464102   \n",
      "1     2.000000  2.000000  2.000000  ...  3.741657  3.741657  3.741657   \n",
      "2     2.000000  2.000000  2.000000  ...  3.741657  3.741657  3.741657   \n",
      "3     2.449490  2.449490  2.449490  ...  4.000000  4.000000  4.000000   \n",
      "4     2.449490  2.449490  2.449490  ...  4.000000  4.000000  4.000000   \n",
      "...        ...       ...       ...  ...       ...       ...       ...   \n",
      "9295  3.741657  3.741657  3.741657  ...  2.828427  2.828427  2.828427   \n",
      "9296  3.464102  3.464102  3.464102  ...  2.449490  2.449490  2.449490   \n",
      "9297  3.741657  3.741657  3.741657  ...  2.000000  2.828427  2.828427   \n",
      "9298  3.464102  3.464102  3.464102  ...  2.449490  2.449490  2.449490   \n",
      "9299  5.099020  5.099020  5.099020  ...  3.162278  3.162278  3.162278   \n",
      "\n",
      "          9293      9294      9295      9296      9297      9298      9299  \n",
      "0     3.464102  3.741657  3.741657  3.464102  3.741657  3.464102  5.099020  \n",
      "1     3.464102  3.741657  3.741657  3.464102  3.741657  3.464102  5.099020  \n",
      "2     3.464102  3.741657  3.741657  3.464102  3.741657  3.464102  5.099020  \n",
      "3     3.741657  4.000000  4.000000  3.741657  4.000000  3.741657  5.291503  \n",
      "4     3.741657  4.000000  4.000000  3.741657  4.000000  3.741657  5.291503  \n",
      "...        ...       ...       ...       ...       ...       ...       ...  \n",
      "9295  2.449490  2.000000  0.000000  2.449490  2.828427  2.449490  3.162278  \n",
      "9296  2.000000  2.449490  2.449490  0.000000  2.449490  2.000000  2.828427  \n",
      "9297  2.449490  2.828427  2.828427  2.449490  0.000000  2.449490  3.162278  \n",
      "9298  2.000000  2.449490  2.449490  2.000000  2.449490  0.000000  2.828427  \n",
      "9299  2.828427  3.162278  3.162278  2.828427  3.162278  2.828427  0.000000  \n",
      "\n",
      "[9300 rows x 9300 columns]\n"
     ]
    }
   ],
   "source": [
    "print(corpus_euclidean_distances)"
   ]
  },
  {
   "cell_type": "code",
   "execution_count": 66,
   "metadata": {
    "slideshow": {
     "slide_type": "slide"
    }
   },
   "outputs": [],
   "source": [
    "# Build a 1-dimensional array with book titles\n",
    "titles = books['title']\n",
    "indices = pd.Series(books.index, index=books['title'])\n",
    "\n",
    "# Function that get book recommendations based on the euclidean distance score of book's corpus info\n",
    "def corpus_recommendations(title):\n",
    "    idx = indices[title]\n",
    "    euclidean_dis = list(enumerate(corpus_euclidean_distances[idx]))\n",
    "    euclidean_dis = sorted(euclidean_dis, key=lambda x: x[1], reverse=False)\n",
    "    euclidean_dis = euclidean_dis[1:7]\n",
    "    book_indices = [i[0] for i in euclidean_dis]\n",
    "    return titles.iloc[book_indices].to_frame()\n"
   ]
  },
  {
   "cell_type": "code",
   "execution_count": 67,
   "metadata": {
    "slideshow": {
     "slide_type": "slide"
    }
   },
   "outputs": [
    {
     "data": {
      "text/html": [
       "<div>\n",
       "<style scoped>\n",
       "    .dataframe tbody tr th:only-of-type {\n",
       "        vertical-align: middle;\n",
       "    }\n",
       "\n",
       "    .dataframe tbody tr th {\n",
       "        vertical-align: top;\n",
       "    }\n",
       "\n",
       "    .dataframe thead th {\n",
       "        text-align: right;\n",
       "    }\n",
       "</style>\n",
       "<table border=\"1\" class=\"dataframe\">\n",
       "  <thead>\n",
       "    <tr style=\"text-align: right;\">\n",
       "      <th></th>\n",
       "      <th>title</th>\n",
       "    </tr>\n",
       "  </thead>\n",
       "  <tbody>\n",
       "    <tr>\n",
       "      <th>11</th>\n",
       "      <td>Divergent (Divergent, #1)</td>\n",
       "    </tr>\n",
       "    <tr>\n",
       "      <th>26</th>\n",
       "      <td>Harry Potter and the Half-Blood Prince (Harry ...</td>\n",
       "    </tr>\n",
       "    <tr>\n",
       "      <th>1600</th>\n",
       "      <td>Rant</td>\n",
       "    </tr>\n",
       "    <tr>\n",
       "      <th>1624</th>\n",
       "      <td>Prince of Thorns (The Broken Empire, #1)</td>\n",
       "    </tr>\n",
       "    <tr>\n",
       "      <th>1900</th>\n",
       "      <td>Fool's Errand (Tawny Man, #1)</td>\n",
       "    </tr>\n",
       "    <tr>\n",
       "      <th>1912</th>\n",
       "      <td>I'm a Stranger Here Myself: Notes on Returning...</td>\n",
       "    </tr>\n",
       "  </tbody>\n",
       "</table>\n",
       "</div>"
      ],
      "text/plain": [
       "                                                  title\n",
       "11                            Divergent (Divergent, #1)\n",
       "26    Harry Potter and the Half-Blood Prince (Harry ...\n",
       "1600                                               Rant\n",
       "1624           Prince of Thorns (The Broken Empire, #1)\n",
       "1900                      Fool's Errand (Tawny Man, #1)\n",
       "1912  I'm a Stranger Here Myself: Notes on Returning..."
      ]
     },
     "execution_count": 67,
     "metadata": {},
     "output_type": "execute_result"
    }
   ],
   "source": [
    "corpus_recommendations(\"The Hunger Games (The Hunger Games, #1)\")"
   ]
  },
  {
   "cell_type": "code",
   "execution_count": 68,
   "metadata": {
    "slideshow": {
     "slide_type": "slide"
    }
   },
   "outputs": [
    {
     "data": {
      "text/html": [
       "<div>\n",
       "<style scoped>\n",
       "    .dataframe tbody tr th:only-of-type {\n",
       "        vertical-align: middle;\n",
       "    }\n",
       "\n",
       "    .dataframe tbody tr th {\n",
       "        vertical-align: top;\n",
       "    }\n",
       "\n",
       "    .dataframe thead th {\n",
       "        text-align: right;\n",
       "    }\n",
       "</style>\n",
       "<table border=\"1\" class=\"dataframe\">\n",
       "  <thead>\n",
       "    <tr style=\"text-align: right;\">\n",
       "      <th></th>\n",
       "      <th>title</th>\n",
       "    </tr>\n",
       "  </thead>\n",
       "  <tbody>\n",
       "    <tr>\n",
       "      <th>16</th>\n",
       "      <td>Catching Fire (The Hunger Games, #2)</td>\n",
       "    </tr>\n",
       "    <tr>\n",
       "      <th>31</th>\n",
       "      <td>Of Mice and Men</td>\n",
       "    </tr>\n",
       "    <tr>\n",
       "      <th>1605</th>\n",
       "      <td>Cross My Heart and Hope to Spy (Gallagher Girl...</td>\n",
       "    </tr>\n",
       "    <tr>\n",
       "      <th>1614</th>\n",
       "      <td>Fantastic Mr. Fox</td>\n",
       "    </tr>\n",
       "    <tr>\n",
       "      <th>1673</th>\n",
       "      <td>Dragon Rider (Dragon Rider, #1)</td>\n",
       "    </tr>\n",
       "    <tr>\n",
       "      <th>1906</th>\n",
       "      <td>Possession</td>\n",
       "    </tr>\n",
       "  </tbody>\n",
       "</table>\n",
       "</div>"
      ],
      "text/plain": [
       "                                                  title\n",
       "16                 Catching Fire (The Hunger Games, #2)\n",
       "31                                      Of Mice and Men\n",
       "1605  Cross My Heart and Hope to Spy (Gallagher Girl...\n",
       "1614                                  Fantastic Mr. Fox\n",
       "1673                    Dragon Rider (Dragon Rider, #1)\n",
       "1906                                         Possession"
      ]
     },
     "execution_count": 68,
     "metadata": {},
     "output_type": "execute_result"
    }
   ],
   "source": [
    "corpus_recommendations(\"The Hobbit\")"
   ]
  },
  {
   "cell_type": "markdown",
   "metadata": {
    "slideshow": {
     "slide_type": "slide"
    }
   },
   "source": [
    "### All In One (author, title,  year,  tag)\n"
   ]
  },
  {
   "cell_type": "code",
   "execution_count": 69,
   "metadata": {
    "slideshow": {
     "slide_type": "slide"
    }
   },
   "outputs": [],
   "source": [
    "#need to convert the year in books to string \n",
    "booksWithTags['original_publication_year'] = booksWithTags['original_publication_year'].astype(str)"
   ]
  },
  {
   "cell_type": "code",
   "execution_count": 70,
   "metadata": {
    "slideshow": {
     "slide_type": "slide"
    }
   },
   "outputs": [],
   "source": [
    "#title_tag = collection of text\n",
    "#corpus in this case belongs to text with mixture of authors and a\n",
    "books['all'] = (pd.Series(booksWithTags[['authors','title', 'tag_name','original_publication_year']]\n",
    "                .fillna('')\n",
    "                .values.tolist()\n",
    "                ).str.join(' '))"
   ]
  },
  {
   "cell_type": "code",
   "execution_count": 71,
   "metadata": {
    "slideshow": {
     "slide_type": "slide"
    }
   },
   "outputs": [
    {
     "name": "stdout",
     "output_type": "stream",
     "text": [
      "All In One Matrix: [[0 0 0 ... 0 0 0]\n",
      " [0 0 0 ... 0 0 0]\n",
      " [0 0 0 ... 0 0 0]\n",
      " ...\n",
      " [0 0 0 ... 0 0 0]\n",
      " [0 0 0 ... 0 0 0]\n",
      " [0 0 0 ... 0 0 0]]\n"
     ]
    }
   ],
   "source": [
    "#generating matrix for publication year and it's euclidean distance\n",
    "all_matrix = cv.fit_transform(books[\"all\"])\n",
    "print(\"All In One Matrix:\", all_matrix.toarray())"
   ]
  },
  {
   "cell_type": "code",
   "execution_count": 72,
   "metadata": {
    "slideshow": {
     "slide_type": "slide"
    }
   },
   "outputs": [
    {
     "name": "stdout",
     "output_type": "stream",
     "text": [
      "          0         1         2         3         4         5         6     \\\n",
      "0     0.000000  2.449490  2.449490  2.828427  2.828427  2.449490  2.449490   \n",
      "1     2.449490  0.000000  2.449490  2.828427  2.828427  2.449490  2.449490   \n",
      "2     2.449490  2.449490  0.000000  2.828427  2.828427  2.449490  2.449490   \n",
      "3     2.828427  2.828427  2.828427  0.000000  3.162278  2.828427  2.828427   \n",
      "4     2.828427  2.828427  2.828427  3.162278  0.000000  2.828427  2.828427   \n",
      "...        ...       ...       ...       ...       ...       ...       ...   \n",
      "9295  6.000000  6.000000  6.000000  6.164414  6.164414  6.000000  6.000000   \n",
      "9296  5.830952  5.830952  5.830952  6.000000  6.000000  5.830952  5.830952   \n",
      "9297  6.000000  6.000000  6.000000  6.164414  6.164414  6.000000  6.000000   \n",
      "9298  5.830952  5.830952  5.830952  6.000000  6.000000  5.830952  5.830952   \n",
      "9299  6.928203  6.928203  6.928203  7.071068  7.071068  6.928203  6.928203   \n",
      "\n",
      "          7         8         9     ...      9290      9291      9292  \\\n",
      "0     2.449490  2.449490  2.449490  ...  6.000000  5.830952  5.830952   \n",
      "1     2.449490  2.449490  2.449490  ...  6.000000  6.000000  6.000000   \n",
      "2     2.449490  2.449490  2.449490  ...  6.000000  6.000000  6.000000   \n",
      "3     2.828427  2.828427  2.828427  ...  6.164414  6.164414  6.164414   \n",
      "4     2.828427  2.828427  2.828427  ...  6.164414  6.164414  6.164414   \n",
      "...        ...       ...       ...  ...       ...       ...       ...   \n",
      "9295  6.000000  6.000000  6.000000  ...  3.162278  3.162278  3.162278   \n",
      "9296  5.830952  5.830952  5.830952  ...  2.828427  2.828427  2.828427   \n",
      "9297  6.000000  6.000000  6.000000  ...  2.449490  3.162278  3.162278   \n",
      "9298  5.830952  5.830952  5.830952  ...  2.828427  2.828427  2.828427   \n",
      "9299  6.928203  6.928203  6.928203  ...  3.464102  3.464102  3.464102   \n",
      "\n",
      "          9293      9294      9295      9296      9297      9298      9299  \n",
      "0     5.830952  6.000000  6.000000  5.830952  6.000000  5.830952  6.928203  \n",
      "1     5.830952  6.000000  6.000000  5.830952  6.000000  5.830952  6.928203  \n",
      "2     5.830952  6.000000  6.000000  5.830952  6.000000  5.830952  6.928203  \n",
      "3     6.000000  6.164414  6.164414  6.000000  6.164414  6.000000  7.071068  \n",
      "4     6.000000  6.164414  6.164414  6.000000  6.164414  6.000000  7.071068  \n",
      "...        ...       ...       ...       ...       ...       ...       ...  \n",
      "9295  2.828427  2.449490  0.000000  2.828427  3.162278  2.828427  3.464102  \n",
      "9296  2.449490  2.828427  2.828427  0.000000  2.828427  2.449490  3.162278  \n",
      "9297  2.828427  3.162278  3.162278  2.828427  0.000000  2.828427  3.464102  \n",
      "9298  2.449490  2.828427  2.828427  2.449490  2.828427  0.000000  3.162278  \n",
      "9299  3.162278  3.464102  3.464102  3.162278  3.464102  3.162278  0.000000  \n",
      "\n",
      "[9300 rows x 9300 columns]\n"
     ]
    }
   ],
   "source": [
    "all_euclidean_distances = pd.DataFrame(squareform(pdist(all_matrix.toarray())))\n",
    "print(all_euclidean_distances)"
   ]
  },
  {
   "cell_type": "code",
   "execution_count": 73,
   "metadata": {
    "slideshow": {
     "slide_type": "slide"
    }
   },
   "outputs": [],
   "source": [
    "# Build a 1-dimensional array with book titles\n",
    "titles = books['title']\n",
    "indices = pd.Series(books.index, index=books['title'])\n",
    "\n",
    "# Function that get book recommendations based on the euclidean distance score of book's all in one information \n",
    "def all_recommendations(title):\n",
    "    idx = indices[title]\n",
    "    euclidean_dis = list(enumerate(all_euclidean_distances[idx]))\n",
    "    euclidean_dis = sorted(euclidean_dis, key=lambda x: x[1], reverse=False)\n",
    "    euclidean_dis = euclidean_dis[1:7]\n",
    "    book_indices = [i[0] for i in euclidean_dis]\n",
    "    return titles.iloc[book_indices].to_frame()\n"
   ]
  },
  {
   "cell_type": "code",
   "execution_count": 74,
   "metadata": {
    "slideshow": {
     "slide_type": "slide"
    }
   },
   "outputs": [
    {
     "data": {
      "text/html": [
       "<div>\n",
       "<style scoped>\n",
       "    .dataframe tbody tr th:only-of-type {\n",
       "        vertical-align: middle;\n",
       "    }\n",
       "\n",
       "    .dataframe tbody tr th {\n",
       "        vertical-align: top;\n",
       "    }\n",
       "\n",
       "    .dataframe thead th {\n",
       "        text-align: right;\n",
       "    }\n",
       "</style>\n",
       "<table border=\"1\" class=\"dataframe\">\n",
       "  <thead>\n",
       "    <tr style=\"text-align: right;\">\n",
       "      <th></th>\n",
       "      <th>title</th>\n",
       "    </tr>\n",
       "  </thead>\n",
       "  <tbody>\n",
       "    <tr>\n",
       "      <th>16</th>\n",
       "      <td>Catching Fire (The Hunger Games, #2)</td>\n",
       "    </tr>\n",
       "    <tr>\n",
       "      <th>31</th>\n",
       "      <td>Of Mice and Men</td>\n",
       "    </tr>\n",
       "    <tr>\n",
       "      <th>18</th>\n",
       "      <td>The Fellowship of the Ring (The Lord of the Ri...</td>\n",
       "    </tr>\n",
       "    <tr>\n",
       "      <th>21</th>\n",
       "      <td>The Lovely Bones</td>\n",
       "    </tr>\n",
       "    <tr>\n",
       "      <th>34</th>\n",
       "      <td>The Alchemist</td>\n",
       "    </tr>\n",
       "    <tr>\n",
       "      <th>52</th>\n",
       "      <td>Eragon (The Inheritance Cycle, #1)</td>\n",
       "    </tr>\n",
       "  </tbody>\n",
       "</table>\n",
       "</div>"
      ],
      "text/plain": [
       "                                                title\n",
       "16               Catching Fire (The Hunger Games, #2)\n",
       "31                                    Of Mice and Men\n",
       "18  The Fellowship of the Ring (The Lord of the Ri...\n",
       "21                                   The Lovely Bones\n",
       "34                                      The Alchemist\n",
       "52                 Eragon (The Inheritance Cycle, #1)"
      ]
     },
     "execution_count": 74,
     "metadata": {},
     "output_type": "execute_result"
    }
   ],
   "source": [
    "all_recommendations(\"The Hobbit\")"
   ]
  },
  {
   "cell_type": "code",
   "execution_count": 75,
   "metadata": {
    "slideshow": {
     "slide_type": "slide"
    }
   },
   "outputs": [
    {
     "data": {
      "text/html": [
       "<div>\n",
       "<style scoped>\n",
       "    .dataframe tbody tr th:only-of-type {\n",
       "        vertical-align: middle;\n",
       "    }\n",
       "\n",
       "    .dataframe tbody tr th {\n",
       "        vertical-align: top;\n",
       "    }\n",
       "\n",
       "    .dataframe thead th {\n",
       "        text-align: right;\n",
       "    }\n",
       "</style>\n",
       "<table border=\"1\" class=\"dataframe\">\n",
       "  <thead>\n",
       "    <tr style=\"text-align: right;\">\n",
       "      <th></th>\n",
       "      <th>title</th>\n",
       "    </tr>\n",
       "  </thead>\n",
       "  <tbody>\n",
       "    <tr>\n",
       "      <th>33</th>\n",
       "      <td>Fifty Shades of Grey (Fifty Shades, #1)</td>\n",
       "    </tr>\n",
       "    <tr>\n",
       "      <th>14</th>\n",
       "      <td>The Diary of a Young Girl</td>\n",
       "    </tr>\n",
       "    <tr>\n",
       "      <th>18</th>\n",
       "      <td>The Fellowship of the Ring (The Lord of the Ri...</td>\n",
       "    </tr>\n",
       "    <tr>\n",
       "      <th>34</th>\n",
       "      <td>The Alchemist</td>\n",
       "    </tr>\n",
       "    <tr>\n",
       "      <th>42</th>\n",
       "      <td>Jane Eyre</td>\n",
       "    </tr>\n",
       "    <tr>\n",
       "      <th>0</th>\n",
       "      <td>The Hunger Games (The Hunger Games, #1)</td>\n",
       "    </tr>\n",
       "  </tbody>\n",
       "</table>\n",
       "</div>"
      ],
      "text/plain": [
       "                                                title\n",
       "33            Fifty Shades of Grey (Fifty Shades, #1)\n",
       "14                          The Diary of a Young Girl\n",
       "18  The Fellowship of the Ring (The Lord of the Ri...\n",
       "34                                      The Alchemist\n",
       "42                                          Jane Eyre\n",
       "0             The Hunger Games (The Hunger Games, #1)"
      ]
     },
     "execution_count": 75,
     "metadata": {},
     "output_type": "execute_result"
    }
   ],
   "source": [
    "all_recommendations(\"Twilight (Twilight, #1)\")"
   ]
  },
  {
   "cell_type": "code",
   "execution_count": 77,
   "metadata": {
    "slideshow": {
     "slide_type": "slide"
    }
   },
   "outputs": [
    {
     "data": {
      "text/html": [
       "<div>\n",
       "<style scoped>\n",
       "    .dataframe tbody tr th:only-of-type {\n",
       "        vertical-align: middle;\n",
       "    }\n",
       "\n",
       "    .dataframe tbody tr th {\n",
       "        vertical-align: top;\n",
       "    }\n",
       "\n",
       "    .dataframe thead th {\n",
       "        text-align: right;\n",
       "    }\n",
       "</style>\n",
       "<table border=\"1\" class=\"dataframe\">\n",
       "  <thead>\n",
       "    <tr style=\"text-align: right;\">\n",
       "      <th></th>\n",
       "      <th>title</th>\n",
       "    </tr>\n",
       "  </thead>\n",
       "  <tbody>\n",
       "    <tr>\n",
       "      <th>11</th>\n",
       "      <td>Divergent (Divergent, #1)</td>\n",
       "    </tr>\n",
       "    <tr>\n",
       "      <th>26</th>\n",
       "      <td>Harry Potter and the Half-Blood Prince (Harry ...</td>\n",
       "    </tr>\n",
       "    <tr>\n",
       "      <th>18</th>\n",
       "      <td>The Fellowship of the Ring (The Lord of the Ri...</td>\n",
       "    </tr>\n",
       "    <tr>\n",
       "      <th>34</th>\n",
       "      <td>The Alchemist</td>\n",
       "    </tr>\n",
       "    <tr>\n",
       "      <th>47</th>\n",
       "      <td>Fahrenheit 451</td>\n",
       "    </tr>\n",
       "    <tr>\n",
       "      <th>55</th>\n",
       "      <td>Breaking Dawn (Twilight, #4)</td>\n",
       "    </tr>\n",
       "  </tbody>\n",
       "</table>\n",
       "</div>"
      ],
      "text/plain": [
       "                                                title\n",
       "11                          Divergent (Divergent, #1)\n",
       "26  Harry Potter and the Half-Blood Prince (Harry ...\n",
       "18  The Fellowship of the Ring (The Lord of the Ri...\n",
       "34                                      The Alchemist\n",
       "47                                     Fahrenheit 451\n",
       "55                       Breaking Dawn (Twilight, #4)"
      ]
     },
     "execution_count": 77,
     "metadata": {},
     "output_type": "execute_result"
    }
   ],
   "source": [
    "all_recommendations(\"The Hunger Games (The Hunger Games, #1)\")"
   ]
  },
  {
   "cell_type": "markdown",
   "metadata": {
    "slideshow": {
     "slide_type": "-"
    }
   },
   "source": [
    "## Euclidean Distance Content Based Rec System Program"
   ]
  },
  {
   "cell_type": "raw",
   "metadata": {
    "slideshow": {
     "slide_type": "-"
    }
   },
   "source": [
    "#running this will take a lot of time!! \n",
    "\n",
    "#declaring a Count Vectorizer \n",
    "cv = CountVectorizer(analyzer='word',ngram_range=(1, 2),min_df=0, stop_words='english')\n",
    "\n",
    "#generating matrix for authors and it's euclidean distance\n",
    "author_matrix = cv.fit_transform(books[\"authors\"])\n",
    "\n",
    "#generating matrix for booktag and it's euclidean distance (why only head 10000?)\n",
    "booktag_matrix = cv.fit_transform(booksWithTags[\"tag_name\"].head(10000))\n",
    "\n",
    "#generating matrix for title and it's euclidean distance\n",
    "title_matrix = cv.fit_transform(books[\"title\"])\n",
    "\n",
    "#need to convert the year in books to string \n",
    "books['original_publication_year'] = books['original_publication_year'].astype(str)\n",
    "#generating matrix for title and it's euclidean distance\n",
    "year_matrix = cv.fit_transform(books[\"original_publication_year\"])\n",
    "\n",
    "#data that use to generate corpus recommendation during run time \n",
    "temp_df = booksWithTags.groupby('book_id')['tag_name'].apply(' '.join).reset_index()\n",
    "temp_df.head()\n",
    "books = pd.merge(books, temp_df, left_on='book_id', right_on='book_id', how='inner')\n",
    "\n",
    "#corpus = collection of text\n",
    "#corpus in this case belongs to text with mixture of authors and a\n",
    "books['corpus'] = (pd.Series(booksWithTags[['authors', 'tag_name']]\n",
    "                .fillna('')\n",
    "                .values.tolist()\n",
    "                ).str.join(' '))\n",
    "\n",
    "#generating matrix for publication year and it's euclidean distance\n",
    "corpus_matrix = cv.fit_transform(books[\"corpus\"])\n",
    "print(\"Starting recommender system... \")"
   ]
  },
  {
   "cell_type": "raw",
   "metadata": {
    "slideshow": {
     "slide_type": "-"
    }
   },
   "source": [
    "# Build a 1-dimensional array with book titles\n",
    "titles = books['title']\n",
    "indices = pd.Series(books.index, index=books['title'])\n",
    "\n",
    "# Function that get book recommendations based on the euclidean distance score of book authors\n",
    "def authors_recommendations_euclidean(title):\n",
    "    idx = indices[title]\n",
    "    euclidean_dis = list(enumerate(author_euclidean_distances[idx]))\n",
    "    euclidean_dis = sorted(euclidean_dis, key=lambda x: x[1], reverse=False)\n",
    "    euclidean_dis = euclidean_dis[1:11]\n",
    "    book_indices = [i[0] for i in euclidean_dis]\n",
    "    return titles.iloc[book_indices]\n",
    "\n",
    "# Function that get book recommendations based on the euclidean distance score of book authors\n",
    "def booktags_recommendations_euclidean(title):\n",
    "    #the index of title \n",
    "    idx = indices[title]    \n",
    "    euclidean_dis = list(enumerate(booktag_euclidean_distances[idx]))\n",
    "    euclidean_dis = sorted(euclidean_dis, key=lambda x: x[1], reverse=False)\n",
    "    euclidean_dis = euclidean_dis[1:11]\n",
    "    book_indices = [i[0] for i in euclidean_dis]\n",
    "    return titles.iloc[book_indices]\n",
    "\n",
    "# Function that get book recommendations based on the euclidean distance score of book title \n",
    "def title_recommendations_euclidean(title):\n",
    "    idx = indices[title]\n",
    "    euclidean_dis = list(enumerate(title_euclidean_distances[idx]))\n",
    "    euclidean_dis = sorted(euclidean_dis, key=lambda x: x[1], reverse=False)\n",
    "    euclidean_dis = euclidean_dis[1:11]\n",
    "    book_indices = [i[0] for i in euclidean_dis]\n",
    "    return titles.iloc[book_indices]\n",
    "\n",
    "\n",
    "# Function that get book recommendations based on the euclidean distance score of year published\n",
    "def year_recommendations_euclidean(title):\n",
    "    idx = indices[title]\n",
    "    euclidean_dis = list(enumerate(year_euclidean_distances[idx]))\n",
    "    euclidean_dis = sorted(euclidean_dis, key=lambda x: x[1], reverse=False)\n",
    "    euclidean_dis = euclidean_dis[1:11]\n",
    "    book_indices = [i[0] for i in euclidean_dis]\n",
    "    return titles.iloc[book_indices]\n",
    "\n",
    "# Function that get book recommendations based on the euclidean distance score of corpus data column\n",
    "def corpus_recommendations(title):\n",
    "    idx = indices[title]\n",
    "    euclidean_dis = list(enumerate(corpus_euclidean_distances[idx]))\n",
    "    euclidean_dis = sorted(euclidean_dis, key=lambda x: x[1], reverse=False)\n",
    "    euclidean_dis = euclidean_dis[1:11]\n",
    "    book_indices = [i[0] for i in euclidean_dis]\n",
    "    return titles.iloc[book_indices]\n",
    "\n",
    "# Function that get book recommendations based on the euclidean distance score of all in one data column\n",
    "def all_recommendations(title):\n",
    "    idx = indices[title]\n",
    "    euclidean_dis = list(enumerate(all_euclidean_distances[idx]))\n",
    "    euclidean_dis = sorted(euclidean_dis, key=lambda x: x[1], reverse=False)\n",
    "    euclidean_dis = euclidean_dis[1:11]\n",
    "    book_indices = [i[0] for i in euclidean_dis]\n",
    "    return titles.iloc[book_indices]\n"
   ]
  }
 ],
 "metadata": {
  "kernelspec": {
   "display_name": "Python 3",
   "language": "python",
   "name": "python3"
  },
  "language_info": {
   "codemirror_mode": {
    "name": "ipython",
    "version": 3
   },
   "file_extension": ".py",
   "mimetype": "text/x-python",
   "name": "python",
   "nbconvert_exporter": "python",
   "pygments_lexer": "ipython3",
   "version": "3.8.5"
  }
 },
 "nbformat": 4,
 "nbformat_minor": 4
}
