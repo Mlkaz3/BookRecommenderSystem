{
 "cells": [
  {
   "cell_type": "markdown",
   "metadata": {
    "slideshow": {
     "slide_type": "slide"
    }
   },
   "source": [
    "# RecSys5 - Nearest Neighbor Content Based\n"
   ]
  },
  {
   "cell_type": "markdown",
   "metadata": {
    "slideshow": {
     "slide_type": "slide"
    }
   },
   "source": [
    "#### Content Based Filtering Using Nearest Neighbour\n",
    "based on author \n",
    "\n",
    "https://medium.com/learning-machine-learning/recommending-animes-using-nearest-neighbors-61320a1a5934 \n",
    "https://gist.github.com/Tahsin-Mayeesha/81dcdafc61b774768b64ba5201e31e0a#file-recommending-anime-with-k-nearest-neighbor-ipynb"
   ]
  },
  {
   "cell_type": "code",
   "execution_count": 1,
   "metadata": {
    "slideshow": {
     "slide_type": "slide"
    }
   },
   "outputs": [],
   "source": [
    "import numpy as np\n",
    "import pandas as pd\n",
    "\n",
    "books = pd.read_csv (r'C:\\Users\\user\\OneDrive\\Desktop\\Artificial Intelligence\\clean dataset\\books.csv',usecols = ['book_id','authors','original_publication_year','title','average_rating','image_url'])\n",
    "ratings = pd.read_csv (r'C:\\Users\\user\\OneDrive\\Desktop\\Artificial Intelligence\\clean dataset\\ratings.csv')"
   ]
  },
  {
   "cell_type": "code",
   "execution_count": 2,
   "metadata": {
    "slideshow": {
     "slide_type": "slide"
    }
   },
   "outputs": [
    {
     "data": {
      "text/html": [
       "<div>\n",
       "<style scoped>\n",
       "    .dataframe tbody tr th:only-of-type {\n",
       "        vertical-align: middle;\n",
       "    }\n",
       "\n",
       "    .dataframe tbody tr th {\n",
       "        vertical-align: top;\n",
       "    }\n",
       "\n",
       "    .dataframe thead th {\n",
       "        text-align: right;\n",
       "    }\n",
       "</style>\n",
       "<table border=\"1\" class=\"dataframe\">\n",
       "  <thead>\n",
       "    <tr style=\"text-align: right;\">\n",
       "      <th></th>\n",
       "      <th>A. Manette Ansay</th>\n",
       "      <th>A.A. Milne, Ernest H. Shepard</th>\n",
       "      <th>A.C. Gaughen</th>\n",
       "      <th>A.G. Howard</th>\n",
       "      <th>A.J. Jacobs</th>\n",
       "      <th>A.L. Singer, Walt Disney Company</th>\n",
       "      <th>A.M. Homes</th>\n",
       "      <th>A.N. Roquelaure, Anne Rice</th>\n",
       "      <th>A.P.J. Abdul Kalam, Arun Tiwari</th>\n",
       "      <th>A.S. Byatt</th>\n",
       "      <th>...</th>\n",
       "      <th>Émile Zola, Roger Pearson</th>\n",
       "      <th>Éric-Emmanuel Schmitt</th>\n",
       "      <th>أثير عبدالله النشمي</th>\n",
       "      <th>أحمد خالد توفيق</th>\n",
       "      <th>سعود السنعوسي, Saud Alsanousi</th>\n",
       "      <th>سهراب سپهری</th>\n",
       "      <th>صلاح جاهين, يحيى حقي</th>\n",
       "      <th>عباس معروفی</th>\n",
       "      <th>عزالدين شكري فشير</th>\n",
       "      <th>عمر طاهر</th>\n",
       "    </tr>\n",
       "  </thead>\n",
       "  <tbody>\n",
       "    <tr>\n",
       "      <th>0</th>\n",
       "      <td>0</td>\n",
       "      <td>0</td>\n",
       "      <td>0</td>\n",
       "      <td>0</td>\n",
       "      <td>0</td>\n",
       "      <td>0</td>\n",
       "      <td>0</td>\n",
       "      <td>0</td>\n",
       "      <td>0</td>\n",
       "      <td>0</td>\n",
       "      <td>...</td>\n",
       "      <td>0</td>\n",
       "      <td>0</td>\n",
       "      <td>0</td>\n",
       "      <td>0</td>\n",
       "      <td>0</td>\n",
       "      <td>0</td>\n",
       "      <td>0</td>\n",
       "      <td>0</td>\n",
       "      <td>0</td>\n",
       "      <td>0</td>\n",
       "    </tr>\n",
       "    <tr>\n",
       "      <th>1</th>\n",
       "      <td>0</td>\n",
       "      <td>0</td>\n",
       "      <td>0</td>\n",
       "      <td>0</td>\n",
       "      <td>0</td>\n",
       "      <td>0</td>\n",
       "      <td>0</td>\n",
       "      <td>0</td>\n",
       "      <td>0</td>\n",
       "      <td>0</td>\n",
       "      <td>...</td>\n",
       "      <td>0</td>\n",
       "      <td>0</td>\n",
       "      <td>0</td>\n",
       "      <td>0</td>\n",
       "      <td>0</td>\n",
       "      <td>0</td>\n",
       "      <td>0</td>\n",
       "      <td>0</td>\n",
       "      <td>0</td>\n",
       "      <td>0</td>\n",
       "    </tr>\n",
       "    <tr>\n",
       "      <th>2</th>\n",
       "      <td>0</td>\n",
       "      <td>0</td>\n",
       "      <td>0</td>\n",
       "      <td>0</td>\n",
       "      <td>0</td>\n",
       "      <td>0</td>\n",
       "      <td>0</td>\n",
       "      <td>0</td>\n",
       "      <td>0</td>\n",
       "      <td>0</td>\n",
       "      <td>...</td>\n",
       "      <td>0</td>\n",
       "      <td>0</td>\n",
       "      <td>0</td>\n",
       "      <td>0</td>\n",
       "      <td>0</td>\n",
       "      <td>0</td>\n",
       "      <td>0</td>\n",
       "      <td>0</td>\n",
       "      <td>0</td>\n",
       "      <td>0</td>\n",
       "    </tr>\n",
       "    <tr>\n",
       "      <th>3</th>\n",
       "      <td>0</td>\n",
       "      <td>0</td>\n",
       "      <td>0</td>\n",
       "      <td>0</td>\n",
       "      <td>0</td>\n",
       "      <td>0</td>\n",
       "      <td>0</td>\n",
       "      <td>0</td>\n",
       "      <td>0</td>\n",
       "      <td>0</td>\n",
       "      <td>...</td>\n",
       "      <td>0</td>\n",
       "      <td>0</td>\n",
       "      <td>0</td>\n",
       "      <td>0</td>\n",
       "      <td>0</td>\n",
       "      <td>0</td>\n",
       "      <td>0</td>\n",
       "      <td>0</td>\n",
       "      <td>0</td>\n",
       "      <td>0</td>\n",
       "    </tr>\n",
       "    <tr>\n",
       "      <th>4</th>\n",
       "      <td>0</td>\n",
       "      <td>0</td>\n",
       "      <td>0</td>\n",
       "      <td>0</td>\n",
       "      <td>0</td>\n",
       "      <td>0</td>\n",
       "      <td>0</td>\n",
       "      <td>0</td>\n",
       "      <td>0</td>\n",
       "      <td>0</td>\n",
       "      <td>...</td>\n",
       "      <td>0</td>\n",
       "      <td>0</td>\n",
       "      <td>0</td>\n",
       "      <td>0</td>\n",
       "      <td>0</td>\n",
       "      <td>0</td>\n",
       "      <td>0</td>\n",
       "      <td>0</td>\n",
       "      <td>0</td>\n",
       "      <td>0</td>\n",
       "    </tr>\n",
       "  </tbody>\n",
       "</table>\n",
       "<p>5 rows × 4397 columns</p>\n",
       "</div>"
      ],
      "text/plain": [
       "   A. Manette Ansay  A.A. Milne, Ernest H. Shepard  A.C. Gaughen  A.G. Howard  \\\n",
       "0                 0                              0             0            0   \n",
       "1                 0                              0             0            0   \n",
       "2                 0                              0             0            0   \n",
       "3                 0                              0             0            0   \n",
       "4                 0                              0             0            0   \n",
       "\n",
       "   A.J. Jacobs  A.L. Singer, Walt Disney Company  A.M. Homes  \\\n",
       "0            0                                 0           0   \n",
       "1            0                                 0           0   \n",
       "2            0                                 0           0   \n",
       "3            0                                 0           0   \n",
       "4            0                                 0           0   \n",
       "\n",
       "   A.N. Roquelaure, Anne Rice  A.P.J. Abdul Kalam, Arun Tiwari  A.S. Byatt  \\\n",
       "0                           0                                0           0   \n",
       "1                           0                                0           0   \n",
       "2                           0                                0           0   \n",
       "3                           0                                0           0   \n",
       "4                           0                                0           0   \n",
       "\n",
       "   ...  Émile Zola, Roger Pearson  Éric-Emmanuel Schmitt  أثير عبدالله النشمي  \\\n",
       "0  ...                          0                      0                    0   \n",
       "1  ...                          0                      0                    0   \n",
       "2  ...                          0                      0                    0   \n",
       "3  ...                          0                      0                    0   \n",
       "4  ...                          0                      0                    0   \n",
       "\n",
       "   أحمد خالد توفيق  سعود السنعوسي, Saud Alsanousi  سهراب سپهری  \\\n",
       "0                0                              0            0   \n",
       "1                0                              0            0   \n",
       "2                0                              0            0   \n",
       "3                0                              0            0   \n",
       "4                0                              0            0   \n",
       "\n",
       "   صلاح جاهين, يحيى حقي  عباس معروفی  عزالدين شكري فشير  عمر طاهر  \n",
       "0                     0            0                  0         0  \n",
       "1                     0            0                  0         0  \n",
       "2                     0            0                  0         0  \n",
       "3                     0            0                  0         0  \n",
       "4                     0            0                  0         0  \n",
       "\n",
       "[5 rows x 4397 columns]"
      ]
     },
     "execution_count": 2,
     "metadata": {},
     "output_type": "execute_result"
    }
   ],
   "source": [
    "#categorical -> indicator\n",
    "authors = pd.get_dummies(books[\"authors\"])\n",
    "authors.head()"
   ]
  },
  {
   "cell_type": "code",
   "execution_count": 3,
   "metadata": {
    "slideshow": {
     "slide_type": "slide"
    }
   },
   "outputs": [],
   "source": [
    "#scaling features\n",
    "from sklearn.preprocessing import MinMaxScaler\n",
    "min_max_scaler = MinMaxScaler()\n",
    "books_author = min_max_scaler.fit_transform(authors)"
   ]
  },
  {
   "cell_type": "code",
   "execution_count": 4,
   "metadata": {
    "slideshow": {
     "slide_type": "slide"
    }
   },
   "outputs": [
    {
     "data": {
      "text/plain": [
       "array([[0., 0., 0., ..., 0., 0., 0.],\n",
       "       [0., 0., 0., ..., 0., 0., 0.],\n",
       "       [0., 0., 0., ..., 0., 0., 0.],\n",
       "       ...,\n",
       "       [0., 0., 0., ..., 0., 0., 0.],\n",
       "       [0., 0., 0., ..., 0., 0., 0.],\n",
       "       [0., 0., 0., ..., 0., 0., 0.]])"
      ]
     },
     "execution_count": 4,
     "metadata": {},
     "output_type": "execute_result"
    }
   ],
   "source": [
    "np.round(books_author,2)"
   ]
  },
  {
   "cell_type": "code",
   "execution_count": 5,
   "metadata": {
    "slideshow": {
     "slide_type": "slide"
    }
   },
   "outputs": [],
   "source": [
    "from sklearn.neighbors import NearestNeighbors\n",
    "#as 6 of them will be return and one representing itself \n",
    "kdtree_nbrs = NearestNeighbors(n_neighbors =7,algorithm =\"brute\").fit(books_author)\n",
    "kd_distances, kd_indices = kdtree_nbrs.kneighbors(books_author)"
   ]
  },
  {
   "cell_type": "code",
   "execution_count": 6,
   "metadata": {
    "slideshow": {
     "slide_type": "slide"
    }
   },
   "outputs": [],
   "source": [
    "#return a book title name based on book index\n",
    "def get_index_from_name(name):\n",
    "    return books[books[\"title\"]==name].index.tolist()[0]"
   ]
  },
  {
   "cell_type": "code",
   "execution_count": 7,
   "metadata": {
    "slideshow": {
     "slide_type": "slide"
    }
   },
   "outputs": [],
   "source": [
    "all_books_title = list(books.title.values)\n",
    "def get_id_from_partial_title(partial):\n",
    "    count = 6\n",
    "    df1 = pd.DataFrame(columns =['title', 'book_id'])\n",
    "    for title in all_books_title:\n",
    "        if partial in title and (count != 0):\n",
    "            print(title)\n",
    "            count-=1\n",
    "    return count"
   ]
  },
  {
   "cell_type": "code",
   "execution_count": 8,
   "metadata": {
    "slideshow": {
     "slide_type": "slide"
    }
   },
   "outputs": [],
   "source": [
    "#id is for based on book id \n",
    "#query is for based on book title \n",
    "def kd_print_similar_books(query=None,id=None):\n",
    "    if id: \n",
    "        for id in kd_indices[id][1:]:\n",
    "            print(books.loc[id][\"title\"])\n",
    "    if query:\n",
    "        found_id = get_index_from_name(query)\n",
    "        for id in kd_indices[found_id][1:]:\n",
    "            print(books.loc[id][\"title\"])"
   ]
  },
  {
   "cell_type": "code",
   "execution_count": 9,
   "metadata": {
    "slideshow": {
     "slide_type": "slide"
    }
   },
   "outputs": [
    {
     "name": "stdout",
     "output_type": "stream",
     "text": [
      "The Twilight Saga: The Official Illustrated Guide (Twilight, #4.5)\n",
      "The Twilight Collection (Twilight, #1-3)\n",
      "New Moon (Twilight, #2)\n",
      "The Short Second Life of Bree Tanner: An Eclipse Novella (Twilight, #3.5)\n",
      "The Twilight Saga Complete Collection  (Twilight, #1-4 + 3.5)\n",
      "Twilight (Twilight, #1)\n"
     ]
    }
   ],
   "source": [
    "kd_print_similar_books(query=\"Twilight (Twilight, #1)\")"
   ]
  },
  {
   "cell_type": "code",
   "execution_count": 10,
   "metadata": {
    "slideshow": {
     "slide_type": "slide"
    }
   },
   "outputs": [
    {
     "name": "stdout",
     "output_type": "stream",
     "text": [
      "You Can Win: A Step by Step Tool for Top Achievers\n",
      "The League of Extraordinary Gentlemen, Vol. 2\n",
      "The Outcasts (Brotherband Chronicles, #1)\n",
      "How to Talk to Anyone: 92 Little Tricks for Big Success in Relationships\n",
      "Big Bang: The Origin of the Universe\n",
      "Birds of a Feather (Maisie Dobbs, #2)\n"
     ]
    }
   ],
   "source": [
    "kd_print_similar_books(query=\"Romeo and Juliet\")"
   ]
  },
  {
   "cell_type": "code",
   "execution_count": 11,
   "metadata": {
    "slideshow": {
     "slide_type": "slide"
    }
   },
   "outputs": [
    {
     "name": "stdout",
     "output_type": "stream",
     "text": [
      "The Fellowship of the Ring (The Lord of the Rings, #1)\n",
      "The Hobbit\n",
      "J.R.R. Tolkien 4-Book Boxed Set: The Hobbit and The Lord of the Rings\n",
      "The Lord of the Rings (The Lord of the Rings, #1-3)\n",
      "The Two Towers (The Lord of the Rings, #2)\n",
      "You Can Win: A Step by Step Tool for Top Achievers\n"
     ]
    }
   ],
   "source": [
    "kd_print_similar_books(query=\"The Hobbit\")"
   ]
  },
  {
   "cell_type": "code",
   "execution_count": 12,
   "metadata": {
    "slideshow": {
     "slide_type": "slide"
    }
   },
   "outputs": [
    {
     "name": "stdout",
     "output_type": "stream",
     "text": [
      "The Fellowship of the Ring (The Lord of the Rings, #1)\n",
      "The Hobbit\n",
      "J.R.R. Tolkien 4-Book Boxed Set: The Hobbit and The Lord of the Rings\n",
      "The Lord of the Rings (The Lord of the Rings, #1-3)\n",
      "The Two Towers (The Lord of the Rings, #2)\n",
      "You Can Win: A Step by Step Tool for Top Achievers\n"
     ]
    }
   ],
   "source": [
    "kd_print_similar_books(query=\"The Hobbit\")"
   ]
  },
  {
   "cell_type": "code",
   "execution_count": 13,
   "metadata": {
    "slideshow": {
     "slide_type": "slide"
    }
   },
   "outputs": [
    {
     "name": "stdout",
     "output_type": "stream",
     "text": [
      "The Fellowship of the Ring (The Lord of the Rings, #1)\n",
      "The Hobbit\n",
      "J.R.R. Tolkien 4-Book Boxed Set: The Hobbit and The Lord of the Rings\n",
      "The Lord of the Rings (The Lord of the Rings, #1-3)\n",
      "The Two Towers (The Lord of the Rings, #2)\n",
      "You Can Win: A Step by Step Tool for Top Achievers\n"
     ]
    }
   ],
   "source": [
    "kd_print_similar_books(query=\"The Hobbit\")"
   ]
  },
  {
   "cell_type": "code",
   "execution_count": 14,
   "metadata": {
    "slideshow": {
     "slide_type": "slide"
    }
   },
   "outputs": [
    {
     "name": "stdout",
     "output_type": "stream",
     "text": [
      "The Fellowship of the Ring (The Lord of the Rings, #1)\n",
      "The Hobbit\n",
      "J.R.R. Tolkien 4-Book Boxed Set: The Hobbit and The Lord of the Rings\n",
      "The Lord of the Rings (The Lord of the Rings, #1-3)\n",
      "The Two Towers (The Lord of the Rings, #2)\n",
      "You Can Win: A Step by Step Tool for Top Achievers\n"
     ]
    }
   ],
   "source": [
    "kd_print_similar_books(query=\"The Hobbit\")"
   ]
  },
  {
   "cell_type": "code",
   "execution_count": 15,
   "metadata": {
    "slideshow": {
     "slide_type": "slide"
    }
   },
   "outputs": [
    {
     "name": "stdout",
     "output_type": "stream",
     "text": [
      "The Fellowship of the Ring (The Lord of the Rings, #1)\n",
      "The Hobbit\n",
      "J.R.R. Tolkien 4-Book Boxed Set: The Hobbit and The Lord of the Rings\n",
      "The Lord of the Rings (The Lord of the Rings, #1-3)\n",
      "The Two Towers (The Lord of the Rings, #2)\n",
      "You Can Win: A Step by Step Tool for Top Achievers\n"
     ]
    }
   ],
   "source": [
    "kd_print_similar_books(query=\"The Hobbit\")"
   ]
  },
  {
   "cell_type": "code",
   "execution_count": 16,
   "metadata": {
    "slideshow": {
     "slide_type": "slide"
    }
   },
   "outputs": [
    {
     "name": "stdout",
     "output_type": "stream",
     "text": [
      "The Fellowship of the Ring (The Lord of the Rings, #1)\n",
      "The Hobbit\n",
      "J.R.R. Tolkien 4-Book Boxed Set: The Hobbit and The Lord of the Rings\n",
      "The Lord of the Rings (The Lord of the Rings, #1-3)\n",
      "The Two Towers (The Lord of the Rings, #2)\n",
      "You Can Win: A Step by Step Tool for Top Achievers\n"
     ]
    }
   ],
   "source": [
    "kd_print_similar_books(query=\"The Hobbit\")"
   ]
  },
  {
   "cell_type": "code",
   "execution_count": 17,
   "metadata": {
    "slideshow": {
     "slide_type": "slide"
    }
   },
   "outputs": [
    {
     "name": "stdout",
     "output_type": "stream",
     "text": [
      "The Fellowship of the Ring (The Lord of the Rings, #1)\n",
      "The Hobbit\n",
      "J.R.R. Tolkien 4-Book Boxed Set: The Hobbit and The Lord of the Rings\n",
      "The Lord of the Rings (The Lord of the Rings, #1-3)\n",
      "The Two Towers (The Lord of the Rings, #2)\n",
      "You Can Win: A Step by Step Tool for Top Achievers\n"
     ]
    }
   ],
   "source": [
    "kd_print_similar_books(query=\"The Hobbit\")"
   ]
  },
  {
   "cell_type": "code",
   "execution_count": 18,
   "metadata": {
    "slideshow": {
     "slide_type": "slide"
    }
   },
   "outputs": [
    {
     "name": "stdout",
     "output_type": "stream",
     "text": [
      "The Fellowship of the Ring (The Lord of the Rings, #1)\n",
      "The Hobbit\n",
      "J.R.R. Tolkien 4-Book Boxed Set: The Hobbit and The Lord of the Rings\n",
      "The Lord of the Rings (The Lord of the Rings, #1-3)\n",
      "The Two Towers (The Lord of the Rings, #2)\n",
      "You Can Win: A Step by Step Tool for Top Achievers\n"
     ]
    }
   ],
   "source": [
    "kd_print_similar_books(query=\"The Hobbit\")"
   ]
  },
  {
   "cell_type": "code",
   "execution_count": 19,
   "metadata": {
    "slideshow": {
     "slide_type": "slide"
    }
   },
   "outputs": [
    {
     "name": "stdout",
     "output_type": "stream",
     "text": [
      "To Kill a Mockingbird\n",
      "Big Bang: The Origin of the Universe\n",
      "Birds of a Feather (Maisie Dobbs, #2)\n",
      "The Outcasts (Brotherband Chronicles, #1)\n",
      "The League of Extraordinary Gentlemen, Vol. 2\n",
      "A Wedding in December\n"
     ]
    }
   ],
   "source": [
    "kd_print_similar_books(id=3)"
   ]
  },
  {
   "cell_type": "code",
   "execution_count": 20,
   "metadata": {
    "scrolled": true,
    "slideshow": {
     "slide_type": "slide"
    }
   },
   "outputs": [
    {
     "name": "stdout",
     "output_type": "stream",
     "text": [
      "Harry Potter and the Sorcerer's Stone (Harry Potter, #1)\n",
      "Harry Potter and the Prisoner of Azkaban (Harry Potter, #3)\n",
      "Harry Potter and the Order of the Phoenix (Harry Potter, #5)\n",
      "Harry Potter and the Chamber of Secrets (Harry Potter, #2)\n",
      "Harry Potter and the Goblet of Fire (Harry Potter, #4)\n",
      "Harry Potter and the Deathly Hallows (Harry Potter, #7)\n"
     ]
    }
   ],
   "source": [
    "#return book title from partial title \n",
    "par_title = get_id_from_partial_title(\"Harry\")"
   ]
  },
  {
   "cell_type": "markdown",
   "metadata": {
    "slideshow": {
     "slide_type": "slide"
    }
   },
   "source": [
    "#### Nearest Neighbor Recommendation Program"
   ]
  },
  {
   "cell_type": "code",
   "execution_count": 21,
   "metadata": {
    "scrolled": true,
    "slideshow": {
     "slide_type": "slide"
    }
   },
   "outputs": [
    {
     "name": "stdout",
     "output_type": "stream",
     "text": [
      "Starting Nearest Neighbor Recommendation System..\n",
      "Entering Nearest Neighbor Recommendation System..\n",
      "[Enter 0 to exist the system]\n",
      "Enter a book name that you like:Harry\n",
      "\n",
      "The book you are seeking for does not exist.\n",
      "Searching related books...\n",
      "...\n",
      "Harry Potter and the Sorcerer's Stone (Harry Potter, #1)\n",
      "Harry Potter and the Prisoner of Azkaban (Harry Potter, #3)\n",
      "Harry Potter and the Order of the Phoenix (Harry Potter, #5)\n",
      "Harry Potter and the Chamber of Secrets (Harry Potter, #2)\n",
      "Harry Potter and the Goblet of Fire (Harry Potter, #4)\n",
      "Harry Potter and the Deathly Hallows (Harry Potter, #7)\n",
      "\n",
      "[Enter 0 to exist the system]\n",
      "Enter a book name that you like:Romeo and Juliet\n",
      "\n",
      "Books that you may like\n",
      "-----------------------\n",
      "You Can Win: A Step by Step Tool for Top Achievers\n",
      "The League of Extraordinary Gentlemen, Vol. 2\n",
      "The Outcasts (Brotherband Chronicles, #1)\n",
      "How to Talk to Anyone: 92 Little Tricks for Big Success in Relationships\n",
      "Big Bang: The Origin of the Universe\n",
      "Birds of a Feather (Maisie Dobbs, #2)\n",
      "\n",
      "[Enter 0 to exist the system]\n",
      "Enter a book name that you like:0\n",
      "Exiting recommender system...\n",
      "I hope you enjoy using this recommender system\n"
     ]
    }
   ],
   "source": [
    "import time\n",
    "print(\"Starting Nearest Neighbor Recommendation System..\")\n",
    "\n",
    "time.sleep(1)\n",
    "\n",
    "print(\"Entering Nearest Neighbor Recommendation System..\")\n",
    "user_book = \"\"\n",
    "while user_book != \"0\":\n",
    "    print(\"[Enter 0 to exist the system]\")\n",
    "    user_book = input(\"Enter a book name that you like:\")\n",
    "    \n",
    "    #checking wether the book title exist in the dataset\n",
    "    exists = user_book in books.title.values\n",
    "    \n",
    "    \n",
    "    if (user_book == \"0\"):\n",
    "        print(\"Exiting recommender system...\")\n",
    "        time.sleep(1)\n",
    "        print(\"I hope you enjoy using this recommender system\")\n",
    "        break\n",
    "    elif (exists == False):\n",
    "        #book does not exist \n",
    "        #print the recommendation based on the partial \n",
    "        print(\"\")\n",
    "        print(\"The book you are seeking for does not exist.\")\n",
    "        print(\"Searching related books...\")\n",
    "        print(\"...\")\n",
    "        \n",
    "        #checking wether the partial title return a value \n",
    "        count_return = get_id_from_partial_title(user_book)\n",
    "        \n",
    "        if count_return == 10:\n",
    "            print(\"Oops, no result found at the moment.\")            \n",
    "        print(\"\")\n",
    "    else:\n",
    "        #book exist \n",
    "        #perform nearest neighbor sorting \n",
    "        print(\"\")\n",
    "        print(\"Books that you may like\")\n",
    "        print(\"-----------------------\")\n",
    "        kd_print_similar_books(user_book)\n",
    "        print(\"\")"
   ]
  },
  {
   "cell_type": "code",
   "execution_count": 22,
   "metadata": {},
   "outputs": [
    {
     "name": "stdout",
     "output_type": "stream",
     "text": [
      "The Hunger Games Trilogy Boxset (The Hunger Games, #1-3)\n",
      "Gregor and the Marks of Secret (Underland Chronicles, #4)\n",
      "Catching Fire (The Hunger Games, #2)\n",
      "Gregor the Overlander (Underland Chronicles, #1)\n",
      "Gregor and the Code of Claw (Underland Chronicles, #5)\n",
      "Gregor and the Prophecy of Bane (Underland Chronicles, #2)\n"
     ]
    }
   ],
   "source": [
    "kd_print_similar_books(query=\"The Hunger Games (The Hunger Games, #1)\")"
   ]
  },
  {
   "cell_type": "code",
   "execution_count": 23,
   "metadata": {},
   "outputs": [
    {
     "name": "stdout",
     "output_type": "stream",
     "text": [
      "You Can Win: A Step by Step Tool for Top Achievers\n",
      "The League of Extraordinary Gentlemen, Vol. 2\n",
      "The Outcasts (Brotherband Chronicles, #1)\n",
      "How to Talk to Anyone: 92 Little Tricks for Big Success in Relationships\n",
      "Big Bang: The Origin of the Universe\n",
      "Birds of a Feather (Maisie Dobbs, #2)\n"
     ]
    }
   ],
   "source": [
    "kd_print_similar_books(query=\"Romeo and Juliet\")"
   ]
  }
 ],
 "metadata": {
  "kernelspec": {
   "display_name": "Python 3",
   "language": "python",
   "name": "python3"
  },
  "language_info": {
   "codemirror_mode": {
    "name": "ipython",
    "version": 3
   },
   "file_extension": ".py",
   "mimetype": "text/x-python",
   "name": "python",
   "nbconvert_exporter": "python",
   "pygments_lexer": "ipython3",
   "version": "3.8.5"
  }
 },
 "nbformat": 4,
 "nbformat_minor": 4
}
